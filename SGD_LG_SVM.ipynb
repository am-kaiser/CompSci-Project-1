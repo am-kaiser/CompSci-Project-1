{
 "cells": [
  {
   "cell_type": "markdown",
   "id": "0dd9064a",
   "metadata": {},
   "source": [
    "# Write your own Stochastic Gradient Descent code, first step "
   ]
  },
  {
   "cell_type": "code",
   "execution_count": 3,
   "id": "2807903d",
   "metadata": {},
   "outputs": [],
   "source": [
    "'''\n",
    "OLS grad => (2/len(yi))*xi.T @((xi @ theta) - yi)\n",
    "Ridge grad => (2/len(yi))*xi.T @ (xi @ (theta)-yi)+2*lmbda*theta\n",
    "'''\n",
    "\n",
    "def learning_schedule(t):\n",
    "    return t0/(t + t1)\n",
    "\n",
    "def SGD(xi,yi,theta,eta,lmbda = 0.001):\n",
    "    #grad = (2/len(yi))*xi.T @((xi @ theta) - yi)\n",
    "    grad = (2/len(yi))*xi.T @ (xi @ (theta)-yi)+2*lmbda*theta\n",
    "    theta = theta - eta*grad \n",
    "    return theta\n",
    "\n",
    "def SGDmomentum(xi,yi,theta,eta,momentum=0.9,lmbda=0.001):\n",
    "    vt = np.zeros((xi.shape[1],yi.shape[1]))\n",
    "    #gt = 2*xi.T @((xi @ theta) - yi)\n",
    "    gt = (2/len(yi))*xi.T @ (xi @ (theta)-yi)+2*lmbda*theta\n",
    "    vt = momentum*vt + eta*gt\n",
    "    theta = theta - vt\n",
    "    return theta\n",
    "\n",
    "def RMSprop(xi,yi,theta,st,eta=1e-3,beta=0.9,eps=1e-8,lmbda = 0.001):\n",
    "    #gt = 2*xi.T @((xi @ theta) - yi)\n",
    "    gt = (2/len(yi))*xi.T @ (xi @ (theta)-yi)+2*lmbda*theta\n",
    "    st = beta*st + (1-beta)*gt*gt\n",
    "    theta = theta - eta*gt/(np.sqrt(st + eps))\n",
    "    return theta, st\n",
    "\n",
    "def ADAM(xi,yi,theta,t,mt,st,eta,beta1=0.90,beta2=0.99,eps=1e-7,lmbda = 0.001):\n",
    "    #gt = 2*xi.T @((xi @ theta) - yi)\n",
    "    gt = (2/len(yi))*xi.T @ (xi @ (theta)-yi)+2*lmbda*theta\n",
    "    mt = beta1*mt + (1-beta1)*gt\n",
    "    st = beta2*st + (1-beta2)*gt*gt \n",
    "    mt = mt/(1-beta1**t)\n",
    "    st = st/(1-beta2**t)\n",
    "    theta = theta - eta*mt/(np.sqrt(st)+eps)\n",
    "    return theta, mt, st"
   ]
  },
  {
   "cell_type": "code",
   "execution_count": 4,
   "id": "011d1aa8",
   "metadata": {},
   "outputs": [
    {
     "name": "stdout",
     "output_type": "stream",
     "text": [
      "[[3.97934569]\n",
      " [2.94486879]]\n"
     ]
    }
   ],
   "source": [
    "import numpy as np \n",
    "from sklearn.utils import resample\n",
    "\n",
    "# Stochastic Gradient Descent \n",
    "\n",
    "n = 300 # num of data points \n",
    "x = 2*np.random.randn(n,1)\n",
    "y = 4+3*x + np.random.randn(n,1)\n",
    "X = np.zeros((n,2))\n",
    "\n",
    "X[:,0] = 1 \n",
    "X[:,1] = x.flatten()\n",
    "\n",
    "theta = np.random.randn(2,1)\n",
    "\n",
    "\n",
    "\n",
    "n_epochs = 1000\n",
    "M = 1 # size of each minibatch \n",
    "m = int(n/M) # num of minibatches \n",
    "\n",
    "t0, t1 = 5, 50\n",
    "\n",
    "# initialization\n",
    "mt = np.zeros((2,1))\n",
    "st = np.zeros((2,1))\n",
    "t = 0  \n",
    "\n",
    "# shuffle the data \n",
    "X, y = resample(X,y)\n",
    "for epoch in range(n_epochs):\n",
    "    for i in range(m):\n",
    "        random_index = np.random.randint(m)\n",
    "        xi = X[random_index:random_index+M]\n",
    "        yi = y[random_index:random_index+M]\n",
    "        \n",
    "        eta = learning_schedule(epoch*m + i)\n",
    "        t = t + 1\n",
    "        #theta = SGDmomentum(xi,yi,theta,eta)\n",
    "        #theta = SGD(xi,yi,theta,eta)\n",
    "        #theta, st = RMSprop(xi,yi,theta,st,eta)\n",
    "        theta, mt, st = ADAM(xi,yi,theta,t,mt,st,eta)\n",
    "\n",
    "print(theta)"
   ]
  },
  {
   "cell_type": "markdown",
   "id": "5b2156de",
   "metadata": {},
   "source": [
    "# Part g: Write your Logistic Regression, final step "
   ]
  },
  {
   "cell_type": "code",
   "execution_count": 5,
   "id": "64804de1",
   "metadata": {},
   "outputs": [],
   "source": [
    "import matplotlib.pyplot as plt \n",
    "def skl_minmaxscaler(X):\n",
    "    from sklearn.preprocessing import MinMaxScaler\n",
    "    X_scaled = MinMaxScaler().fit_transform(X)\n",
    "    return X_scaled\n",
    "\n",
    "def sigmoid(beta,X):\n",
    "    assert beta.shape[0]==X.shape[1]\n",
    "    t = X @ beta\n",
    "    p = np.exp(t)/(1+np.exp(t))\n",
    "    return p \n",
    "\n",
    "def LG(xi,yi,theta,epoch,eta=1e-3):\n",
    "    p = sigmoid(theta,xi)\n",
    "    b = -xi.T @ (yi - p)\n",
    "    theta = theta - eta*b \n",
    "    return theta\n"
   ]
  },
  {
   "cell_type": "code",
   "execution_count": 29,
   "id": "5342051a",
   "metadata": {},
   "outputs": [
    {
     "name": "stdout",
     "output_type": "stream",
     "text": [
      "0.9020979020979021\n"
     ]
    }
   ],
   "source": [
    "from sklearn.datasets import load_breast_cancer\n",
    "from sklearn.model_selection import  train_test_split \n",
    "cancer = load_breast_cancer()\n",
    "import pandas as pd\n",
    "\n",
    "cancer = load_breast_cancer()\n",
    "\n",
    "X_train, X_test, y_train, y_test = train_test_split(cancer.data,cancer.target,random_state=0)\n",
    "X_train = skl_minmaxscaler(X_train)\n",
    "X_test = skl_minmaxscaler(X_test)\n",
    "\n",
    "intercept_train = np.ones(X_train.shape[0])[:,np.newaxis]\n",
    "intercept_test = np.ones(X_test.shape[0])[:,np.newaxis]\n",
    "X_train = np.concatenate((intercept_train,X_train),axis=1)\n",
    "X_test = np.concatenate((intercept_test,X_test),axis=1)\n",
    "\n",
    "assert np.max(X_train)-1 < 1e-9\n",
    "assert np.min(X_train) < 1e-9 \n",
    "\n",
    "\n",
    "theta = np.random.randn(X_train.shape[1],1)\n",
    "\n",
    "n_epochs = 1000\n",
    "M = 1       # size of each minibatch \n",
    "m = int(n/M)    # num of minibatches \n",
    "\n",
    "t0, t1 = 5, 50\n",
    "\n",
    "# initialization\n",
    "mt = np.zeros((2,1))\n",
    "st = np.zeros((2,1))\n",
    "t = 0  \n",
    "\n",
    "# shuffle data\n",
    "X, y = resample(X_train,y_train) \n",
    "\n",
    "for epoch in range(n_epochs):\n",
    "    for i in range(m):\n",
    "        random_index = np.random.randint(m)\n",
    "        xi = X[random_index:random_index+M]\n",
    "        yi = y[random_index:random_index+M][:,np.newaxis]\n",
    "        \n",
    "        eta = learning_schedule(epoch*m + i)\n",
    "        t = t + 1\n",
    "        theta = LG(xi,yi,theta,epoch,eta)\n",
    "\n",
    "# calculate y_pred\n",
    "y_raw = X_test @ theta\n",
    "y_pred = []\n",
    "for i in range(len(y_raw)):\n",
    "    if y_raw[i:i+1] >= 0:\n",
    "        y_pred.append(1)\n",
    "    elif y_raw[i:i+1] < 0:\n",
    "        y_pred.append(0)\n",
    "        \n",
    "# Calculate accuracy \n",
    "accuracy = np.mean(y_pred == y_test)\n",
    "print(accuracy)"
   ]
  },
  {
   "cell_type": "code",
   "execution_count": 30,
   "id": "c7d91b79",
   "metadata": {},
   "outputs": [
    {
     "data": {
      "text/plain": [
       "<matplotlib.legend.Legend at 0x7f01a8bd55d0>"
      ]
     },
     "execution_count": 30,
     "metadata": {},
     "output_type": "execute_result"
    },
    {
     "data": {
      "image/png": "[encoded data removed]",
      "text/plain": [
       "<Figure size 432x288 with 1 Axes>"
      ]
     },
     "metadata": {
      "needs_background": "light"
     },
     "output_type": "display_data"
    }
   ],
   "source": [
    "plt.plot(y_pred,'ro',label='prediction')\n",
    "plt.plot(y_test,'go',alpha=0.5,label='test data')\n",
    "plt.legend()"
   ]
  },
  {
   "cell_type": "markdown",
   "id": "09d970fb",
   "metadata": {},
   "source": [
    "# Benchmarking "
   ]
  },
  {
   "cell_type": "code",
   "execution_count": 8,
   "id": "41076495",
   "metadata": {},
   "outputs": [
    {
     "name": "stdout",
     "output_type": "stream",
     "text": [
      "(300, 1)\n",
      "[[-11.72545858]\n",
      " [ -2.17522977]\n",
      " [ 12.20861943]]\n",
      "0.9866666666666667\n"
     ]
    },
    {
     "data": {
      "image/png": "[encoded data removed]",
      "text/plain": [
       "<Figure size 432x288 with 1 Axes>"
      ]
     },
     "metadata": {
      "needs_background": "light"
     },
     "output_type": "display_data"
    }
   ],
   "source": [
    "import numpy as np \n",
    "from sklearn.utils import resample\n",
    "\n",
    "# Stochastic Gradient Descent \n",
    "\n",
    "n = 300 # num of data points \n",
    "x = 2*np.random.randn(n,1)\n",
    "y = 4+3*x + 0.1*np.random.randn(n,1)\n",
    "plt.plot(y)\n",
    "y = np.array([1 if yy>17 else 0 for yy in y])[:,np.newaxis]\n",
    "print(y.shape)\n",
    "X = np.zeros((n,2))\n",
    "\n",
    "X[:,0] = 1 \n",
    "X[:,1] = x.flatten()\n",
    "\n",
    "X_train, X_test, y_train, y_test = train_test_split(X,y,random_state=0)\n",
    "X_train = skl_minmaxscaler(X_train)\n",
    "X_test = skl_minmaxscaler(X_test)\n",
    "\n",
    "intercept_train = np.ones(X_train.shape[0])[:,np.newaxis]\n",
    "intercept_test = np.ones(X_test.shape[0])[:,np.newaxis]\n",
    "X_train = np.concatenate((intercept_train,X_train),axis=1)\n",
    "X_test = np.concatenate((intercept_test,X_test),axis=1)\n",
    "\n",
    "theta = np.random.randn(X_train.shape[1],1)\n",
    "\n",
    "\n",
    "\n",
    "n_epochs = 10000\n",
    "M = 20 # size of each minibatch \n",
    "m = int(n/M) # num of minibatches \n",
    "\n",
    "t0, t1 = 5, 50\n",
    "\n",
    "# initialization\n",
    "mt = np.zeros((X_train.shape[1],1))\n",
    "st = np.zeros((X_train.shape[1],1))\n",
    "t = 0  \n",
    "\n",
    "# shuffle the data \n",
    "X, y = resample(X_train,y_train)\n",
    "for epoch in range(n_epochs):\n",
    "    for i in range(m):\n",
    "        random_index = np.random.randint(m)\n",
    "        xi = X[random_index:random_index+M]\n",
    "        yi = y[random_index:random_index+M]\n",
    "        \n",
    "        eta = learning_schedule(epoch*m + i)\n",
    "        theta = LG(xi,yi,theta,epoch,eta=1e-3)\n",
    "\n",
    "print(theta)\n",
    "# calculate y_pred\n",
    "y_raw = X_test @ theta\n",
    "y_pred = []\n",
    "for i in range(len(y_raw)):\n",
    "    if y_raw[i:i+1] > 0:\n",
    "        y_pred.append(1)\n",
    "    elif y_raw[i:i+1] <= 0:\n",
    "        y_pred.append(0)\n",
    "\n",
    "# calculate accuracy\n",
    "accuracy = np.mean(y_pred == y_test)\n",
    "print(accuracy)"
   ]
  },
  {
   "cell_type": "markdown",
   "id": "b556810a",
   "metadata": {},
   "source": [
    "# Part h: Support Vector Machine"
   ]
  },
  {
   "cell_type": "code",
   "execution_count": 31,
   "id": "ff6c351f",
   "metadata": {},
   "outputs": [
    {
     "data": {
      "text/plain": [
       "SVC()"
      ]
     },
     "execution_count": 31,
     "metadata": {},
     "output_type": "execute_result"
    }
   ],
   "source": [
    "from sklearn import svm\n",
    "\n",
    "\n",
    "from sklearn.datasets import load_breast_cancer\n",
    "from sklearn.model_selection import  train_test_split \n",
    "cancer = load_breast_cancer()\n",
    "import pandas as pd\n",
    "\n",
    "cancer = load_breast_cancer()\n",
    "\n",
    "X_train, X_test, y_train, y_test = train_test_split(cancer.data,cancer.target,random_state=0)\n",
    "X_train = skl_minmaxscaler(X_train)\n",
    "X_test = skl_minmaxscaler(X_test)\n",
    "\n",
    "intercept_train = np.ones(X_train.shape[0])[:,np.newaxis]\n",
    "intercept_test = np.ones(X_test.shape[0])[:,np.newaxis]\n",
    "X_train = np.concatenate((intercept_train,X_train),axis=1)\n",
    "X_test = np.concatenate((intercept_test,X_test),axis=1)\n",
    "\n",
    "clf = svm.SVC()\n",
    "clf.fit(X_train,y_train)"
   ]
  },
  {
   "cell_type": "code",
   "execution_count": 32,
   "id": "41ee5ffd",
   "metadata": {},
   "outputs": [
    {
     "name": "stdout",
     "output_type": "stream",
     "text": [
      "[0 1 1 1 1 1 1 1 1 1 0 1 1 0 0 0 1 0 0 0 0 0 1 1 0 1 1 0 1 0 1 0 1 0 1 0 1\n",
      " 0 1 0 0 1 0 1 1 0 1 1 1 0 0 0 0 1 1 1 1 1 1 0 0 0 1 1 0 1 0 0 0 1 0 0 1 0\n",
      " 0 1 1 1 1 1 0 0 0 1 0 1 1 1 0 0 1 0 0 0 1 1 0 1 1 1 1 1 1 0 0 1 0 1 0 0 1\n",
      " 0 0 1 1 1 0 1 1 1 1 1 0 1 0 0 0 1 1 1 0 1 1 0 1 1 0 0 0 1 1 1 0]\n"
     ]
    }
   ],
   "source": [
    "y_predict = clf.predict(X_test)\n",
    "print(y_predict)"
   ]
  },
  {
   "cell_type": "code",
   "execution_count": 33,
   "id": "7c2d9380",
   "metadata": {},
   "outputs": [
    {
     "name": "stdout",
     "output_type": "stream",
     "text": [
      "0.9230769230769231\n"
     ]
    }
   ],
   "source": [
    "# calculate accuracy\n",
    "accuracy = np.mean(y_predict == y_test)\n",
    "print(accuracy)"
   ]
  },
  {
   "cell_type": "code",
   "execution_count": 34,
   "id": "c143e881",
   "metadata": {},
   "outputs": [
    {
     "data": {
      "text/plain": [
       "<matplotlib.legend.Legend at 0x7f01a8b00790>"
      ]
     },
     "execution_count": 34,
     "metadata": {},
     "output_type": "execute_result"
    },
    {
     "data": {
      "image/png": "[encoded data removed]",
      "text/plain": [
       "<Figure size 432x288 with 1 Axes>"
      ]
     },
     "metadata": {
      "needs_background": "light"
     },
     "output_type": "display_data"
    }
   ],
   "source": [
    "plt.plot(y_predict,'ro',label='prediction')\n",
    "plt.plot(y_test,'go',alpha=0.5,label='test data')\n",
    "plt.legend()"
   ]
  },
  {
   "cell_type": "code",
   "execution_count": null,
   "id": "b526fadb",
   "metadata": {},
   "outputs": [],
   "source": []
  }
 ],
 "metadata": {
  "kernelspec": {
   "display_name": "Python 3 (ipykernel)",
   "language": "python",
   "name": "python3"
  },
  "language_info": {
   "codemirror_mode": {
    "name": "ipython",
    "version": 3
   },
   "file_extension": ".py",
   "mimetype": "text/x-python",
   "name": "python",
   "nbconvert_exporter": "python",
   "pygments_lexer": "ipython3",
   "version": "3.7.12"
  },
  "toc": {
   "base_numbering": 1,
   "nav_menu": {},
   "number_sections": true,
   "sideBar": true,
   "skip_h1_title": false,
   "title_cell": "Table of Contents",
   "title_sidebar": "Contents",
   "toc_cell": false,
   "toc_position": {},
   "toc_section_display": true,
   "toc_window_display": false
  }
 },
 "nbformat": 4,
 "nbformat_minor": 5
}
