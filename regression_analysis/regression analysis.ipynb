{
 "cells": [
  {
   "cell_type": "markdown",
   "id": "2c1ea9a1",
   "metadata": {
    "ExecuteTime": {
     "end_time": "2021-11-17T20:26:49.729908Z",
     "start_time": "2021-11-17T20:26:49.723956Z"
    }
   },
   "source": [
    "# Importing Libraries"
   ]
  },
  {
   "cell_type": "code",
   "execution_count": 1,
   "id": "6c2fdd27",
   "metadata": {
    "ExecuteTime": {
     "end_time": "2021-11-24T09:51:21.181105Z",
     "start_time": "2021-11-24T09:51:20.578141Z"
    }
   },
   "outputs": [],
   "source": [
    "import numpy as np\n",
    "import matplotlib.pyplot as plt\n",
    "import linear_regression\n",
    "import franke\n",
    "from matplotlib.tri import Triangulation\n",
    "from matplotlib.ticker import AutoMinorLocator, MultipleLocator\n",
    "from sklearn.model_selection import train_test_split\n",
    "from sklearn import linear_model\n",
    "import ipywidgets as widget\n",
    "from plots import triangulation_for_triheatmap as triheatmap\n",
    "import seaborn as sns\n",
    "from ipywidgets import interact, interactive, fixed, interact_manual\n",
    "import glob as glob\n",
    "from IPython.display import Image, display, HTML, Video\n",
    "%matplotlib inline\n",
    "import os\n",
    "if not os.path.exists('data'):\n",
    "    os.makedirs('data')\n",
    "#note my bootstrap can be wrong. "
   ]
  },
  {
   "cell_type": "markdown",
   "id": "a609d53b",
   "metadata": {
    "ExecuteTime": {
     "end_time": "2021-11-17T20:24:29.410589Z",
     "start_time": "2021-11-17T20:24:29.408506Z"
    }
   },
   "source": [
    "# Demo for applying regression to Franke data "
   ]
  },
  {
   "cell_type": "code",
   "execution_count": 49,
   "id": "9b584e68",
   "metadata": {
    "ExecuteTime": {
     "end_time": "2021-11-24T14:14:59.355071Z",
     "start_time": "2021-11-24T14:14:59.341452Z"
    }
   },
   "outputs": [],
   "source": [
    "n = 100 #number of data points along each axis. Total data points = n*n\n",
    "x1 = np.linspace(0,1,n)\n",
    "x2 = np.linspace(0,1,n)\n",
    "xx1, xx2 = np.meshgrid(x1, x2)\n",
    "xx1 = xx1.reshape((n*n),1)\n",
    "xx2 = xx2.reshape((n*n),1)\n",
    "\n",
    "y = franke.Franke(xx1, xx2, var=0.7) #zero mean gaussian noise has variance = var"
   ]
  },
  {
   "cell_type": "code",
   "execution_count": 50,
   "id": "c238ad66",
   "metadata": {
    "ExecuteTime": {
     "end_time": "2021-11-24T14:15:00.617291Z",
     "start_time": "2021-11-24T14:15:00.614707Z"
    }
   },
   "outputs": [],
   "source": [
    "#create linear regression object by passing input and output data\n",
    "linear_reg = linear_regression.linear_regression2D(xx1, xx2, y) "
   ]
  },
  {
   "cell_type": "markdown",
   "id": "b3ed0579",
   "metadata": {},
   "source": [
    "## Apply OLS "
   ]
  },
  {
   "cell_type": "code",
   "execution_count": 53,
   "id": "9e297d82",
   "metadata": {
    "ExecuteTime": {
     "end_time": "2021-11-24T14:16:10.817924Z",
     "start_time": "2021-11-24T14:16:10.760116Z"
    }
   },
   "outputs": [
    {
     "name": "stdout",
     "output_type": "stream",
     "text": [
      "Train MSE 7.075180397287822e-05\n",
      "Test MSE 7.403312057704452e-05\n",
      "Train R2 0.9987233245001431\n",
      "Test R2 0.998673453103384\n",
      "Train bias 0.055418790343454254\n",
      "Test bias 0.05580889812192416\n",
      "Train model variance 0.05533074765326488\n",
      "Test model variance 0.05577574146612631\n"
     ]
    }
   ],
   "source": [
    "linear_reg.apply_leastsquares(order=10, test_ratio=0.2)\n",
    "print(\"Train MSE\", linear_reg.trainMSE)\n",
    "print(\"Test MSE\", linear_reg.testMSE)\n",
    "print(\"Train R2\", linear_reg.trainR2)\n",
    "print(\"Test R2\", linear_reg.testR2)\n",
    "print(\"Train bias\", linear_reg.trainbias)\n",
    "print(\"Test bias\", linear_reg.testbias)\n",
    "print(\"Train model variance\", linear_reg.trainvar)\n",
    "print(\"Test model variance\", linear_reg.testvar)"
   ]
  },
  {
   "cell_type": "markdown",
   "id": "ad34b7ef",
   "metadata": {
    "ExecuteTime": {
     "end_time": "2021-11-17T20:27:16.008727Z",
     "start_time": "2021-11-17T20:27:16.000757Z"
    }
   },
   "source": [
    "## Apply OLS with bootstrap sampling"
   ]
  },
  {
   "cell_type": "code",
   "execution_count": 5,
   "id": "27eaee7a",
   "metadata": {
    "ExecuteTime": {
     "end_time": "2021-11-24T09:49:52.406470Z",
     "start_time": "2021-11-24T09:49:50.939287Z"
    }
   },
   "outputs": [
    {
     "name": "stdout",
     "output_type": "stream",
     "text": [
      "Train MSE 0.001400590765716386\n",
      "Test MSE 0.0014117146394092002\n",
      "Train R2 0.9748865963286398\n",
      "Test R2 0.9744022637989711\n",
      "Train bias 0.001876622238730661\n",
      "Test bias 0.0018466171122748576\n",
      "Train model variance 0.001830063957831136\n",
      "Test model variance 0.0018000253404940028\n"
     ]
    }
   ],
   "source": [
    "linear_reg.apply_leastsquares_bootstrap(order=5, test_ratio=0.1, n_boots=30)\n",
    "print(\"Train MSE\", linear_reg.trainMSE)\n",
    "print(\"Test MSE\", linear_reg.testMSE)\n",
    "print(\"Train R2\", linear_reg.trainR2)\n",
    "print(\"Test R2\", linear_reg.testR2)\n",
    "print(\"Train bias\", linear_reg.trainbias)\n",
    "print(\"Test bias\", linear_reg.testbias)\n",
    "print(\"Train model variance\", linear_reg.trainvar)\n",
    "print(\"Test model variance\", linear_reg.testvar)"
   ]
  },
  {
   "cell_type": "markdown",
   "id": "30bfa940",
   "metadata": {
    "ExecuteTime": {
     "end_time": "2021-11-17T20:27:44.344810Z",
     "start_time": "2021-11-17T20:27:44.341402Z"
    }
   },
   "source": [
    "## Apply OLS with cross validation sampling"
   ]
  },
  {
   "cell_type": "code",
   "execution_count": 6,
   "id": "2daa8a14",
   "metadata": {
    "ExecuteTime": {
     "end_time": "2021-11-24T09:49:52.711683Z",
     "start_time": "2021-11-24T09:49:52.462848Z"
    }
   },
   "outputs": [
    {
     "name": "stdout",
     "output_type": "stream",
     "text": [
      "Train MSE 0.001402092508421429\n",
      "Test MSE 0.001410881471923885\n",
      "Train R2 0.9747349470361277\n",
      "Test R2 0.9745156955114282\n",
      "Train bias 0.005551532033135654\n",
      "Test bias 0.005521514996865567\n",
      "Train model variance 0.0054106704594088575\n",
      "Test model variance 0.005360230028045424\n"
     ]
    }
   ],
   "source": [
    "linear_reg.apply_leastsquares_crossvalidation(order=5, kfolds=10)\n",
    "print(\"Train MSE\", linear_reg.trainMSE)\n",
    "print(\"Test MSE\", linear_reg.testMSE)\n",
    "print(\"Train R2\", linear_reg.trainR2)\n",
    "print(\"Test R2\", linear_reg.testR2)\n",
    "print(\"Train bias\", linear_reg.trainbias)\n",
    "print(\"Test bias\", linear_reg.testbias)\n",
    "print(\"Train model variance\", linear_reg.trainvar)\n",
    "print(\"Test model variance\", linear_reg.testvar)"
   ]
  },
  {
   "cell_type": "markdown",
   "id": "7855d868",
   "metadata": {
    "ExecuteTime": {
     "end_time": "2021-11-17T20:28:20.371789Z",
     "start_time": "2021-11-17T20:28:20.365778Z"
    }
   },
   "source": [
    "## Apply Ridge regression "
   ]
  },
  {
   "cell_type": "code",
   "execution_count": 7,
   "id": "44f21a63",
   "metadata": {
    "ExecuteTime": {
     "end_time": "2021-11-24T09:49:52.804628Z",
     "start_time": "2021-11-24T09:49:52.772896Z"
    }
   },
   "outputs": [
    {
     "name": "stdout",
     "output_type": "stream",
     "text": [
      "Train MSE 0.0035691467036869304\n",
      "Test MSE 0.003790959684329821\n",
      "Train R2 0.9354526793609782\n",
      "Test R2 0.9338051778230736\n",
      "Train bias 0.05529504048762239\n",
      "Test bias 0.05727066565093473\n",
      "Train model variance 0.049805655991027986\n",
      "Test model variance 0.051753573228398055\n"
     ]
    }
   ],
   "source": [
    "linear_reg.apply_leastsquares(order=5, test_ratio=0.1, ridge=True, lmbda=0.1)\n",
    "print(\"Train MSE\", linear_reg.trainMSE)\n",
    "print(\"Test MSE\", linear_reg.testMSE)\n",
    "print(\"Train R2\", linear_reg.trainR2)\n",
    "print(\"Test R2\", linear_reg.testR2)\n",
    "print(\"Train bias\", linear_reg.trainbias)\n",
    "print(\"Test bias\", linear_reg.testbias)\n",
    "print(\"Train model variance\", linear_reg.trainvar)\n",
    "print(\"Test model variance\", linear_reg.testvar)"
   ]
  },
  {
   "cell_type": "markdown",
   "id": "06fb6486",
   "metadata": {
    "ExecuteTime": {
     "end_time": "2021-11-17T20:28:59.997409Z",
     "start_time": "2021-11-17T20:28:59.992330Z"
    }
   },
   "source": [
    "## Apply Ridge regression with bootstrap"
   ]
  },
  {
   "cell_type": "code",
   "execution_count": 8,
   "id": "159e173d",
   "metadata": {
    "ExecuteTime": {
     "end_time": "2021-11-24T09:49:53.623964Z",
     "start_time": "2021-11-24T09:49:52.848515Z"
    }
   },
   "outputs": [
    {
     "name": "stdout",
     "output_type": "stream",
     "text": [
      "Train MSE 0.0035892156879234615\n",
      "Test MSE 0.003600314348971053\n",
      "Train R2 0.9352332002412903\n",
      "Test R2 0.9353920213265532\n",
      "Train bias 0.0017970810471109925\n",
      "Test bias 0.0018895567633204257\n",
      "Train model variance 0.0016168763006211195\n",
      "Test model variance 0.0016552340338531928\n"
     ]
    }
   ],
   "source": [
    "linear_reg.apply_leastsquares_bootstrap(order=5, test_ratio=0.1, n_boots=30, ridge=True, lmbda=0.1)\n",
    "print(\"Train MSE\", linear_reg.trainMSE)\n",
    "print(\"Test MSE\", linear_reg.testMSE)\n",
    "print(\"Train R2\", linear_reg.trainR2)\n",
    "print(\"Test R2\", linear_reg.testR2)\n",
    "print(\"Train bias\", linear_reg.trainbias)\n",
    "print(\"Test bias\", linear_reg.testbias)\n",
    "print(\"Train model variance\", linear_reg.trainvar)\n",
    "print(\"Test model variance\", linear_reg.testvar)"
   ]
  },
  {
   "cell_type": "markdown",
   "id": "c2375111",
   "metadata": {},
   "source": [
    "## Apply Ridge regression with cross validation"
   ]
  },
  {
   "cell_type": "code",
   "execution_count": 9,
   "id": "1c3c4006",
   "metadata": {
    "ExecuteTime": {
     "end_time": "2021-11-24T09:49:53.890228Z",
     "start_time": "2021-11-24T09:49:53.676717Z"
    },
    "scrolled": true
   },
   "outputs": [
    {
     "name": "stdout",
     "output_type": "stream",
     "text": [
      "Train MSE 0.0035872497627687807\n",
      "Test MSE 0.0036008488958415063\n",
      "Train R2 0.9353598014954458\n",
      "Test R2 0.9350162231698901\n",
      "Train bias 0.005513321012013793\n",
      "Test bias 0.005875226516310917\n",
      "Train model variance 0.004965855126802331\n",
      "Test model variance 0.005086759071029689\n"
     ]
    }
   ],
   "source": [
    "linear_reg.apply_leastsquares_crossvalidation(order=5, kfolds=10, ridge=True, lmbda=0.1)\n",
    "print(\"Train MSE\", linear_reg.trainMSE)\n",
    "print(\"Test MSE\", linear_reg.testMSE)\n",
    "print(\"Train R2\", linear_reg.trainR2)\n",
    "print(\"Test R2\", linear_reg.testR2)\n",
    "print(\"Train bias\", linear_reg.trainbias)\n",
    "print(\"Test bias\", linear_reg.testbias)\n",
    "print(\"Train model variance\", linear_reg.trainvar)\n",
    "print(\"Test model variance\", linear_reg.testvar)"
   ]
  },
  {
   "cell_type": "markdown",
   "id": "69e1362a",
   "metadata": {},
   "source": [
    "## Apply Lasso regression: Not working properly. High R2 value"
   ]
  },
  {
   "cell_type": "code",
   "execution_count": 48,
   "id": "23a96853",
   "metadata": {
    "ExecuteTime": {
     "end_time": "2021-11-24T14:12:32.808548Z",
     "start_time": "2021-11-24T14:12:32.153404Z"
    }
   },
   "outputs": [
    {
     "name": "stdout",
     "output_type": "stream",
     "text": [
      "[ 0.79267772 -0.         -0.43670673 -0.90905504  0.         -0.18542845\n",
      " -0.          0.          0.45838122 -0.          0.          0.\n",
      "  0.          0.         -0.          0.          0.          0.\n",
      "  0.          0.         -0.          0.          0.          0.\n",
      "  0.          0.          0.         -0.          0.05724031  0.\n",
      "  0.          0.          0.          0.          0.         -0.\n",
      "  0.33816302  0.          0.          0.          0.          0.\n",
      "  0.          0.         -0.          0.          0.          0.\n",
      "  0.          0.          0.          0.          0.          0.\n",
      " -0.          0.          0.          0.          0.          0.\n",
      "  0.          0.          0.          0.          0.         -0.        ]\n",
      "Train MSE 0.09641507820504935\n",
      "Test MSE 0.0933565328087567\n",
      "Train R2 -15594.271246573622\n",
      "Test R2 -1722.6858713262645\n",
      "Train bias 0.05564194415219013\n",
      "Test bias 0.054161091128794255\n",
      "Train model variance 0.04077313405285906\n",
      "Test model variance 0.03919544167996243\n"
     ]
    }
   ],
   "source": [
    "linear_reg.apply_leastsquares(order=10, test_ratio=0.1, scikit_lasso=True, lmbda=0.001)\n",
    "print(\"Train MSE\", linear_reg.trainMSE)\n",
    "print(\"Test MSE\", linear_reg.testMSE)\n",
    "print(\"Train R2\", linear_reg.trainR2)\n",
    "print(\"Test R2\", linear_reg.testR2)\n",
    "print(\"Train bias\", linear_reg.trainbias)\n",
    "print(\"Test bias\", linear_reg.testbias)\n",
    "print(\"Train model variance\", linear_reg.trainvar)\n",
    "print(\"Test model variance\", linear_reg.testvar)\n"
   ]
  },
  {
   "cell_type": "code",
   "execution_count": 11,
   "id": "31dd814f",
   "metadata": {
    "ExecuteTime": {
     "end_time": "2021-11-24T09:50:07.411678Z",
     "start_time": "2021-11-24T09:50:07.358543Z"
    }
   },
   "outputs": [
    {
     "name": "stdout",
     "output_type": "stream",
     "text": [
      "0.0\n",
      "[ 0.5311666  -0.         -0.01710071 -0.38414617 -0.         -0.2173065\n",
      " -0.         -0.         -0.         -0.        ]\n"
     ]
    },
    {
     "name": "stderr",
     "output_type": "stream",
     "text": [
      "/home/quasar/.local/lib/python3.8/site-packages/sklearn/utils/validation.py:585: FutureWarning: np.matrix usage is deprecated in 1.0 and will raise a TypeError in 1.2. Please convert to a numpy array with np.asarray. For more information see: https://numpy.org/doc/stable/reference/generated/numpy.matrix.html\n",
      "  warnings.warn(\n",
      "/home/quasar/.local/lib/python3.8/site-packages/sklearn/utils/validation.py:585: FutureWarning: np.matrix usage is deprecated in 1.0 and will raise a TypeError in 1.2. Please convert to a numpy array with np.asarray. For more information see: https://numpy.org/doc/stable/reference/generated/numpy.matrix.html\n",
      "  warnings.warn(\n"
     ]
    }
   ],
   "source": [
    "x_train, x_test, y_train, y_test = train_test_split(np.hstack([linear_reg.x1, linear_reg.x2]), linear_reg.y, test_size=0.1)\n",
    "x1_train = x_train[:, 0]\n",
    "x2_train = x_train[:, 1]\n",
    "\n",
    "x1_test = x_test[:, 0]\n",
    "x2_test = x_test[:, 1]\n",
    "X = linear_regression.design_mat2D(x1_train, x2_train, order=3)\n",
    "lasso_reg = linear_model.Lasso(0.01, fit_intercept=False)\n",
    "lasso_reg.fit(np.asmatrix(X), np.asmatrix(y_train))\n",
    "y_model_train = lasso_reg.predict(X)\n",
    "y_model_test = lasso_reg.predict(linear_regression.design_mat2D(x1_test, x2_test, order=3))\n",
    "print(lasso_reg.intercept_)\n",
    "print(lasso_reg.coef_)"
   ]
  },
  {
   "cell_type": "code",
   "execution_count": null,
   "id": "63941573",
   "metadata": {
    "ExecuteTime": {
     "end_time": "2021-11-24T09:22:18.063251Z",
     "start_time": "2021-11-24T09:22:17.985637Z"
    }
   },
   "outputs": [],
   "source": []
  },
  {
   "cell_type": "code",
   "execution_count": 12,
   "id": "237dc8dd",
   "metadata": {
    "ExecuteTime": {
     "end_time": "2021-11-24T09:44:31.763023Z",
     "start_time": "2021-11-24T09:44:31.651640Z"
    }
   },
   "outputs": [
    {
     "name": "stdout",
     "output_type": "stream",
     "text": [
      "0.0\n",
      "[ 0.62281849 -0.37030444 -0.23300782]\n"
     ]
    },
    {
     "name": "stderr",
     "output_type": "stream",
     "text": [
      "/home/quasar/.local/lib/python3.8/site-packages/sklearn/utils/validation.py:585: FutureWarning: np.matrix usage is deprecated in 1.0 and will raise a TypeError in 1.2. Please convert to a numpy array with np.asarray. For more information see: https://numpy.org/doc/stable/reference/generated/numpy.matrix.html\n",
      "  warnings.warn(\n",
      "/home/quasar/.local/lib/python3.8/site-packages/sklearn/utils/validation.py:585: FutureWarning: np.matrix usage is deprecated in 1.0 and will raise a TypeError in 1.2. Please convert to a numpy array with np.asarray. For more information see: https://numpy.org/doc/stable/reference/generated/numpy.matrix.html\n",
      "  warnings.warn(\n"
     ]
    }
   ],
   "source": [
    "x1 = np.linspace(1,10,10)\n",
    "x2 = np.linspace(1,10,10)\n",
    "y = np.linspace(4,23,10)\n",
    "x_train, x_test, y_train, y_test = train_test_split(np.hstack([linear_reg.x1, linear_reg.x2]), linear_reg.y, test_size=0.1)\n",
    "x1_train = x_train[:, 0]\n",
    "x2_train = x_train[:, 1]\n",
    "\n",
    "x1_test = x_test[:, 0]\n",
    "x2_test = x_test[:, 1]\n",
    "X = linear_regression.design_mat2D(x1_train, x2_train, order=1)\n",
    "lasso_reg = linear_model.Lasso(alpha=0.01, fit_intercept=False)\n",
    "lasso_reg.fit(np.asmatrix(X), np.asmatrix(y_train))\n",
    "y_model_train = lasso_reg.predict(X)\n",
    "y_model_test = lasso_reg.predict(linear_regression.design_mat2D(x1_test, x2_test, order=1))\n",
    "print(lasso_reg.intercept_)\n",
    "print(lasso_reg.coef_)\n"
   ]
  },
  {
   "cell_type": "markdown",
   "id": "a1cc1b6e",
   "metadata": {
    "ExecuteTime": {
     "end_time": "2021-11-19T14:49:53.922397Z",
     "start_time": "2021-11-19T14:49:53.915295Z"
    }
   },
   "source": [
    "# Regression Comparisons"
   ]
  },
  {
   "cell_type": "code",
   "execution_count": 19,
   "id": "b0d6afaa",
   "metadata": {
    "ExecuteTime": {
     "end_time": "2021-11-24T10:20:42.369721Z",
     "start_time": "2021-11-24T10:20:42.351405Z"
    }
   },
   "outputs": [],
   "source": [
    "p = np.arange(1,11)\n",
    "n = np.array([20, 50, 100, 200])#, 200, 30])\n",
    "noise = np.array([0.0, 0.25, 0.5])#, 0.75, 1])\n",
    "r = np.arange(1,5)*0.1\n",
    "\n",
    "n_boots = np.array([2, 5, 10], dtype=int)\n",
    "k_folds = np.array([2, 5, 10], dtype=int)\n",
    "ridge_lambda = np.array([0.01, 0.1, 1.0])\n",
    "\n",
    "#n_boots = np.array([10], dtype=int)\n",
    "#k_folds = np.array([10], dtype=int)\n",
    "#ridge_lambda = np.array([1])\n",
    "\n",
    "np.save(\"data/p.npy\", p)\n",
    "np.save(\"data/n.npy\", n)\n",
    "np.save(\"data/noise.npy\", noise)\n",
    "np.save(\"data/r.npy\", r)\n",
    "np.save(\"data/k_folds.npy\", k_folds)\n",
    "np.save(\"data/n_boots.npy\", n_boots)\n",
    "np.save(\"data/ridge_lambda.npy\", ridge_lambda)"
   ]
  },
  {
   "cell_type": "code",
   "execution_count": 14,
   "id": "24d9a21a",
   "metadata": {
    "ExecuteTime": {
     "end_time": "2021-11-24T09:44:31.911395Z",
     "start_time": "2021-11-24T09:44:31.832570Z"
    }
   },
   "outputs": [],
   "source": []
  },
  {
   "cell_type": "code",
   "execution_count": 15,
   "id": "c9ef5d2c",
   "metadata": {
    "ExecuteTime": {
     "end_time": "2021-11-24T09:44:32.230857Z",
     "start_time": "2021-11-24T09:44:31.913116Z"
    }
   },
   "outputs": [],
   "source": []
  },
  {
   "cell_type": "code",
   "execution_count": 16,
   "id": "463736db",
   "metadata": {
    "ExecuteTime": {
     "end_time": "2021-11-24T09:44:46.175139Z",
     "start_time": "2021-11-24T09:44:32.232898Z"
    }
   },
   "outputs": [
    {
     "name": "stdout",
     "output_type": "stream",
     "text": [
      "(3, 3, 5, 4, 1, 1, 1)\n",
      "(3, 3, 5, 4, 1, 3, 1)\n",
      "(3, 3, 5, 1, 1, 1, 3)\n",
      "(3, 3, 5, 4, 3, 1, 1)\n",
      "(3, 3, 5, 4, 3, 3, 1)\n",
      "(3, 3, 5, 1, 3, 1, 3)\n"
     ]
    }
   ],
   "source": [
    "from apply_regression import apply_regression2\n",
    "methods = [\"ols\", \"ols_bootstrap\", \"ols_crossvalidation\", \"ridge\", \"ridge_bootstrap\", \"ridge_crossvalidation\"]\n",
    "for method in methods:\n",
    "    if(method==\"ols_crossvalidation\" or method==\"ridge_crossvalidation\"):\n",
    "        r = np.ones(1)*0.1\n",
    "    if(method==\"ols\" or method==\"ols_crossvalidation\" or method==\"ridge\" or method==\"ridge_crossvalidation\"):\n",
    "        n_boots = np.ones(1, dtype=int)\n",
    "    if(method==\"ols\" or method==\"ols_bootstrap\" or method==\"ridge\" or method==\"ridge_bootstrap\"):\n",
    "        k_folds = np.ones(1, dtype=int)\n",
    "    if(method==\"ols\" or method==\"ols_bootstrap\" or method==\"ols_crossvalidation\"):\n",
    "        ridge_lambda = np.ones(1)\n",
    "    train_MSE, test_MSE, train_R2, test_R2 = apply_regression2(p, n, \n",
    "                                                               noise, r, n_boots=n_boots, k_folds=k_folds,\n",
    "                                                               ridge_lambda=ridge_lambda, reg_type=method)\n",
    "    r=np.load(\"data/r.npy\")\n",
    "    ridge_lambda=np.load(\"data/ridge_lambda.npy\")\n",
    "    k_folds=np.load(\"data/k_folds.npy\")\n",
    "    n_boots=np.load(\"data/n_boots.npy\")\n",
    "    np.save(\"data/train_MSE\"+method+\".npy\", train_MSE)\n",
    "    np.save(\"data/test_MSE\"+method+\".npy\", test_MSE)\n",
    "    np.save(\"data/train_R2\"+method+\".npy\", train_R2)\n",
    "    np.save(\"data/test_R2\"+method+\".npy\", test_R2)\n",
    "    print(train_MSE.shape)\n"
   ]
  },
  {
   "cell_type": "code",
   "execution_count": 17,
   "id": "6fb99ba3",
   "metadata": {
    "ExecuteTime": {
     "end_time": "2021-11-24T09:44:46.481436Z",
     "start_time": "2021-11-24T09:44:46.176792Z"
    }
   },
   "outputs": [
    {
     "data": {
      "application/vnd.jupyter.widget-view+json": {
       "model_id": "528465b1f03e4795a2e8be7a1fb66ecf",
       "version_major": 2,
       "version_minor": 0
      },
      "text/plain": [
       "interactive(children=(Dropdown(description='ratio', options=(0.1, 0.2, 0.30000000000000004, 0.4), value=0.1), …"
      ]
     },
     "metadata": {},
     "output_type": "display_data"
    },
    {
     "data": {
      "text/plain": [
       "<function apply_regression.plot_stat(ratio=0.1, num=100, stat='testMSE', method='ols', n_boot=1000, k_fold=1000, ridge_lmb=122.0)>"
      ]
     },
     "execution_count": 17,
     "metadata": {},
     "output_type": "execute_result"
    }
   ],
   "source": [
    "from apply_regression import plot_stat\n",
    "methods = [\"ols\", \"ols_bootstrap\", \"ols_crossvalidation\", \"ridge\", \"ridge_bootstrap\", \"ridge_crossvalidation\"]\n",
    "stats = [\"train MSE\", \"test MSE\", \"test R2\"]\n",
    "\n",
    "widget.interact(plot_stat, ratio=r.tolist(), num=n.tolist(), stat=stats, \n",
    "                method=methods, k_fold=k_folds.tolist(), n_boot=n_boots.tolist(),\n",
    "                ridge_lmb=ridge_lambda.tolist())"
   ]
  },
  {
   "cell_type": "code",
   "execution_count": 20,
   "id": "65363623",
   "metadata": {
    "ExecuteTime": {
     "end_time": "2021-11-24T10:47:04.463962Z",
     "start_time": "2021-11-24T10:20:49.839559Z"
    }
   },
   "outputs": [
    {
     "name": "stdout",
     "output_type": "stream",
     "text": [
      "(10, 4, 3, 4, 1, 1, 1)\n",
      "(10, 4, 3, 4, 1, 3, 1)\n",
      "(10, 4, 3, 1, 1, 1, 3)\n",
      "(10, 4, 3, 4, 3, 1, 1)\n",
      "(10, 4, 3, 4, 3, 3, 1)\n",
      "(10, 4, 3, 1, 3, 1, 3)\n"
     ]
    }
   ],
   "source": [
    "from apply_regression import apply_regression\n",
    "methods = [\"ols\", \"ols_bootstrap\", \"ols_crossvalidation\", \"ridge\", \"ridge_bootstrap\", \"ridge_crossvalidation\"]\n",
    "for method in methods:\n",
    "    if(method==\"ols_crossvalidation\" or method==\"ridge_crossvalidation\"):\n",
    "        r = np.ones(1)*0.1\n",
    "    if(method==\"ols\" or method==\"ols_crossvalidation\" or method==\"ridge\" or method==\"ridge_crossvalidation\"):\n",
    "        n_boots = np.ones(1, dtype=int)\n",
    "    if(method==\"ols\" or method==\"ols_bootstrap\" or method==\"ridge\" or method==\"ridge_bootstrap\"):\n",
    "        k_folds = np.ones(1, dtype=int)\n",
    "    if(method==\"ols\" or method==\"ols_bootstrap\" or method==\"ols_crossvalidation\"):\n",
    "        ridge_lambda = np.ones(1)\n",
    "    train_MSE, test_MSE, train_R2, test_R2, test_bias, test_var = apply_regression(p, n, \n",
    "                                                               noise, r, n_boots=n_boots, k_folds=k_folds,\n",
    "                                                               ridge_lambda=ridge_lambda, reg_type=method)\n",
    "    r=np.load(\"data/r.npy\")\n",
    "    ridge_lambda=np.load(\"data/ridge_lambda.npy\")\n",
    "    k_folds=np.load(\"data/k_folds.npy\")\n",
    "    n_boots=np.load(\"data/n_boots.npy\")\n",
    "    np.save(\"data/train_MSE\"+method+\".npy\", train_MSE)\n",
    "    np.save(\"data/test_MSE\"+method+\".npy\", test_MSE)\n",
    "    np.save(\"data/train_R2\"+method+\".npy\", train_R2)\n",
    "    np.save(\"data/test_R2\"+method+\".npy\", test_R2)\n",
    "    np.save(\"data/test_bias\"+method+\".npy\", test_bias)\n",
    "    np.save(\"data/test_var\"+method+\".npy\", test_var)\n",
    "    print(train_MSE.shape)\n"
   ]
  },
  {
   "cell_type": "code",
   "execution_count": 21,
   "id": "195e6d5c",
   "metadata": {
    "ExecuteTime": {
     "end_time": "2021-11-24T10:47:04.968813Z",
     "start_time": "2021-11-24T10:47:04.708401Z"
    }
   },
   "outputs": [
    {
     "data": {
      "application/vnd.jupyter.widget-view+json": {
       "model_id": "3539147a5c9245aabeb8fd21ce1b96a7",
       "version_major": 2,
       "version_minor": 0
      },
      "text/plain": [
       "interactive(children=(Dropdown(description='ratio', options=(0.1, 0.2, 0.30000000000000004, 0.4), value=0.1), …"
      ]
     },
     "metadata": {},
     "output_type": "display_data"
    },
    {
     "data": {
      "text/plain": [
       "<function apply_regression.plot_stat(ratio=0.1, num=100, stat='testMSE', method='ols', n_boot=1000, k_fold=1000, ridge_lmb=122.0)>"
      ]
     },
     "execution_count": 21,
     "metadata": {},
     "output_type": "execute_result"
    }
   ],
   "source": [
    "from apply_regression import plot_stat\n",
    "methods = [\"ols\", \"ols_bootstrap\", \"ols_crossvalidation\", \"ridge\", \"ridge_bootstrap\", \"ridge_crossvalidation\"]\n",
    "stats = [\"train MSE\", \"test MSE\", \"test R2\", \"test bias\", \"test variance\"]\n",
    "\n",
    "widget.interact(plot_stat, ratio=r.tolist(), num=n.tolist(), stat=stats, \n",
    "                method=methods, k_fold=k_folds.tolist(), n_boot=n_boots.tolist(),\n",
    "                ridge_lmb=ridge_lambda.tolist())"
   ]
  },
  {
   "cell_type": "markdown",
   "id": "8c2cac04",
   "metadata": {
    "ExecuteTime": {
     "end_time": "2021-11-24T09:59:44.885373Z",
     "start_time": "2021-11-24T09:59:44.885362Z"
    }
   },
   "source": [
    "# Bias Variance Tradeoff"
   ]
  },
  {
   "cell_type": "code",
   "execution_count": 22,
   "id": "bab38e5c",
   "metadata": {
    "ExecuteTime": {
     "end_time": "2021-11-24T10:47:05.644001Z",
     "start_time": "2021-11-24T10:47:05.155233Z"
    }
   },
   "outputs": [],
   "source": [
    "#loading data\n",
    "method = \"ols\"\n",
    "p=np.load(\"data/p.npy\")\n",
    "n=np.load(\"data/n.npy\")\n",
    "noise=np.load(\"data/noise.npy\")\n",
    "r=np.load(\"data/r.npy\")\n",
    "ridge_lambda=np.load(\"data/ridge_lambda.npy\")\n",
    "k_folds=np.load(\"data/k_folds.npy\")\n",
    "n_boots=np.load(\"data/n_boots.npy\")\n",
    "train_MSE=np.load(\"data/train_MSE\"+method+\".npy\")\n",
    "test_MSE=np.load(\"data/test_MSE\"+method+\".npy\")\n",
    "train_R2=np.load(\"data/train_R2\"+method+\".npy\")\n",
    "test_R2=np.load(\"data/test_R2\"+method+\".npy\")\n",
    "test_bias=np.load(\"data/test_bias\"+method+\".npy\")\n",
    "test_var=np.load(\"data/test_var\"+method+\".npy\")"
   ]
  },
  {
   "cell_type": "markdown",
   "id": "e3e5d7be",
   "metadata": {},
   "source": [
    "For Ordinary least squares, we find the bias variance tradeoff as a function of model complexity: order of polynomial. We determine it for fixed test ratio and noise level"
   ]
  },
  {
   "cell_type": "code",
   "execution_count": 24,
   "id": "1feafb43",
   "metadata": {
    "ExecuteTime": {
     "end_time": "2021-11-24T10:52:04.532750Z",
     "start_time": "2021-11-24T10:52:04.429861Z"
    }
   },
   "outputs": [
    {
     "data": {
      "text/plain": [
       "[<matplotlib.lines.Line2D at 0x7fd23f4a0880>]"
      ]
     },
     "execution_count": 24,
     "metadata": {},
     "output_type": "execute_result"
    },
    {
     "data": {
      "image/png": "[encoded data removed]",
      "text/plain": [
       "<Figure size 432x288 with 1 Axes>"
      ]
     },
     "metadata": {
      "needs_background": "light"
     },
     "output_type": "display_data"
    }
   ],
   "source": [
    "r_ind = 1 # r=0.1\n",
    "n_ind = 3 # n=100\n",
    "noise_ind = 2 #noise variance = 0.5\n",
    "ols_bias = test_bias[:, n_ind, noise_ind, r_ind, 0, 0, 0]\n",
    "ols_var = test_var[:, n_ind, noise_ind, r_ind, 0, 0, 0]\n",
    "\n",
    "fig, ax = plt.subplots()\n",
    "ax.plot(p, ols_bias, 'k')\n",
    "ax.plot(p, ols_var, 'b')"
   ]
  },
  {
   "cell_type": "code",
   "execution_count": 27,
   "id": "78d716a0",
   "metadata": {
    "ExecuteTime": {
     "end_time": "2021-11-24T13:21:26.900211Z",
     "start_time": "2021-11-24T13:21:26.794298Z"
    }
   },
   "outputs": [
    {
     "data": {
      "text/plain": [
       "[<matplotlib.lines.Line2D at 0x7fd23f0d8b80>]"
      ]
     },
     "execution_count": 27,
     "metadata": {},
     "output_type": "execute_result"
    },
    {
     "data": {
      "image/png": "[encoded data removed]",
      "text/plain": [
       "<Figure size 432x288 with 1 Axes>"
      ]
     },
     "metadata": {
      "needs_background": "light"
     },
     "output_type": "display_data"
    }
   ],
   "source": [
    "r_ind = 1 # r=0.1\n",
    "n_ind = 3 # n=100\n",
    "noise_ind = 2 #noise variance = 0.5\n",
    "ols_testMSE = test_MSE[:, n_ind, noise_ind, r_ind, 0, 0, 0]\n",
    "ols_trainMSE = train_MSE[:, n_ind, noise_ind, r_ind, 0, 0, 0]\n",
    "\n",
    "fig, ax = plt.subplots()\n",
    "ax.plot(p, ols_testMSE, 'k')\n",
    "ax.plot(p, ols_trainMSE, 'b')"
   ]
  },
  {
   "cell_type": "code",
   "execution_count": 28,
   "id": "c85db9ed",
   "metadata": {
    "ExecuteTime": {
     "end_time": "2021-11-24T13:24:07.117967Z",
     "start_time": "2021-11-24T13:23:39.565417Z"
    }
   },
   "outputs": [
    {
     "name": "stdout",
     "output_type": "stream",
     "text": [
      "(14, 4, 3, 4, 1, 1, 1)\n"
     ]
    },
    {
     "data": {
      "application/vnd.jupyter.widget-view+json": {
       "model_id": "6fc9be52d6ea47e5ba690dd10574b672",
       "version_major": 2,
       "version_minor": 0
      },
      "text/plain": [
       "interactive(children=(Dropdown(description='ratio', options=(0.1, 0.2, 0.30000000000000004, 0.4), value=0.1), …"
      ]
     },
     "metadata": {},
     "output_type": "display_data"
    },
    {
     "data": {
      "text/plain": [
       "<function apply_regression.plot_stat(ratio=0.1, num=100, stat='testMSE', method='ols', n_boot=1000, k_fold=1000, ridge_lmb=122.0)>"
      ]
     },
     "execution_count": 28,
     "metadata": {},
     "output_type": "execute_result"
    }
   ],
   "source": [
    "p = np.arange(1,15)\n",
    "np.save(\"data/p.npy\", p)\n",
    "from apply_regression import apply_regression\n",
    "methods = [\"ols\"]\n",
    "for method in methods:\n",
    "    if(method==\"ols_crossvalidation\" or method==\"ridge_crossvalidation\"):\n",
    "        r = np.ones(1)*0.1\n",
    "    if(method==\"ols\" or method==\"ols_crossvalidation\" or method==\"ridge\" or method==\"ridge_crossvalidation\"):\n",
    "        n_boots = np.ones(1, dtype=int)\n",
    "    if(method==\"ols\" or method==\"ols_bootstrap\" or method==\"ridge\" or method==\"ridge_bootstrap\"):\n",
    "        k_folds = np.ones(1, dtype=int)\n",
    "    if(method==\"ols\" or method==\"ols_bootstrap\" or method==\"ols_crossvalidation\"):\n",
    "        ridge_lambda = np.ones(1)\n",
    "    train_MSE, test_MSE, train_R2, test_R2, test_bias, test_var = apply_regression(p, n, \n",
    "                                                               noise, r, n_boots=n_boots, k_folds=k_folds,\n",
    "                                                               ridge_lambda=ridge_lambda, reg_type=method)\n",
    "    r=np.load(\"data/r.npy\")\n",
    "    ridge_lambda=np.load(\"data/ridge_lambda.npy\")\n",
    "    k_folds=np.load(\"data/k_folds.npy\")\n",
    "    n_boots=np.load(\"data/n_boots.npy\")\n",
    "    np.save(\"data/train_MSE\"+method+\".npy\", train_MSE)\n",
    "    np.save(\"data/test_MSE\"+method+\".npy\", test_MSE)\n",
    "    np.save(\"data/train_R2\"+method+\".npy\", train_R2)\n",
    "    np.save(\"data/test_R2\"+method+\".npy\", test_R2)\n",
    "    np.save(\"data/test_bias\"+method+\".npy\", test_bias)\n",
    "    np.save(\"data/test_var\"+method+\".npy\", test_var)\n",
    "    print(train_MSE.shape)\n",
    "from apply_regression import plot_stat\n",
    "methods = [\"ols\"]\n",
    "stats = [\"train MSE\", \"test MSE\", \"test R2\", \"test bias\", \"test variance\"]\n",
    "\n",
    "widget.interact(plot_stat, ratio=r.tolist(), num=n.tolist(), stat=stats, \n",
    "                method=methods, k_fold=k_folds.tolist(), n_boot=n_boots.tolist(),\n",
    "                ridge_lmb=ridge_lambda.tolist())"
   ]
  },
  {
   "cell_type": "code",
   "execution_count": 39,
   "id": "066cdbaa",
   "metadata": {
    "ExecuteTime": {
     "end_time": "2021-11-24T13:26:58.653574Z",
     "start_time": "2021-11-24T13:26:58.541376Z"
    }
   },
   "outputs": [
    {
     "data": {
      "text/plain": [
       "Text(0.5, 0, 'complexity')"
      ]
     },
     "execution_count": 39,
     "metadata": {},
     "output_type": "execute_result"
    },
    {
     "data": {
      "image/png": "[encoded data removed]",
      "text/plain": [
       "<Figure size 432x288 with 1 Axes>"
      ]
     },
     "metadata": {
      "needs_background": "light"
     },
     "output_type": "display_data"
    }
   ],
   "source": [
    "r_ind = 1 # r=0.1\n",
    "n_ind = 1 # n=100\n",
    "noise_ind = 2 #noise variance = 0.5\n",
    "ols_bias = test_bias[:, n_ind, noise_ind, r_ind, 0, 0, 0]\n",
    "ols_var = test_var[:, n_ind, noise_ind, r_ind, 0, 0, 0]\n",
    "\n",
    "fig, ax = plt.subplots()\n",
    "ax.plot(p, ols_bias, 'k', label=\"bias\")\n",
    "ax.plot(p, ols_var, 'b', label=\"variance\")\n",
    "ax.legend()\n",
    "ax.set_xlabel(\"complexity\")"
   ]
  },
  {
   "cell_type": "code",
   "execution_count": 44,
   "id": "b233607d",
   "metadata": {
    "ExecuteTime": {
     "end_time": "2021-11-24T13:51:58.527904Z",
     "start_time": "2021-11-24T13:51:58.343859Z"
    }
   },
   "outputs": [
    {
     "data": {
      "text/plain": [
       "Text(0.5, 0, 'complexity')"
      ]
     },
     "execution_count": 44,
     "metadata": {},
     "output_type": "execute_result"
    },
    {
     "data": {
      "image/png": "[encoded data removed]",
      "text/plain": [
       "<Figure size 432x288 with 1 Axes>"
      ]
     },
     "metadata": {
      "needs_background": "light"
     },
     "output_type": "display_data"
    }
   ],
   "source": [
    "r_ind = 1 # r=0.1\n",
    "n_ind = 2 # n=100\n",
    "noise_ind = 2 #noise variance = 0.5\n",
    "ols_testMSE = test_MSE[:, n_ind, noise_ind, r_ind, 0, 0, 0]\n",
    "ols_trainMSE = train_MSE[:, n_ind, noise_ind, r_ind, 0, 0, 0]\n",
    "\n",
    "fig, ax = plt.subplots()\n",
    "ax.plot(p, ols_testMSE, 'k', label=\"testMSE\")\n",
    "ax.plot(p, ols_trainMSE, 'b', label=\"trainMSE\")\n",
    "ax.legend()\n",
    "ax.set_xlabel(\"complexity\")"
   ]
  },
  {
   "cell_type": "code",
   "execution_count": null,
   "id": "b32e9c4b",
   "metadata": {},
   "outputs": [],
   "source": []
  }
 ],
 "metadata": {
  "kernelspec": {
   "display_name": "Python 3 (ipykernel)",
   "language": "python",
   "name": "python3"
  },
  "language_info": {
   "codemirror_mode": {
    "name": "ipython",
    "version": 3
   },
   "file_extension": ".py",
   "mimetype": "text/x-python",
   "name": "python",
   "nbconvert_exporter": "python",
   "pygments_lexer": "ipython3",
   "version": "3.8.10"
  },
  "toc": {
   "base_numbering": 1,
   "nav_menu": {},
   "number_sections": true,
   "sideBar": true,
   "skip_h1_title": false,
   "title_cell": "Table of Contents",
   "title_sidebar": "Contents",
   "toc_cell": false,
   "toc_position": {},
   "toc_section_display": true,
   "toc_window_display": true
  },
  "varInspector": {
   "cols": {
    "lenName": 16,
    "lenType": 16,
    "lenVar": 40
   },
   "kernels_config": {
    "python": {
     "delete_cmd_postfix": "",
     "delete_cmd_prefix": "del ",
     "library": "var_list.py",
     "varRefreshCmd": "print(var_dic_list())"
    },
    "r": {
     "delete_cmd_postfix": ") ",
     "delete_cmd_prefix": "rm(",
     "library": "var_list.r",
     "varRefreshCmd": "cat(var_dic_list()) "
    }
   },
   "types_to_exclude": [
    "module",
    "function",
    "builtin_function_or_method",
    "instance",
    "_Feature"
   ],
   "window_display": false
  }
 },
 "nbformat": 4,
 "nbformat_minor": 5
}
