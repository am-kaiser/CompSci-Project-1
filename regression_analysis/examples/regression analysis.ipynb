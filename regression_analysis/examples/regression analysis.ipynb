{
 "cells": [
  {
   "cell_type": "markdown",
   "id": "2c1ea9a1",
   "metadata": {
    "ExecuteTime": {
     "end_time": "2021-11-17T20:26:49.729908Z",
     "start_time": "2021-11-17T20:26:49.723956Z"
    }
   },
   "source": [
    "# Importing Libraries"
   ]
  },
  {
   "cell_type": "code",
   "execution_count": 6,
   "id": "6c2fdd27",
   "metadata": {
    "ExecuteTime": {
     "end_time": "2021-11-24T09:51:21.181105Z",
     "start_time": "2021-11-24T09:51:20.578141Z"
    }
   },
   "outputs": [
    {
     "name": "stdout",
     "output_type": "stream",
     "text": [
      "The autoreload extension is already loaded. To reload it, use:\n",
      "  %reload_ext autoreload\n"
     ]
    }
   ],
   "source": [
    "%load_ext autoreload\n",
    "%autoreload 2"
   ]
  },
  {
   "cell_type": "code",
   "execution_count": 22,
   "id": "6cedf291",
   "metadata": {},
   "outputs": [],
   "source": [
    "%matplotlib inline\n",
    "\n",
    "from regression_analysis.fit_model import linear_regression\n",
    "from regression_analysis.utils import franke\n",
    "from regression_analysis.utils.plots import triangulation_for_triheatmap as triheatmap\n",
    "from regression_analysis.fit_model.apply_regression import plot_stat, apply_regression, apply_regression2\n",
    "\n",
    "import numpy as np\n",
    "import matplotlib.pyplot as plt\n",
    "\n",
    "from matplotlib.tri import Triangulation\n",
    "from matplotlib.ticker import AutoMinorLocator, MultipleLocator\n",
    "import seaborn as sns\n",
    "\n",
    "from sklearn.model_selection import train_test_split\n",
    "from sklearn import linear_model\n",
    "\n",
    "import ipywidgets as widget\n",
    "from ipywidgets import interact, interactive, fixed, interact_manual\n",
    "\n",
    "import glob as glob\n",
    "from IPython.display import Image, display, HTML, Video\n",
    "\n",
    "import os\n",
    "if not os.path.exists('data'):\n",
    "    os.makedirs('data')\n",
    "#note my bootstrap can be wrong. "
   ]
  },
  {
   "cell_type": "markdown",
   "id": "a609d53b",
   "metadata": {
    "ExecuteTime": {
     "end_time": "2021-11-17T20:24:29.410589Z",
     "start_time": "2021-11-17T20:24:29.408506Z"
    }
   },
   "source": [
    "# Demo for applying regression to Franke data "
   ]
  },
  {
   "cell_type": "code",
   "execution_count": 8,
   "id": "9b584e68",
   "metadata": {
    "ExecuteTime": {
     "end_time": "2021-11-24T09:49:46.505573Z",
     "start_time": "2021-11-24T09:49:45.449502Z"
    }
   },
   "outputs": [],
   "source": [
    "n = 100 #number of data points along each axis. Total data points = n*n\n",
    "x1 = np.linspace(0,1,n)\n",
    "x2 = np.linspace(0,1,n)\n",
    "xx1, xx2 = np.meshgrid(x1, x2)\n",
    "xx1 = xx1.reshape((n*n),1)\n",
    "xx2 = xx2.reshape((n*n),1)\n",
    "\n",
    "y = franke.Franke(xx1, xx2, var=0.1) #zero mean gaussian noise has variance = var"
   ]
  },
  {
   "cell_type": "code",
   "execution_count": 9,
   "id": "c238ad66",
   "metadata": {
    "ExecuteTime": {
     "end_time": "2021-11-24T09:49:47.316064Z",
     "start_time": "2021-11-24T09:49:46.570477Z"
    }
   },
   "outputs": [],
   "source": [
    "#create linear regression object by passing input and output data\n",
    "linear_reg = linear_regression.linear_regression2D(xx1, xx2, y) "
   ]
  },
  {
   "cell_type": "markdown",
   "id": "b3ed0579",
   "metadata": {},
   "source": [
    "## Apply OLS "
   ]
  },
  {
   "cell_type": "code",
   "execution_count": 10,
   "id": "9e297d82",
   "metadata": {
    "ExecuteTime": {
     "end_time": "2021-11-24T09:49:50.588642Z",
     "start_time": "2021-11-24T09:49:50.572371Z"
    }
   },
   "outputs": [
    {
     "name": "stdout",
     "output_type": "stream",
     "text": [
      "Train MSE 0.001409243325118128\n",
      "Test MSE 0.0013459237489183006\n",
      "Train R2 0.97459119757395\n",
      "Test R2 0.9758790173373477\n",
      "Train bias 0.05546279991824099\n",
      "Test bias 0.05580008894550789\n",
      "Train model variance 0.05405355659055108\n",
      "Test model variance 0.05519075151219109\n"
     ]
    }
   ],
   "source": [
    "linear_reg.apply_leastsquares(order=5, test_ratio=0.1)\n",
    "print(\"Train MSE\", linear_reg.trainMSE)\n",
    "print(\"Test MSE\", linear_reg.testMSE)\n",
    "print(\"Train R2\", linear_reg.trainR2)\n",
    "print(\"Test R2\", linear_reg.testR2)\n",
    "print(\"Train bias\", linear_reg.trainbias)\n",
    "print(\"Test bias\", linear_reg.testbias)\n",
    "print(\"Train model variance\", linear_reg.trainvar)\n",
    "print(\"Test model variance\", linear_reg.testvar)"
   ]
  },
  {
   "cell_type": "markdown",
   "id": "ad34b7ef",
   "metadata": {
    "ExecuteTime": {
     "end_time": "2021-11-17T20:27:16.008727Z",
     "start_time": "2021-11-17T20:27:16.000757Z"
    }
   },
   "source": [
    "## Apply OLS with bootstrap sampling"
   ]
  },
  {
   "cell_type": "code",
   "execution_count": 11,
   "id": "27eaee7a",
   "metadata": {
    "ExecuteTime": {
     "end_time": "2021-11-24T09:49:52.406470Z",
     "start_time": "2021-11-24T09:49:50.939287Z"
    }
   },
   "outputs": [
    {
     "name": "stdout",
     "output_type": "stream",
     "text": [
      "Train MSE 0.0013937348859098106\n",
      "Test MSE 0.0014161000009109855\n",
      "Train R2 0.9749168592949838\n",
      "Test R2 0.9744611376987853\n",
      "Train bias 0.0018692849698636264\n",
      "Test bias 0.001851399959636814\n",
      "Train model variance 0.0018241531485637568\n",
      "Test model variance 0.0017925022139487223\n"
     ]
    }
   ],
   "source": [
    "linear_reg.apply_leastsquares_bootstrap(order=5, test_ratio=0.1, n_boots=30)\n",
    "print(\"Train MSE\", linear_reg.trainMSE)\n",
    "print(\"Test MSE\", linear_reg.testMSE)\n",
    "print(\"Train R2\", linear_reg.trainR2)\n",
    "print(\"Test R2\", linear_reg.testR2)\n",
    "print(\"Train bias\", linear_reg.trainbias)\n",
    "print(\"Test bias\", linear_reg.testbias)\n",
    "print(\"Train model variance\", linear_reg.trainvar)\n",
    "print(\"Test model variance\", linear_reg.testvar)"
   ]
  },
  {
   "cell_type": "markdown",
   "id": "30bfa940",
   "metadata": {
    "ExecuteTime": {
     "end_time": "2021-11-17T20:27:44.344810Z",
     "start_time": "2021-11-17T20:27:44.341402Z"
    }
   },
   "source": [
    "## Apply OLS with cross validation sampling"
   ]
  },
  {
   "cell_type": "code",
   "execution_count": 12,
   "id": "2daa8a14",
   "metadata": {
    "ExecuteTime": {
     "end_time": "2021-11-24T09:49:52.711683Z",
     "start_time": "2021-11-24T09:49:52.462848Z"
    }
   },
   "outputs": [
    {
     "name": "stdout",
     "output_type": "stream",
     "text": [
      "Train MSE 0.0014020312805158154\n",
      "Test MSE 0.001412118119312917\n",
      "Train R2 0.9747362011258884\n",
      "Test R2 0.9744996188567538\n",
      "Train bias 0.005551141283422915\n",
      "Test bias 0.005537162744809686\n",
      "Train model variance 0.0054114583883390095\n",
      "Test model variance 0.005327451101347602\n"
     ]
    }
   ],
   "source": [
    "linear_reg.apply_leastsquares_crossvalidation(order=5, kfolds=10)\n",
    "print(\"Train MSE\", linear_reg.trainMSE)\n",
    "print(\"Test MSE\", linear_reg.testMSE)\n",
    "print(\"Train R2\", linear_reg.trainR2)\n",
    "print(\"Test R2\", linear_reg.testR2)\n",
    "print(\"Train bias\", linear_reg.trainbias)\n",
    "print(\"Test bias\", linear_reg.testbias)\n",
    "print(\"Train model variance\", linear_reg.trainvar)\n",
    "print(\"Test model variance\", linear_reg.testvar)"
   ]
  },
  {
   "cell_type": "markdown",
   "id": "7855d868",
   "metadata": {
    "ExecuteTime": {
     "end_time": "2021-11-17T20:28:20.371789Z",
     "start_time": "2021-11-17T20:28:20.365778Z"
    }
   },
   "source": [
    "## Apply Ridge regression "
   ]
  },
  {
   "cell_type": "code",
   "execution_count": 13,
   "id": "44f21a63",
   "metadata": {
    "ExecuteTime": {
     "end_time": "2021-11-24T09:49:52.804628Z",
     "start_time": "2021-11-24T09:49:52.772896Z"
    }
   },
   "outputs": [
    {
     "name": "stdout",
     "output_type": "stream",
     "text": [
      "Train MSE 0.0036223791952717365\n",
      "Test MSE 0.0031694210799938184\n",
      "Train R2 0.934977814866892\n",
      "Test R2 0.9408068638878101\n",
      "Train bias 0.05570989643498674\n",
      "Test bias 0.053549503405628016\n",
      "Train model variance 0.0501386193746014\n",
      "Test model variance 0.050295736085766124\n"
     ]
    }
   ],
   "source": [
    "linear_reg.apply_leastsquares(order=5, test_ratio=0.1, ridge=True, lmbda=0.1)\n",
    "print(\"Train MSE\", linear_reg.trainMSE)\n",
    "print(\"Test MSE\", linear_reg.testMSE)\n",
    "print(\"Train R2\", linear_reg.trainR2)\n",
    "print(\"Test R2\", linear_reg.testR2)\n",
    "print(\"Train bias\", linear_reg.trainbias)\n",
    "print(\"Test bias\", linear_reg.testbias)\n",
    "print(\"Train model variance\", linear_reg.trainvar)\n",
    "print(\"Test model variance\", linear_reg.testvar)"
   ]
  },
  {
   "cell_type": "markdown",
   "id": "06fb6486",
   "metadata": {
    "ExecuteTime": {
     "end_time": "2021-11-17T20:28:59.997409Z",
     "start_time": "2021-11-17T20:28:59.992330Z"
    }
   },
   "source": [
    "## Apply Ridge regression with bootstrap"
   ]
  },
  {
   "cell_type": "code",
   "execution_count": 14,
   "id": "159e173d",
   "metadata": {
    "ExecuteTime": {
     "end_time": "2021-11-24T09:49:53.623964Z",
     "start_time": "2021-11-24T09:49:52.848515Z"
    }
   },
   "outputs": [
    {
     "name": "stdout",
     "output_type": "stream",
     "text": [
      "Train MSE 0.0035892557947488682\n",
      "Test MSE 0.0035839418623208677\n",
      "Train R2 0.9353950809654676\n",
      "Test R2 0.9351340306492194\n",
      "Train bias 0.0017740719241137832\n",
      "Test bias 0.0019394377375307665\n",
      "Train model variance 0.0015941441882738568\n",
      "Test model variance 0.0017067279169159886\n"
     ]
    }
   ],
   "source": [
    "linear_reg.apply_leastsquares_bootstrap(order=5, test_ratio=0.1, n_boots=30, ridge=True, lmbda=0.1)\n",
    "print(\"Train MSE\", linear_reg.trainMSE)\n",
    "print(\"Test MSE\", linear_reg.testMSE)\n",
    "print(\"Train R2\", linear_reg.trainR2)\n",
    "print(\"Test R2\", linear_reg.testR2)\n",
    "print(\"Train bias\", linear_reg.trainbias)\n",
    "print(\"Test bias\", linear_reg.testbias)\n",
    "print(\"Train model variance\", linear_reg.trainvar)\n",
    "print(\"Test model variance\", linear_reg.testvar)"
   ]
  },
  {
   "cell_type": "markdown",
   "id": "c2375111",
   "metadata": {},
   "source": [
    "## Apply Ridge regression with cross validation"
   ]
  },
  {
   "cell_type": "code",
   "execution_count": 15,
   "id": "1c3c4006",
   "metadata": {
    "ExecuteTime": {
     "end_time": "2021-11-24T09:49:53.890228Z",
     "start_time": "2021-11-24T09:49:53.676717Z"
    },
    "scrolled": true
   },
   "outputs": [
    {
     "name": "stdout",
     "output_type": "stream",
     "text": [
      "Train MSE 0.003587376136985238\n",
      "Test MSE 0.0035981958648432072\n",
      "Train R2 0.9353575503700731\n",
      "Test R2 0.9351096035896347\n",
      "Train bias 0.005592751856179223\n",
      "Test bias 0.0051489727959840815\n",
      "Train model variance 0.005039767668004536\n",
      "Test model variance 0.004613243357524301\n"
     ]
    }
   ],
   "source": [
    "linear_reg.apply_leastsquares_crossvalidation(order=5, kfolds=10, ridge=True, lmbda=0.1)\n",
    "print(\"Train MSE\", linear_reg.trainMSE)\n",
    "print(\"Test MSE\", linear_reg.testMSE)\n",
    "print(\"Train R2\", linear_reg.trainR2)\n",
    "print(\"Test R2\", linear_reg.testR2)\n",
    "print(\"Train bias\", linear_reg.trainbias)\n",
    "print(\"Test bias\", linear_reg.testbias)\n",
    "print(\"Train model variance\", linear_reg.trainvar)\n",
    "print(\"Test model variance\", linear_reg.testvar)"
   ]
  },
  {
   "cell_type": "markdown",
   "id": "69e1362a",
   "metadata": {},
   "source": [
    "## Apply Lasso regression: Not working properly. High R2 value"
   ]
  },
  {
   "cell_type": "code",
   "execution_count": 16,
   "id": "23a96853",
   "metadata": {
    "ExecuteTime": {
     "end_time": "2021-11-24T09:49:58.569551Z",
     "start_time": "2021-11-24T09:49:58.086413Z"
    }
   },
   "outputs": [
    {
     "name": "stdout",
     "output_type": "stream",
     "text": [
      "[ 0.81412701 -0.33689202 -0.42752531 -0.3366955   0.         -0.18097848\n",
      "  0.          0.          0.43188509 -0.        ]\n",
      "Train MSE 0.09448934509711406\n",
      "Test MSE 0.09443151462362212\n",
      "Train R2 -15325.199050141555\n",
      "Test R2 -1697.7861016474715\n",
      "Train bias 0.05548797068986672\n",
      "Test bias 0.05558845302372929\n",
      "Train model variance 0.03900137440724722\n",
      "Test model variance 0.03884306159989281\n"
     ]
    }
   ],
   "source": [
    "linear_reg.apply_leastsquares(order=3, test_ratio=0.1, scikit_lasso=True, lmbda=0.001)\n",
    "print(\"Train MSE\", linear_reg.trainMSE)\n",
    "print(\"Test MSE\", linear_reg.testMSE)\n",
    "print(\"Train R2\", linear_reg.trainR2)\n",
    "print(\"Test R2\", linear_reg.testR2)\n",
    "print(\"Train bias\", linear_reg.trainbias)\n",
    "print(\"Test bias\", linear_reg.testbias)\n",
    "print(\"Train model variance\", linear_reg.trainvar)\n",
    "print(\"Test model variance\", linear_reg.testvar)\n"
   ]
  },
  {
   "cell_type": "code",
   "execution_count": 17,
   "id": "31dd814f",
   "metadata": {
    "ExecuteTime": {
     "end_time": "2021-11-24T09:50:07.411678Z",
     "start_time": "2021-11-24T09:50:07.358543Z"
    }
   },
   "outputs": [
    {
     "name": "stdout",
     "output_type": "stream",
     "text": [
      "0.0\n",
      "[ 0.53216976 -0.         -0.02546719 -0.38352202 -0.         -0.20839403\n",
      " -0.         -0.         -0.         -0.        ]\n"
     ]
    }
   ],
   "source": [
    "x_train, x_test, y_train, y_test = train_test_split(np.hstack([linear_reg.x1, linear_reg.x2]), linear_reg.y, test_size=0.1)\n",
    "x1_train = x_train[:, 0]\n",
    "x2_train = x_train[:, 1]\n",
    "\n",
    "x1_test = x_test[:, 0]\n",
    "x2_test = x_test[:, 1]\n",
    "X = linear_regression.design_mat2D(x1_train, x2_train, order=3)\n",
    "lasso_reg = linear_model.Lasso(0.01, fit_intercept=False)\n",
    "lasso_reg.fit(np.asmatrix(X), np.asmatrix(y_train))\n",
    "y_model_train = lasso_reg.predict(X)\n",
    "y_model_test = lasso_reg.predict(linear_regression.design_mat2D(x1_test, x2_test, order=3))\n",
    "print(lasso_reg.intercept_)\n",
    "print(lasso_reg.coef_)"
   ]
  },
  {
   "cell_type": "code",
   "execution_count": null,
   "id": "63941573",
   "metadata": {
    "ExecuteTime": {
     "end_time": "2021-11-24T09:22:18.063251Z",
     "start_time": "2021-11-24T09:22:17.985637Z"
    }
   },
   "outputs": [],
   "source": []
  },
  {
   "cell_type": "code",
   "execution_count": 18,
   "id": "237dc8dd",
   "metadata": {
    "ExecuteTime": {
     "end_time": "2021-11-24T09:44:31.763023Z",
     "start_time": "2021-11-24T09:44:31.651640Z"
    }
   },
   "outputs": [
    {
     "name": "stdout",
     "output_type": "stream",
     "text": [
      "0.0\n",
      "[ 0.62515182 -0.37064169 -0.23529826]\n"
     ]
    }
   ],
   "source": [
    "x1 = np.linspace(1,10,10)\n",
    "x2 = np.linspace(1,10,10)\n",
    "y = np.linspace(4,23,10)\n",
    "x_train, x_test, y_train, y_test = train_test_split(np.hstack([linear_reg.x1, linear_reg.x2]), linear_reg.y, test_size=0.1)\n",
    "x1_train = x_train[:, 0]\n",
    "x2_train = x_train[:, 1]\n",
    "\n",
    "x1_test = x_test[:, 0]\n",
    "x2_test = x_test[:, 1]\n",
    "X = linear_regression.design_mat2D(x1_train, x2_train, order=1)\n",
    "lasso_reg = linear_model.Lasso(alpha=0.01, fit_intercept=False)\n",
    "lasso_reg.fit(np.asmatrix(X), np.asmatrix(y_train))\n",
    "y_model_train = lasso_reg.predict(X)\n",
    "y_model_test = lasso_reg.predict(linear_regression.design_mat2D(x1_test, x2_test, order=1))\n",
    "print(lasso_reg.intercept_)\n",
    "print(lasso_reg.coef_)\n"
   ]
  },
  {
   "cell_type": "markdown",
   "id": "a1cc1b6e",
   "metadata": {
    "ExecuteTime": {
     "end_time": "2021-11-19T14:49:53.922397Z",
     "start_time": "2021-11-19T14:49:53.915295Z"
    }
   },
   "source": [
    "# Regression Comparisons"
   ]
  },
  {
   "cell_type": "code",
   "execution_count": 19,
   "id": "b0d6afaa",
   "metadata": {
    "ExecuteTime": {
     "end_time": "2021-11-24T10:20:42.369721Z",
     "start_time": "2021-11-24T10:20:42.351405Z"
    }
   },
   "outputs": [],
   "source": [
    "p = np.arange(1,11)\n",
    "n = np.array([20, 50, 100, 200])#, 200, 30])\n",
    "noise = np.array([0.0, 0.25, 0.5])#, 0.75, 1])\n",
    "r = np.arange(1,5)*0.1\n",
    "\n",
    "n_boots = np.array([2, 5, 10], dtype=int)\n",
    "k_folds = np.array([2, 5, 10], dtype=int)\n",
    "ridge_lambda = np.array([0.01, 0.1, 1.0])\n",
    "\n",
    "#n_boots = np.array([10], dtype=int)\n",
    "#k_folds = np.array([10], dtype=int)\n",
    "#ridge_lambda = np.array([1])\n",
    "\n",
    "np.save(\"data/p.npy\", p)\n",
    "np.save(\"data/n.npy\", n)\n",
    "np.save(\"data/noise.npy\", noise)\n",
    "np.save(\"data/r.npy\", r)\n",
    "np.save(\"data/k_folds.npy\", k_folds)\n",
    "np.save(\"data/n_boots.npy\", n_boots)\n",
    "np.save(\"data/ridge_lambda.npy\", ridge_lambda)"
   ]
  },
  {
   "cell_type": "code",
   "execution_count": null,
   "id": "24d9a21a",
   "metadata": {
    "ExecuteTime": {
     "end_time": "2021-11-24T09:44:31.911395Z",
     "start_time": "2021-11-24T09:44:31.832570Z"
    }
   },
   "outputs": [],
   "source": []
  },
  {
   "cell_type": "code",
   "execution_count": null,
   "id": "c9ef5d2c",
   "metadata": {
    "ExecuteTime": {
     "end_time": "2021-11-24T09:44:32.230857Z",
     "start_time": "2021-11-24T09:44:31.913116Z"
    }
   },
   "outputs": [],
   "source": []
  },
  {
   "cell_type": "code",
   "execution_count": 20,
   "id": "463736db",
   "metadata": {
    "ExecuteTime": {
     "end_time": "2021-11-24T09:44:46.175139Z",
     "start_time": "2021-11-24T09:44:32.232898Z"
    }
   },
   "outputs": [
    {
     "name": "stdout",
     "output_type": "stream",
     "text": [
      "(10, 4, 3, 4, 1, 1, 1)\n",
      "(10, 4, 3, 4, 1, 3, 1)\n",
      "(10, 4, 3, 1, 1, 1, 3)\n",
      "(10, 4, 3, 4, 3, 1, 1)\n",
      "(10, 4, 3, 4, 3, 3, 1)\n",
      "(10, 4, 3, 1, 3, 1, 3)\n"
     ]
    }
   ],
   "source": [
    "methods = [\"ols\", \"ols_bootstrap\", \"ols_crossvalidation\", \"ridge\", \"ridge_bootstrap\", \"ridge_crossvalidation\"]\n",
    "for method in methods:\n",
    "    if(method==\"ols_crossvalidation\" or method==\"ridge_crossvalidation\"):\n",
    "        r = np.ones(1)*0.1\n",
    "    if(method==\"ols\" or method==\"ols_crossvalidation\" or method==\"ridge\" or method==\"ridge_crossvalidation\"):\n",
    "        n_boots = np.ones(1, dtype=int)\n",
    "    if(method==\"ols\" or method==\"ols_bootstrap\" or method==\"ridge\" or method==\"ridge_bootstrap\"):\n",
    "        k_folds = np.ones(1, dtype=int)\n",
    "    if(method==\"ols\" or method==\"ols_bootstrap\" or method==\"ols_crossvalidation\"):\n",
    "        ridge_lambda = np.ones(1)\n",
    "    train_MSE, test_MSE, train_R2, test_R2 = apply_regression2(p, n, \n",
    "                                                               noise, r, n_boots=n_boots, k_folds=k_folds,\n",
    "                                                               ridge_lambda=ridge_lambda, reg_type=method)\n",
    "    r=np.load(\"data/r.npy\")\n",
    "    ridge_lambda=np.load(\"data/ridge_lambda.npy\")\n",
    "    k_folds=np.load(\"data/k_folds.npy\")\n",
    "    n_boots=np.load(\"data/n_boots.npy\")\n",
    "    np.save(\"data/train_MSE\"+method+\".npy\", train_MSE)\n",
    "    np.save(\"data/test_MSE\"+method+\".npy\", test_MSE)\n",
    "    np.save(\"data/train_R2\"+method+\".npy\", train_R2)\n",
    "    np.save(\"data/test_R2\"+method+\".npy\", test_R2)\n",
    "    print(train_MSE.shape)\n"
   ]
  },
  {
   "cell_type": "code",
   "execution_count": 23,
   "id": "6fb99ba3",
   "metadata": {
    "ExecuteTime": {
     "end_time": "2021-11-24T09:44:46.481436Z",
     "start_time": "2021-11-24T09:44:46.176792Z"
    }
   },
   "outputs": [
    {
     "data": {
      "application/vnd.jupyter.widget-view+json": {
       "model_id": "84daae4edbc949f5bbf6bf9f6e6b5367",
       "version_major": 2,
       "version_minor": 0
      },
      "text/plain": [
       "interactive(children=(Dropdown(description='ratio', options=(0.1, 0.2, 0.30000000000000004, 0.4), value=0.1), …"
      ]
     },
     "metadata": {},
     "output_type": "display_data"
    },
    {
     "data": {
      "text/plain": [
       "<function regression_analysis.fit_model.apply_regression.plot_stat(ratio=0.1, num=100, stat='testMSE', method='ols', n_boot=1000, k_fold=1000, ridge_lmb=122.0)>"
      ]
     },
     "execution_count": 23,
     "metadata": {},
     "output_type": "execute_result"
    }
   ],
   "source": [
    "methods = [\"ols\", \"ols_bootstrap\", \"ols_crossvalidation\", \"ridge\", \"ridge_bootstrap\", \"ridge_crossvalidation\"]\n",
    "stats = [\"train MSE\", \"test MSE\", \"test R2\"]\n",
    "\n",
    "widget.interact(plot_stat, ratio=r.tolist(), num=n.tolist(), stat=stats, \n",
    "                method=methods, k_fold=k_folds.tolist(), n_boot=n_boots.tolist(),\n",
    "                ridge_lmb=ridge_lambda.tolist())"
   ]
  },
  {
   "cell_type": "code",
   "execution_count": null,
   "id": "53b76885",
   "metadata": {
    "ExecuteTime": {
     "end_time": "2021-11-24T10:47:04.463962Z",
     "start_time": "2021-11-24T10:20:49.839559Z"
    }
   },
   "outputs": [],
   "source": [
    "from apply_regression import apply_regression\n",
    "methods = [\"ols\", \"ols_bootstrap\", \"ols_crossvalidation\", \"ridge\", \"ridge_bootstrap\", \"ridge_crossvalidation\"]\n",
    "for method in methods:\n",
    "    if(method==\"ols_crossvalidation\" or method==\"ridge_crossvalidation\"):\n",
    "        r = np.ones(1)*0.1\n",
    "    if(method==\"ols\" or method==\"ols_crossvalidation\" or method==\"ridge\" or method==\"ridge_crossvalidation\"):\n",
    "        n_boots = np.ones(1, dtype=int)\n",
    "    if(method==\"ols\" or method==\"ols_bootstrap\" or method==\"ridge\" or method==\"ridge_bootstrap\"):\n",
    "        k_folds = np.ones(1, dtype=int)\n",
    "    if(method==\"ols\" or method==\"ols_bootstrap\" or method==\"ols_crossvalidation\"):\n",
    "        ridge_lambda = np.ones(1)\n",
    "    train_MSE, test_MSE, train_R2, test_R2, test_bias, test_var = apply_regression(p, n, \n",
    "                                                               noise, r, n_boots=n_boots, k_folds=k_folds,\n",
    "                                                               ridge_lambda=ridge_lambda, reg_type=method)\n",
    "    r=np.load(\"data/r.npy\")\n",
    "    ridge_lambda=np.load(\"data/ridge_lambda.npy\")\n",
    "    k_folds=np.load(\"data/k_folds.npy\")\n",
    "    n_boots=np.load(\"data/n_boots.npy\")\n",
    "    np.save(\"data/train_MSE\"+method+\".npy\", train_MSE)\n",
    "    np.save(\"data/test_MSE\"+method+\".npy\", test_MSE)\n",
    "    np.save(\"data/train_R2\"+method+\".npy\", train_R2)\n",
    "    np.save(\"data/test_R2\"+method+\".npy\", test_R2)\n",
    "    np.save(\"data/test_bias\"+method+\".npy\", test_bias)\n",
    "    np.save(\"data/test_var\"+method+\".npy\", test_var)\n",
    "    print(train_MSE.shape)\n"
   ]
  },
  {
   "cell_type": "code",
   "execution_count": null,
   "id": "195e6d5c",
   "metadata": {
    "ExecuteTime": {
     "end_time": "2021-11-24T10:47:04.968813Z",
     "start_time": "2021-11-24T10:47:04.708401Z"
    }
   },
   "outputs": [],
   "source": [
    "from apply_regression import plot_stat\n",
    "methods = [\"ols\", \"ols_bootstrap\", \"ols_crossvalidation\", \"ridge\", \"ridge_bootstrap\", \"ridge_crossvalidation\"]\n",
    "stats = [\"train MSE\", \"test MSE\", \"test R2\", \"test bias\", \"test variance\"]\n",
    "\n",
    "widget.interact(plot_stat, ratio=r.tolist(), num=n.tolist(), stat=stats, \n",
    "                method=methods, k_fold=k_folds.tolist(), n_boot=n_boots.tolist(),\n",
    "                ridge_lmb=ridge_lambda.tolist())"
   ]
  },
  {
   "cell_type": "markdown",
   "id": "a8b5a7a2",
   "metadata": {
    "ExecuteTime": {
     "end_time": "2021-11-24T09:59:44.885373Z",
     "start_time": "2021-11-24T09:59:44.885362Z"
    }
   },
   "source": [
    "# Bias Variance Tradeoff"
   ]
  },
  {
   "cell_type": "code",
   "execution_count": null,
   "id": "7d153594",
   "metadata": {
    "ExecuteTime": {
     "end_time": "2021-11-24T10:47:05.644001Z",
     "start_time": "2021-11-24T10:47:05.155233Z"
    }
   },
   "outputs": [],
   "source": [
    "#loading data\n",
    "method = \"ols\"\n",
    "p=np.load(\"data/p.npy\")\n",
    "n=np.load(\"data/n.npy\")\n",
    "noise=np.load(\"data/noise.npy\")\n",
    "r=np.load(\"data/r.npy\")\n",
    "ridge_lambda=np.load(\"data/ridge_lambda.npy\")\n",
    "k_folds=np.load(\"data/k_folds.npy\")\n",
    "n_boots=np.load(\"data/n_boots.npy\")\n",
    "train_MSE=np.load(\"data/train_MSE\"+method+\".npy\")\n",
    "test_MSE=np.load(\"data/test_MSE\"+method+\".npy\")\n",
    "train_R2=np.load(\"data/train_R2\"+method+\".npy\")\n",
    "test_R2=np.load(\"data/test_R2\"+method+\".npy\")\n",
    "test_bias=np.load(\"data/test_bias\"+method+\".npy\")\n",
    "test_var=np.load(\"data/test_var\"+method+\".npy\")"
   ]
  },
  {
   "cell_type": "markdown",
   "id": "22ce159b",
   "metadata": {},
   "source": [
    "For Ordinary least squares, we find the bias variance tradeoff as a function of model complexity: order of polynomial. We determine it for fixed test ratio and noise level"
   ]
  },
  {
   "cell_type": "code",
   "execution_count": null,
   "id": "cffb0ff4",
   "metadata": {
    "ExecuteTime": {
     "end_time": "2021-11-24T10:52:04.532750Z",
     "start_time": "2021-11-24T10:52:04.429861Z"
    }
   },
   "outputs": [],
   "source": [
    "r_ind = 1 # r=0.1\n",
    "n_ind = 3 # n=100\n",
    "noise_ind = 2 #noise variance = 0.5\n",
    "ols_bias = test_bias[:, n_ind, noise_ind, r_ind, 0, 0, 0]\n",
    "ols_var = test_var[:, n_ind, noise_ind, r_ind, 0, 0, 0]\n",
    "\n",
    "fig, ax = plt.subplots()\n",
    "ax.plot(p, ols_bias, 'k')\n",
    "ax.plot(p, ols_var, 'b')"
   ]
  },
  {
   "cell_type": "code",
   "execution_count": null,
   "id": "dc103f1c",
   "metadata": {
    "ExecuteTime": {
     "end_time": "2021-11-24T13:21:26.900211Z",
     "start_time": "2021-11-24T13:21:26.794298Z"
    }
   },
   "outputs": [],
   "source": [
    "r_ind = 1 # r=0.1\n",
    "n_ind = 3 # n=100\n",
    "noise_ind = 2 #noise variance = 0.5\n",
    "ols_testMSE = test_MSE[:, n_ind, noise_ind, r_ind, 0, 0, 0]\n",
    "ols_trainMSE = train_MSE[:, n_ind, noise_ind, r_ind, 0, 0, 0]\n",
    "\n",
    "fig, ax = plt.subplots()\n",
    "ax.plot(p, ols_testMSE, 'k')\n",
    "ax.plot(p, ols_trainMSE, 'b')"
   ]
  },
  {
   "cell_type": "code",
   "execution_count": null,
   "id": "7963374f",
   "metadata": {
    "ExecuteTime": {
     "end_time": "2021-11-24T13:24:07.117967Z",
     "start_time": "2021-11-24T13:23:39.565417Z"
    }
   },
   "outputs": [],
   "source": [
    "p = np.arange(1,15)\n",
    "np.save(\"data/p.npy\", p)\n",
    "from apply_regression import apply_regression\n",
    "methods = [\"ols\"]\n",
    "for method in methods:\n",
    "    if(method==\"ols_crossvalidation\" or method==\"ridge_crossvalidation\"):\n",
    "        r = np.ones(1)*0.1\n",
    "    if(method==\"ols\" or method==\"ols_crossvalidation\" or method==\"ridge\" or method==\"ridge_crossvalidation\"):\n",
    "        n_boots = np.ones(1, dtype=int)\n",
    "    if(method==\"ols\" or method==\"ols_bootstrap\" or method==\"ridge\" or method==\"ridge_bootstrap\"):\n",
    "        k_folds = np.ones(1, dtype=int)\n",
    "    if(method==\"ols\" or method==\"ols_bootstrap\" or method==\"ols_crossvalidation\"):\n",
    "        ridge_lambda = np.ones(1)\n",
    "    train_MSE, test_MSE, train_R2, test_R2, test_bias, test_var = apply_regression(p, n, \n",
    "                                                               noise, r, n_boots=n_boots, k_folds=k_folds,\n",
    "                                                               ridge_lambda=ridge_lambda, reg_type=method)\n",
    "    r=np.load(\"data/r.npy\")\n",
    "    ridge_lambda=np.load(\"data/ridge_lambda.npy\")\n",
    "    k_folds=np.load(\"data/k_folds.npy\")\n",
    "    n_boots=np.load(\"data/n_boots.npy\")\n",
    "    np.save(\"data/train_MSE\"+method+\".npy\", train_MSE)\n",
    "    np.save(\"data/test_MSE\"+method+\".npy\", test_MSE)\n",
    "    np.save(\"data/train_R2\"+method+\".npy\", train_R2)\n",
    "    np.save(\"data/test_R2\"+method+\".npy\", test_R2)\n",
    "    np.save(\"data/test_bias\"+method+\".npy\", test_bias)\n",
    "    np.save(\"data/test_var\"+method+\".npy\", test_var)\n",
    "    print(train_MSE.shape)\n",
    "from apply_regression import plot_stat\n",
    "methods = [\"ols\"]\n",
    "stats = [\"train MSE\", \"test MSE\", \"test R2\", \"test bias\", \"test variance\"]\n",
    "\n",
    "widget.interact(plot_stat, ratio=r.tolist(), num=n.tolist(), stat=stats, \n",
    "                method=methods, k_fold=k_folds.tolist(), n_boot=n_boots.tolist(),\n",
    "                ridge_lmb=ridge_lambda.tolist())"
   ]
  },
  {
   "cell_type": "code",
   "execution_count": null,
   "id": "b5e1b7f8",
   "metadata": {
    "ExecuteTime": {
     "end_time": "2021-11-24T13:24:57.010742Z",
     "start_time": "2021-11-24T13:24:56.923726Z"
    }
   },
   "outputs": [],
   "source": [
    "r_ind = 1 # r=0.1\n",
    "n_ind = 3 # n=100\n",
    "noise_ind = 2 #noise variance = 0.5\n",
    "ols_bias = test_bias[:, n_ind, noise_ind, r_ind, 0, 0, 0]\n",
    "ols_var = test_var[:, n_ind, noise_ind, r_ind, 0, 0, 0]\n",
    "\n",
    "fig, ax = plt.subplots()\n",
    "ax.plot(p, ols_bias, 'k')\n",
    "ax.plot(p, ols_var, 'b')"
   ]
  },
  {
   "cell_type": "code",
   "execution_count": null,
   "id": "5a7d30ca",
   "metadata": {
    "ExecuteTime": {
     "end_time": "2021-11-24T13:25:49.049515Z",
     "start_time": "2021-11-24T13:25:48.927804Z"
    }
   },
   "outputs": [],
   "source": [
    "r_ind = 1 # r=0.1\n",
    "n_ind = 3 # n=100\n",
    "noise_ind = 2 #noise variance = 0.5\n",
    "ols_testMSE = test_MSE[:, n_ind, noise_ind, r_ind, 0, 0, 0]\n",
    "ols_trainMSE = train_MSE[:, n_ind, noise_ind, r_ind, 0, 0, 0]\n",
    "\n",
    "fig, ax = plt.subplots()\n",
    "ax.plot(p, ols_testMSE, 'k', label=\"testMSE\")\n",
    "ax.plot(p, ols_trainMSE, 'b', label=\"trainMSE\")\n",
    "ax.legend()"
   ]
  },
  {
   "cell_type": "code",
   "execution_count": null,
   "id": "722b0101",
   "metadata": {},
   "outputs": [],
   "source": []
  }
 ],
 "metadata": {
  "kernelspec": {
   "display_name": "Python 3",
   "language": "python",
   "name": "python3"
  },
  "language_info": {
   "codemirror_mode": {
    "name": "ipython",
    "version": 3
   },
   "file_extension": ".py",
   "mimetype": "text/x-python",
   "name": "python",
   "nbconvert_exporter": "python",
   "pygments_lexer": "ipython3",
   "version": "3.8.8"
  },
  "toc": {
   "base_numbering": 1,
   "nav_menu": {},
   "number_sections": true,
   "sideBar": true,
   "skip_h1_title": false,
   "title_cell": "Table of Contents",
   "title_sidebar": "Contents",
   "toc_cell": false,
   "toc_position": {
    "height": "calc(100% - 180px)",
    "left": "10px",
    "top": "150px",
    "width": "384px"
   },
   "toc_section_display": true,
   "toc_window_display": true
  },
  "varInspector": {
   "cols": {
    "lenName": 16,
    "lenType": 16,
    "lenVar": 40
   },
   "kernels_config": {
    "python": {
     "delete_cmd_postfix": "",
     "delete_cmd_prefix": "del ",
     "library": "var_list.py",
     "varRefreshCmd": "print(var_dic_list())"
    },
    "r": {
     "delete_cmd_postfix": ") ",
     "delete_cmd_prefix": "rm(",
     "library": "var_list.r",
     "varRefreshCmd": "cat(var_dic_list()) "
    }
   },
   "types_to_exclude": [
    "module",
    "function",
    "builtin_function_or_method",
    "instance",
    "_Feature"
   ],
   "window_display": false
  }
 },
 "nbformat": 4,
 "nbformat_minor": 5
}
