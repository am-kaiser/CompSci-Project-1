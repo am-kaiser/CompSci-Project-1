{
 "cells": [
  {
   "cell_type": "code",
   "execution_count": 5,
   "id": "d207a816",
   "metadata": {
    "ExecuteTime": {
     "end_time": "2021-11-14T18:44:38.479055Z",
     "start_time": "2021-11-14T18:44:38.058199Z"
    }
   },
   "outputs": [],
   "source": [
    "#from regression_analysis.fit_model.ordinaryLeastSquares import ols2D\n",
    "from regression_analysis.fit_model import ordinaryLeastSquares\n",
    "from regression_analysis.utils import findStat\n",
    "\n",
    "import numpy as np\n",
    "import matplotlib.pyplot as plt\n",
    "from matplotlib.tri import Triangulation\n",
    "from matplotlib.ticker import AutoMinorLocator, MultipleLocator"
   ]
  },
  {
   "cell_type": "markdown",
   "id": "6d35a5c1",
   "metadata": {
    "ExecuteTime": {
     "end_time": "2021-11-04T14:38:09.935770Z",
     "start_time": "2021-11-04T14:38:09.934022Z"
    }
   },
   "source": [
    "# Franke Function"
   ]
  },
  {
   "cell_type": "code",
   "execution_count": 6,
   "id": "9b0549d0",
   "metadata": {
    "ExecuteTime": {
     "end_time": "2021-11-14T18:41:29.758940Z",
     "start_time": "2021-11-14T18:41:29.736580Z"
    }
   },
   "outputs": [],
   "source": [
    "def Franke(x1, x2):\n",
    "    a = 0.75*np.exp(-((9*x1-2)**2)/4-((9*x2-2)**2)/4)\n",
    "    b = 0.75*np.exp(-((9*x1+1)**2)/49-((9*x2+1)**2)/10)\n",
    "    c = 0.5*np.exp(-((9*x1-7)**2)/4-((9*x2-3)**2)/4)\n",
    "    d = 0.2*np.exp(-((9*x1-4)**2)-((9*x2-7)**2))\n",
    "    return a+b+c-d"
   ]
  },
  {
   "cell_type": "markdown",
   "id": "4ca5579e",
   "metadata": {},
   "source": [
    "# Unit tests"
   ]
  },
  {
   "cell_type": "markdown",
   "id": "fdea0fc2",
   "metadata": {
    "ExecuteTime": {
     "end_time": "2021-11-04T14:42:12.311763Z",
     "start_time": "2021-11-04T14:42:12.305647Z"
    }
   },
   "source": [
    "# Testing OLS on one set of values generated from noiseless output"
   ]
  },
  {
   "cell_type": "code",
   "execution_count": 7,
   "id": "08dd5958",
   "metadata": {
    "ExecuteTime": {
     "end_time": "2021-11-14T15:57:35.241690Z",
     "start_time": "2021-11-14T15:57:35.160159Z"
    }
   },
   "outputs": [
    {
     "ename": "TypeError",
     "evalue": "cannot unpack non-iterable NoneType object",
     "output_type": "error",
     "traceback": [
      "\u001b[0;31m---------------------------------------------------------------------------\u001b[0m",
      "\u001b[0;31mTypeError\u001b[0m                                 Traceback (most recent call last)",
      "\u001b[0;32m<ipython-input-7-ee10b0a7e233>\u001b[0m in \u001b[0;36m<module>\u001b[0;34m\u001b[0m\n\u001b[1;32m      6\u001b[0m \u001b[0mxx2\u001b[0m \u001b[0;34m=\u001b[0m \u001b[0mxx2\u001b[0m\u001b[0;34m.\u001b[0m\u001b[0mreshape\u001b[0m\u001b[0;34m(\u001b[0m\u001b[0;34m(\u001b[0m\u001b[0mn\u001b[0m\u001b[0;34m*\u001b[0m\u001b[0mn\u001b[0m\u001b[0;34m)\u001b[0m\u001b[0;34m,\u001b[0m\u001b[0;36m1\u001b[0m\u001b[0;34m)\u001b[0m\u001b[0;34m\u001b[0m\u001b[0;34m\u001b[0m\u001b[0m\n\u001b[1;32m      7\u001b[0m \u001b[0my\u001b[0m \u001b[0;34m=\u001b[0m \u001b[0mFranke\u001b[0m\u001b[0;34m(\u001b[0m\u001b[0mxx1\u001b[0m\u001b[0;34m,\u001b[0m \u001b[0mxx2\u001b[0m\u001b[0;34m)\u001b[0m\u001b[0;34m\u001b[0m\u001b[0;34m\u001b[0m\u001b[0m\n\u001b[0;32m----> 8\u001b[0;31m \u001b[0mtrainMSE\u001b[0m\u001b[0;34m,\u001b[0m \u001b[0mtestMSE\u001b[0m\u001b[0;34m,\u001b[0m \u001b[0mtrainR2\u001b[0m\u001b[0;34m,\u001b[0m \u001b[0mtestR2\u001b[0m \u001b[0;34m=\u001b[0m \u001b[0mordinaryLeastSquares\u001b[0m\u001b[0;34m.\u001b[0m\u001b[0mols2D\u001b[0m\u001b[0;34m(\u001b[0m\u001b[0mx1\u001b[0m\u001b[0;34m=\u001b[0m\u001b[0mxx1\u001b[0m\u001b[0;34m,\u001b[0m \u001b[0mx2\u001b[0m\u001b[0;34m=\u001b[0m\u001b[0mxx2\u001b[0m\u001b[0;34m,\u001b[0m \u001b[0my\u001b[0m\u001b[0;34m=\u001b[0m\u001b[0my\u001b[0m\u001b[0;34m,\u001b[0m \u001b[0morder\u001b[0m\u001b[0;34m=\u001b[0m\u001b[0;36m5\u001b[0m\u001b[0;34m,\u001b[0m \u001b[0mtest_ratio\u001b[0m\u001b[0;34m=\u001b[0m\u001b[0;36m0.2\u001b[0m\u001b[0;34m)\u001b[0m\u001b[0;34m\u001b[0m\u001b[0;34m\u001b[0m\u001b[0m\n\u001b[0m\u001b[1;32m      9\u001b[0m \"\"\"\n\u001b[1;32m     10\u001b[0m \u001b[0mt\u001b[0m \u001b[0;34m=\u001b[0m \u001b[0mordinaryLeastSquares\u001b[0m\u001b[0;34m.\u001b[0m\u001b[0mols2D\u001b[0m\u001b[0;34m(\u001b[0m\u001b[0mx1\u001b[0m\u001b[0;34m=\u001b[0m\u001b[0mxx1\u001b[0m\u001b[0;34m,\u001b[0m \u001b[0mx2\u001b[0m\u001b[0;34m=\u001b[0m\u001b[0mxx2\u001b[0m\u001b[0;34m,\u001b[0m \u001b[0my\u001b[0m\u001b[0;34m=\u001b[0m\u001b[0my\u001b[0m\u001b[0;34m,\u001b[0m \u001b[0morder\u001b[0m\u001b[0;34m=\u001b[0m\u001b[0;36m5\u001b[0m\u001b[0;34m,\u001b[0m \u001b[0mtest_ratio\u001b[0m\u001b[0;34m=\u001b[0m\u001b[0;36m0.2\u001b[0m\u001b[0;34m)\u001b[0m\u001b[0;34m\u001b[0m\u001b[0;34m\u001b[0m\u001b[0m\n",
      "\u001b[0;31mTypeError\u001b[0m: cannot unpack non-iterable NoneType object"
     ]
    }
   ],
   "source": [
    "n = 100\n",
    "x1 = np.linspace(0,1,n)\n",
    "x2 = np.linspace(0,1,n)\n",
    "xx1, xx2 = np.meshgrid(x1, x2)\n",
    "xx1 = xx1.reshape((n*n),1)\n",
    "xx2 = xx2.reshape((n*n),1)\n",
    "y = Franke(xx1, xx2)\n",
    "trainMSE, testMSE, trainR2, testR2 = ordinaryLeastSquares.ols2D(x1=xx1, x2=xx2, y=y, order=5, test_ratio=0.2)\n",
    "\"\"\"\n",
    "t = ordinaryLeastSquares.ols2D(x1=xx1, x2=xx2, y=y, order=5, test_ratio=0.2)\n",
    "y_train = t[0]\n",
    "y_test = t[1]\n",
    "y_model_train = t[2]\n",
    "y_model_test = t[3]\n",
    "trainMSE = findStat.findMSE(y_train, y_model_train)\n",
    "testMSE = findStat.findMSE(y_test, y_model_test)\n",
    "trainR2 = findStat.findR2(y_train, y_model_train)\n",
    "testR2 = findStat.findR2(y_test, y_model_test)\n",
    "\"\"\"\n",
    "print(trainMSE)\n",
    "print(testMSE)\n",
    "print(trainR2)\n",
    "print(testR2)"
   ]
  },
  {
   "cell_type": "code",
   "execution_count": null,
   "id": "11f180f3",
   "metadata": {},
   "outputs": [],
   "source": []
  },
  {
   "cell_type": "code",
   "execution_count": null,
   "id": "6521bbb5",
   "metadata": {},
   "outputs": [],
   "source": []
  },
  {
   "cell_type": "markdown",
   "id": "2b8f3395",
   "metadata": {
    "ExecuteTime": {
     "end_time": "2021-11-11T13:32:48.286097Z",
     "start_time": "2021-11-11T13:32:48.279389Z"
    }
   },
   "source": [
    "# Testing OLS on one set of values of noisy data output"
   ]
  },
  {
   "cell_type": "code",
   "execution_count": null,
   "id": "e28e0383",
   "metadata": {
    "ExecuteTime": {
     "end_time": "2021-11-14T15:57:35.329173Z",
     "start_time": "2021-11-14T15:57:35.243887Z"
    }
   },
   "outputs": [],
   "source": [
    "y = Franke(xx1, xx2)\n",
    "y += np.random.normal(0, 0.1, size = y.shape)\n",
    "#t = ordinaryLeastSquares.ols2D(x1=xx1, x2=xx2, y=y, order=5, test_ratio=0.2)\n",
    "trainMSE, testMSE, trainR2, testR2 = ordinaryLeastSquares.ols2D(x1=xx1, x2=xx2, y=y, order=5, test_ratio=0.2)\n",
    "\"\"\"\n",
    "y_train = t[0]\n",
    "y_test = t[1]\n",
    "y_model_train = t[2]\n",
    "y_model_test = t[3]\n",
    "trainMSE = findStat.findMSE(y_train, y_model_train)\n",
    "testMSE = findStat.findMSE(y_test, y_model_test)\n",
    "trainR2 = findStat.findR2(y_train, y_model_train)\n",
    "testR2 = findStat.findR2(y_test, y_model_test)\n",
    "\"\"\"\n",
    "\n",
    "\n",
    "print(trainMSE)\n",
    "print(testMSE)\n",
    "print(trainR2)\n",
    "print(testR2)"
   ]
  },
  {
   "cell_type": "markdown",
   "id": "0e4facbd",
   "metadata": {
    "ExecuteTime": {
     "end_time": "2021-11-11T13:39:47.018457Z",
     "start_time": "2021-11-11T13:39:47.011131Z"
    }
   },
   "source": [
    "# Performing OLS for varying model complexity, data size, noise, test ratio\n",
    "For parameters:\n",
    "\n",
    "1. polynomial order $p$ is the model complexity. We test our code for 2D polynomials of order $p = 1,2,3,4,5$\n",
    "2. data size $n$ is the number of points we divide each axis into to find our data. We test for n = 100, 500, 1000, 5000, 10000\n",
    "3. noise variance $\\sigma$ is the variance of the zero mean gaussian noise we add to the output data\n",
    "4. test ratio $r$ is the ratio with which we partition the data into training and testing set. We use $r = 0.0, 0.1, 0.2, 0.3, 0.4, 0.5$\n",
    "\n",
    "For each combination of $(p, n, \\sigma, r)$ we get output $MSE_train, MSE_test, R2_train, R2_test $"
   ]
  },
  {
   "cell_type": "code",
   "execution_count": null,
   "id": "d08f2527",
   "metadata": {
    "ExecuteTime": {
     "end_time": "2021-11-14T16:02:27.777905Z",
     "start_time": "2021-11-14T16:02:27.759697Z"
    }
   },
   "outputs": [],
   "source": [
    "p = np.arange(1,6)\n",
    "n = np.array([100, 300])#, 1000, 3000])\n",
    "noise = np.array([0.0, 0.025, 0.05, 0.075, 0.1])\n",
    "r = np.arange(1,5)*0.2\n",
    "\n",
    "train_MSE_arr = np.zeros([len(p), len(n), len(noise), len(r)])\n",
    "test_MSE_arr = np.zeros([len(p), len(n), len(noise), len(r)])\n",
    "train_R2_arr = np.zeros([len(p), len(n), len(noise), len(r)])\n",
    "test_R2_arr = np.zeros([len(p), len(n), len(noise), len(r)])\n",
    "\n",
    "\n",
    "#below function is unused for now. \n",
    "def findmyStats(OLS_out):\n",
    "    #find stats based on OLS output\n",
    "    y_train = OLS_out[0]\n",
    "    y_test = OLS_out[1]\n",
    "    y_model_train = OLS_out[2]\n",
    "    y_model_test = OLS_out[3]\n",
    "    trainMSE = findStat.findMSE(y_train, y_model_train)\n",
    "    testMSE = findStat.findMSE(y_test, y_model_test)\n",
    "    trainR2 = findStat.findR2(y_train, y_model_train)\n",
    "    testR2 = findStat.findR2(y_test, y_model_test)\n",
    "    \n",
    "    return trainMSE, testMSE, trainR2, testR2"
   ]
  },
  {
   "cell_type": "code",
   "execution_count": null,
   "id": "5a0319ab",
   "metadata": {
    "ExecuteTime": {
     "end_time": "2021-11-14T16:02:37.643921Z",
     "start_time": "2021-11-14T16:02:29.912208Z"
    }
   },
   "outputs": [],
   "source": [
    "for i in range(len(p)):\n",
    "    for j in range(len(n)):\n",
    "        for k in range(len(noise)):\n",
    "            for l in range(len(r)):\n",
    "                x1 = np.linspace(0,1,n[j])\n",
    "                x2 = np.linspace(0,1,n[j])\n",
    "                xx1, xx2 = np.meshgrid(x1, x2)\n",
    "                xx1 = xx1.reshape((n[j]*n[j]),1)\n",
    "                xx2 = xx2.reshape((n[j]*n[j]),1)\n",
    "                y = Franke(xx1, xx2)\n",
    "                y += np.random.normal(0, noise[k], size = y.shape)\n",
    "                \n",
    "                t = ordinaryLeastSquares.ols2D(x1=xx1, x2=xx2, y=y, order=p[i], test_ratio=r[l])\n",
    "                train_MSE_arr[i,j,k,l] = t[0]\n",
    "                test_MSE_arr[i,j,k,l] = t[1]\n",
    "                train_R2_arr[i,j,k,l] = t[2]\n",
    "                test_R2_arr[i,j,k,l] = t[3]"
   ]
  },
  {
   "cell_type": "code",
   "execution_count": null,
   "id": "9ba48178",
   "metadata": {},
   "outputs": [],
   "source": []
  },
  {
   "cell_type": "markdown",
   "id": "89b35944",
   "metadata": {
    "ExecuteTime": {
     "end_time": "2021-11-11T16:23:58.319668Z",
     "start_time": "2021-11-11T16:23:58.315585Z"
    }
   },
   "source": [
    "# Comparison Plots"
   ]
  },
  {
   "cell_type": "code",
   "execution_count": null,
   "id": "240909f0",
   "metadata": {
    "ExecuteTime": {
     "end_time": "2021-11-14T16:02:38.319573Z",
     "start_time": "2021-11-14T16:02:37.843179Z"
    }
   },
   "outputs": [],
   "source": [
    "M = len(p)\n",
    "N = len(noise)\n",
    "\n",
    "# this plot is based on stackover flow answer by user JohanC to the question in the link \n",
    "# https://stackoverflow.com/questions/66048529/how-to-create-a-heatmap-where-each-cell-is-divided-into-4-triangles\n",
    "def triangulation_for_triheatmap(M, N):\n",
    "    xv, yv = np.meshgrid(np.arange(-0.5, M), np.arange(-0.5, N))  # vertices of the little squares\n",
    "    xc, yc = np.meshgrid(np.arange(0, M), np.arange(0, N))  # centers of the little squares\n",
    "    x = np.concatenate([xv.ravel(), xc.ravel()])\n",
    "    y = np.concatenate([yv.ravel(), yc.ravel()])\n",
    "    cstart = (M + 1) * (N + 1)  # indices of the centers\n",
    "\n",
    "    trianglesN = [(i + j * (M + 1), i + 1 + j * (M + 1), cstart + i + j * M)\n",
    "                  for j in range(N) for i in range(M)]\n",
    "    trianglesE = [(i + 1 + j * (M + 1), i + 1 + (j + 1) * (M + 1), cstart + i + j * M)\n",
    "                  for j in range(N) for i in range(M)]\n",
    "    trianglesS = [(i + 1 + (j + 1) * (M + 1), i + (j + 1) * (M + 1), cstart + i + j * M)\n",
    "                  for j in range(N) for i in range(M)]\n",
    "    trianglesW = [(i + (j + 1) * (M + 1), i + j * (M + 1), cstart + i + j * M)\n",
    "                  for j in range(N) for i in range(M)]\n",
    "    return [Triangulation(x, y, triangles) for triangles in [trianglesN, trianglesE, trianglesS, trianglesW]]\n",
    "\n",
    "values = [np.transpose(train_MSE_arr[:, 0, : , 0]), np.transpose(train_MSE_arr[:, 0, : , 1]),\n",
    "          np.transpose(train_MSE_arr[:, 0, : , 2]), np.transpose(train_MSE_arr[:, 0, : , 3])]\n",
    "\n",
    "triangul = triangulation_for_triheatmap(M, N)\n",
    "cmaps = ['Blues','Blues','Blues','Blues']#['Blues', 'Greens', 'Purples', 'Reds']  # ['winter', 'spring', 'summer', 'autumn']\n",
    "norms = [plt.Normalize(-0.5, 1) for _ in range(4)]\n",
    "fig, ax = plt.subplots(figsize=(15,8))\n",
    "#imgs = [ax.tripcolor(t, np.ravel(val), cmap=cmap, norm=norm, ec='white')\n",
    "#        for t, val, cmap, norm in zip(triangul, values*100, cmaps, norms)]\n",
    "imgs = [ax.tripcolor(t, val.ravel(), cmap='plasma', vmin=0, vmax=0.05, ec='k')\n",
    "        for t, val in zip(triangul, (values))]\n",
    "for val, dir in zip(values, [(-1, 0), (0, 1), (1, 0), (0, -1)]):\n",
    "    for i in range(M):\n",
    "        for j in range(N):\n",
    "            v = val[j, i]\n",
    "            ax.text(i + 0.3 * dir[1], j + 0.3 * dir[0], f'{v:.3f}', color='k' if 0.02 < v < 0.2 else 'w', ha='center', va='center')\n",
    "ax.set_xticks(range(M))\n",
    "ax.set_yticks(range(N))\n",
    "\n",
    "def ymajor_tick(x, pos):\n",
    "    return f\"{x*0.025:.3f}\"\n",
    "def xmajor_tick(x, pos):\n",
    "    return f\"{x+1}\"\n",
    "\n",
    "ax.yaxis.set_major_locator(MultipleLocator(1.000))\n",
    "# FuncFormatter is created and used automatically\n",
    "ax.yaxis.set_major_formatter(ymajor_tick)\n",
    "\n",
    "ax.xaxis.set_major_formatter(xmajor_tick)\n",
    "\n",
    "ax.invert_yaxis()\n",
    "ax.margins(x=0, y=0)\n",
    "ax.set_xlabel(\"Polynomial Order\")\n",
    "ax.set_ylabel(\"Noise variance\")\n",
    "\n",
    "ax.set_aspect('equal', 'box')  # square cells\n",
    "cbar = fig.colorbar(imgs[0], ax=ax, label = \"Mean Squared Error\")\n",
    "ax.set_title(\"Training MSE\")\n",
    "plt.tight_layout()\n",
    "plt.show()"
   ]
  },
  {
   "cell_type": "code",
   "execution_count": null,
   "id": "671c1f89",
   "metadata": {
    "ExecuteTime": {
     "end_time": "2021-11-14T16:02:38.909331Z",
     "start_time": "2021-11-14T16:02:38.435113Z"
    }
   },
   "outputs": [],
   "source": [
    "values = [np.transpose(test_MSE_arr[:, 0, : , 0]), np.transpose(test_MSE_arr[:, 0, : , 1]),\n",
    "          np.transpose(test_MSE_arr[:, 0, : , 2]), np.transpose(test_MSE_arr[:, 0, : , 3])]\n",
    "\n",
    "triangul = triangulation_for_triheatmap(M, N)\n",
    "cmaps = ['Blues','Blues','Blues','Blues']#['Blues', 'Greens', 'Purples', 'Reds']  # ['winter', 'spring', 'summer', 'autumn']\n",
    "norms = [plt.Normalize(-0.5, 1) for _ in range(4)]\n",
    "fig, ax = plt.subplots(figsize=(10,8))\n",
    "#imgs = [ax.tripcolor(t, np.ravel(val), cmap=cmap, norm=norm, ec='white')\n",
    "#        for t, val, cmap, norm in zip(triangul, values*100, cmaps, norms)]\n",
    "imgs = [ax.tripcolor(t, val.ravel(), cmap='plasma', vmin=0, vmax=np.max(np.max(values)), ec='k')\n",
    "        for t, val in zip(triangul, (values))]\n",
    "for val, dir in zip(values, [(-1, 0), (0, 1), (1, 0), (0, -1)]):\n",
    "    for i in range(M):\n",
    "        for j in range(N):\n",
    "            v = val[j, i]\n",
    "            ax.text(i + 0.3 * dir[1], j + 0.3 * dir[0], f'{v:.3f}', color='k' if 0.02 < v < 0.2 else 'w', ha='center', va='center')\n",
    "ax.set_xticks(range(M))\n",
    "ax.set_yticks(range(N))\n",
    "\n",
    "def ymajor_tick(x, pos):\n",
    "    return f\"{x*0.025:.3f}\"\n",
    "def xmajor_tick(x, pos):\n",
    "    return f\"{x+1}\"\n",
    "\n",
    "ax.yaxis.set_major_locator(MultipleLocator(1.000))\n",
    "# FuncFormatter is created and used automatically\n",
    "ax.yaxis.set_major_formatter(ymajor_tick)\n",
    "\n",
    "ax.xaxis.set_major_formatter(xmajor_tick)\n",
    "\n",
    "ax.invert_yaxis()\n",
    "ax.margins(x=0, y=0)\n",
    "ax.set_xlabel(\"Polynomial Order\")\n",
    "ax.set_ylabel(\"Noise variance\")\n",
    "\n",
    "ax.set_aspect('equal', 'box')  # square cells\n",
    "cbar = fig.colorbar(imgs[0], ax=ax, label = \"Mean Squared Error\")\n",
    "ax.set_title(\"Testing MSE\")\n",
    "plt.tight_layout()\n",
    "plt.show()\n",
    "\n",
    "\n"
   ]
  },
  {
   "cell_type": "code",
   "execution_count": null,
   "id": "82432463",
   "metadata": {
    "ExecuteTime": {
     "end_time": "2021-11-14T15:57:48.188394Z",
     "start_time": "2021-11-14T15:57:46.562682Z"
    }
   },
   "outputs": [],
   "source": [
    "values = [-np.transpose(train_MSE_arr[:, 0, : , 0]-test_MSE_arr[:, 0, : , 0]), \n",
    "          -np.transpose(train_MSE_arr[:, 0, : , 1]-test_MSE_arr[:, 0, : , 1]),\n",
    "          -np.transpose(train_MSE_arr[:, 0, : , 2]-test_MSE_arr[:, 0, : , 2]), \n",
    "          -np.transpose(train_MSE_arr[:, 0, : , 3]-test_MSE_arr[:, 0, : , 3])]\n",
    "\n",
    "triangul = triangulation_for_triheatmap(M, N)\n",
    "cmaps = ['Blues','Blues','Blues','Blues']#['Blues', 'Greens', 'Purples', 'Reds']  # ['winter', 'spring', 'summer', 'autumn']\n",
    "norms = [plt.Normalize(-0.5, 1) for _ in range(4)]\n",
    "fig, ax = plt.subplots(figsize=(12,10))\n",
    "#imgs = [ax.tripcolor(t, np.ravel(val), cmap=cmap, norm=norm, ec='white')\n",
    "#        for t, val, cmap, norm in zip(triangul, values*100, cmaps, norms)]\n",
    "imgs = [ax.tripcolor(t, val.ravel(), cmap='Blues', vmin=0, vmax=np.max(np.max(values))/4, ec='k')\n",
    "        for t, val in zip(triangul, (values))]\n",
    "for val, dir in zip(values, [(-1, 0), (0, 1), (1, 0), (0, -1)]):\n",
    "    for i in range(M):\n",
    "        for j in range(N):\n",
    "            v = val[j, i]\n",
    "            ax.text(i + 0.3 * dir[1], j + 0.3 * dir[0], f'{v:.4f}', color='w' if 0.002 < v < 0.02 else 'k', ha='center', va='center')\n",
    "ax.set_xticks(range(M))\n",
    "ax.set_yticks(range(N))\n",
    "\n",
    "def ymajor_tick(x, pos):\n",
    "    return f\"{x*0.025:.3f}\"\n",
    "def xmajor_tick(x, pos):\n",
    "    return f\"{x+1}\"\n",
    "\n",
    "ax.yaxis.set_major_locator(MultipleLocator(1.000))\n",
    "# FuncFormatter is created and used automatically\n",
    "ax.yaxis.set_major_formatter(ymajor_tick)\n",
    "\n",
    "ax.xaxis.set_major_formatter(xmajor_tick)\n",
    "\n",
    "ax.invert_yaxis()\n",
    "ax.margins(x=0, y=0)\n",
    "ax.set_xlabel(\"Polynomial Order\")\n",
    "ax.set_ylabel(\"Noise variance\")\n",
    "\n",
    "ax.set_aspect('equal', 'box')  # square cells\n",
    "cbar = fig.colorbar(imgs[0], ax=ax, label = \"Mean Squared Error\")\n",
    "ax.set_title(\"Testing - Training MSE\")\n",
    "plt.tight_layout()\n",
    "plt.show()\n",
    "\n",
    "\n"
   ]
  },
  {
   "cell_type": "code",
   "execution_count": null,
   "id": "d9f0b2b2",
   "metadata": {
    "ExecuteTime": {
     "end_time": "2021-11-14T15:57:49.533886Z",
     "start_time": "2021-11-14T15:57:48.190287Z"
    }
   },
   "outputs": [],
   "source": [
    "values = [np.transpose(train_R2_arr[:, 0, : , 0]), np.transpose(train_R2_arr[:, 0, : , 1]),\n",
    "          np.transpose(train_R2_arr[:, 0, : , 2]), np.transpose(train_R2_arr[:, 0, : , 3])]\n",
    "\n",
    "triangul = triangulation_for_triheatmap(M, N)\n",
    "cmaps = ['Blues','Blues','Blues','Blues']#['Blues', 'Greens', 'Purples', 'Reds']  # ['winter', 'spring', 'summer', 'autumn']\n",
    "norms = [plt.Normalize(-0.5, 1) for _ in range(4)]\n",
    "fig, ax = plt.subplots(figsize=(10,8))\n",
    "#imgs = [ax.tripcolor(t, np.ravel(val), cmap=cmap, norm=norm, ec='white')\n",
    "#        for t, val, cmap, norm in zip(triangul, values*100, cmaps, norms)]\n",
    "imgs = [ax.tripcolor(t, val.ravel(), cmap='plasma', vmin=0.5, vmax=1.0, ec='k')\n",
    "        for t, val in zip(triangul, (values))]\n",
    "for val, dir in zip(values, [(-1, 0), (0, 1), (1, 0), (0, -1)]):\n",
    "    for i in range(M):\n",
    "        for j in range(N):\n",
    "            v = val[j, i]\n",
    "            ax.text(i + 0.3 * dir[1], j + 0.3 * dir[0], f'{v:.3f}', color='w' if 0.0 < v < 0.75 else 'k', ha='center', va='center')\n",
    "ax.set_xticks(range(M))\n",
    "ax.set_yticks(range(N))\n",
    "\n",
    "def ymajor_tick(x, pos):\n",
    "    return f\"{x*0.025:.3f}\"\n",
    "def xmajor_tick(x, pos):\n",
    "    return f\"{x+1}\"\n",
    "\n",
    "ax.yaxis.set_major_locator(MultipleLocator(1.000))\n",
    "# FuncFormatter is created and used automatically\n",
    "ax.yaxis.set_major_formatter(ymajor_tick)\n",
    "\n",
    "ax.xaxis.set_major_formatter(xmajor_tick)\n",
    "\n",
    "ax.invert_yaxis()\n",
    "ax.margins(x=0, y=0)\n",
    "ax.set_xlabel(\"Polynomial Order\")\n",
    "ax.set_ylabel(\"Noise variance\")\n",
    "\n",
    "ax.set_aspect('equal', 'box')  # square cells\n",
    "cbar = fig.colorbar(imgs[0], ax=ax, label = \"R2 Error\")\n",
    "ax.set_title(\"Training R2 Error\")\n",
    "plt.tight_layout()\n",
    "plt.show()"
   ]
  },
  {
   "cell_type": "code",
   "execution_count": null,
   "id": "edc4f8aa",
   "metadata": {
    "ExecuteTime": {
     "end_time": "2021-11-14T15:57:49.976222Z",
     "start_time": "2021-11-14T15:57:49.535428Z"
    }
   },
   "outputs": [],
   "source": [
    "values = [np.transpose(test_R2_arr[:, 0, : , 0]), np.transpose(test_R2_arr[:, 0, : , 1]),\n",
    "          np.transpose(test_R2_arr[:, 0, : , 2]), np.transpose(test_R2_arr[:, 0, : , 3])]\n",
    "\n",
    "triangul = triangulation_for_triheatmap(M, N)\n",
    "cmaps = ['Blues','Blues','Blues','Blues']#['Blues', 'Greens', 'Purples', 'Reds']  # ['winter', 'spring', 'summer', 'autumn']\n",
    "norms = [plt.Normalize(-0.5, 1) for _ in range(4)]\n",
    "fig, ax = plt.subplots(figsize=(10,8))\n",
    "#imgs = [ax.tripcolor(t, np.ravel(val), cmap=cmap, norm=norm, ec='white')\n",
    "#        for t, val, cmap, norm in zip(triangul, values*100, cmaps, norms)]\n",
    "imgs = [ax.tripcolor(t, val.ravel(), cmap='plasma', vmin=0.5, vmax=1.0, ec='k')\n",
    "        for t, val in zip(triangul, (values))]\n",
    "for val, dir in zip(values, [(-1, 0), (0, 1), (1, 0), (0, -1)]):\n",
    "    for i in range(M):\n",
    "        for j in range(N):\n",
    "            v = val[j, i]\n",
    "            ax.text(i + 0.3 * dir[1], j + 0.3 * dir[0], f'{v:.3f}', color='w' if 0.0 < v < 0.75 else 'k', ha='center', va='center')\n",
    "ax.set_xticks(range(M))\n",
    "ax.set_yticks(range(N))\n",
    "\n",
    "def ymajor_tick(x, pos):\n",
    "    return f\"{x*0.025:.3f}\"\n",
    "def xmajor_tick(x, pos):\n",
    "    return f\"{x+1}\"\n",
    "\n",
    "ax.yaxis.set_major_locator(MultipleLocator(1.000))\n",
    "# FuncFormatter is created and used automatically\n",
    "ax.yaxis.set_major_formatter(ymajor_tick)\n",
    "\n",
    "ax.xaxis.set_major_formatter(xmajor_tick)\n",
    "\n",
    "ax.invert_yaxis()\n",
    "ax.margins(x=0, y=0)\n",
    "ax.set_xlabel(\"Polynomial Order\")\n",
    "ax.set_ylabel(\"Noise variance\")\n",
    "\n",
    "ax.set_aspect('equal', 'box')  # square cells\n",
    "cbar = fig.colorbar(imgs[0], ax=ax, label = \"R2 Error\")\n",
    "ax.set_title(\"Testing R2 Error\")\n",
    "plt.tight_layout()\n",
    "plt.show()"
   ]
  },
  {
   "cell_type": "markdown",
   "id": "36461362",
   "metadata": {
    "ExecuteTime": {
     "end_time": "2021-11-11T16:48:20.041298Z",
     "start_time": "2021-11-11T16:48:19.958856Z"
    }
   },
   "source": [
    "# Resampling using Bootstrap Method"
   ]
  },
  {
   "cell_type": "raw",
   "id": "ad153f7f",
   "metadata": {},
   "source": []
  },
  {
   "cell_type": "code",
   "execution_count": null,
   "id": "e71d2576",
   "metadata": {
    "ExecuteTime": {
     "end_time": "2021-11-14T18:41:36.137920Z",
     "start_time": "2021-11-14T18:41:36.134232Z"
    }
   },
   "outputs": [],
   "source": [
    "p = np.arange(1,12)\n",
    "n = np.array([20])#, 1000, 3000])\n",
    "noise = np.array([0.05])#np.array([0.0, 0.025, 0.05])#, 0.075, 0.1])\n",
    "r = np.arange(1,5)*0.1\n",
    "\n",
    "train_MSE_arr = np.zeros([len(p), len(n), len(noise), len(r)])\n",
    "test_MSE_arr = np.zeros([len(p), len(n), len(noise), len(r)])\n",
    "train_R2_arr = np.zeros([len(p), len(n), len(noise), len(r)])\n",
    "test_R2_arr = np.zeros([len(p), len(n), len(noise), len(r)])\n",
    "\n",
    "nb = 30 #number of bootstrap runs"
   ]
  },
  {
   "cell_type": "code",
   "execution_count": null,
   "id": "70174790",
   "metadata": {
    "ExecuteTime": {
     "end_time": "2021-11-14T18:41:37.147587Z",
     "start_time": "2021-11-14T18:41:37.083160Z"
    }
   },
   "outputs": [],
   "source": [
    "for i in range(len(p)):\n",
    "    for j in range(len(n)):\n",
    "        for k in range(len(noise)):\n",
    "            for l in range(len(r)):\n",
    "                x1 = np.linspace(0,1,n[j])\n",
    "                x2 = np.linspace(0,1,n[j])\n",
    "                xx1, xx2 = np.meshgrid(x1, x2)\n",
    "                xx1 = xx1.reshape((n[j]*n[j]),1)\n",
    "                xx2 = xx2.reshape((n[j]*n[j]),1)\n",
    "                y = Franke(xx1, xx2)\n",
    "                y += np.random.normal(0, noise[k], size = y.shape)\n",
    "                t = ordinaryLeastSquares.ols2D(x1=xx1, x2=xx2, y=y, order=p[i], test_ratio=r[l], bootstrap=True, n_boots=10)\n",
    "                \n",
    "                \n",
    "                train_MSE_arr[i,j,k,l] = t[0]\n",
    "                test_MSE_arr[i,j,k,l] = t[1]\n",
    "                train_R2_arr[i,j,k,l] = t[2]\n",
    "                test_R2_arr[i,j,k,l] = t[3]"
   ]
  },
  {
   "cell_type": "code",
   "execution_count": null,
   "id": "bc04c67d",
   "metadata": {
    "ExecuteTime": {
     "end_time": "2021-11-14T15:58:26.080581Z",
     "start_time": "2021-11-14T15:58:26.064015Z"
    }
   },
   "outputs": [],
   "source": [
    "train_MSE_arr"
   ]
  },
  {
   "cell_type": "markdown",
   "id": "ef57a3ea",
   "metadata": {
    "ExecuteTime": {
     "end_time": "2021-11-14T15:58:52.670665Z",
     "start_time": "2021-11-14T15:58:52.664783Z"
    }
   },
   "source": [
    "# Comparison Plots (includes Bootstrapping)"
   ]
  },
  {
   "cell_type": "code",
   "execution_count": null,
   "id": "fa05382c",
   "metadata": {
    "ExecuteTime": {
     "end_time": "2021-11-14T16:07:22.485965Z",
     "start_time": "2021-11-14T16:07:22.181839Z"
    }
   },
   "outputs": [],
   "source": [
    "M = len(p)\n",
    "N = len(noise)\n",
    "\n",
    "# this plot is based on stackover flow answer by user JohanC to the question in the link \n",
    "# https://stackoverflow.com/questions/66048529/how-to-create-a-heatmap-where-each-cell-is-divided-into-4-triangles\n",
    "def triangulation_for_triheatmap(M, N):\n",
    "    xv, yv = np.meshgrid(np.arange(-0.5, M), np.arange(-0.5, N))  # vertices of the little squares\n",
    "    xc, yc = np.meshgrid(np.arange(0, M), np.arange(0, N))  # centers of the little squares\n",
    "    x = np.concatenate([xv.ravel(), xc.ravel()])\n",
    "    y = np.concatenate([yv.ravel(), yc.ravel()])\n",
    "    cstart = (M + 1) * (N + 1)  # indices of the centers\n",
    "\n",
    "    trianglesN = [(i + j * (M + 1), i + 1 + j * (M + 1), cstart + i + j * M)\n",
    "                  for j in range(N) for i in range(M)]\n",
    "    trianglesE = [(i + 1 + j * (M + 1), i + 1 + (j + 1) * (M + 1), cstart + i + j * M)\n",
    "                  for j in range(N) for i in range(M)]\n",
    "    trianglesS = [(i + 1 + (j + 1) * (M + 1), i + (j + 1) * (M + 1), cstart + i + j * M)\n",
    "                  for j in range(N) for i in range(M)]\n",
    "    trianglesW = [(i + (j + 1) * (M + 1), i + j * (M + 1), cstart + i + j * M)\n",
    "                  for j in range(N) for i in range(M)]\n",
    "    return [Triangulation(x, y, triangles) for triangles in [trianglesN, trianglesE, trianglesS, trianglesW]]\n",
    "\n",
    "values = [np.transpose(train_MSE_arr[:, 0, : , 0]), np.transpose(train_MSE_arr[:, 0, : , 1]),\n",
    "          np.transpose(train_MSE_arr[:, 0, : , 2]), np.transpose(train_MSE_arr[:, 0, : , 3])]\n",
    "\n",
    "triangul = triangulation_for_triheatmap(M, N)\n",
    "cmaps = ['Blues','Blues','Blues','Blues']#['Blues', 'Greens', 'Purples', 'Reds']  # ['winter', 'spring', 'summer', 'autumn']\n",
    "norms = [plt.Normalize(-0.5, 1) for _ in range(4)]\n",
    "fig, ax = plt.subplots(figsize=(15,8))\n",
    "#imgs = [ax.tripcolor(t, np.ravel(val), cmap=cmap, norm=norm, ec='white')\n",
    "#        for t, val, cmap, norm in zip(triangul, values*100, cmaps, norms)]\n",
    "imgs = [ax.tripcolor(t, val.ravel(), cmap='plasma', vmin=0, vmax=0.05, ec='k')\n",
    "        for t, val in zip(triangul, (values))]\n",
    "for val, dir in zip(values, [(-1, 0), (0, 1), (1, 0), (0, -1)]):\n",
    "    for i in range(M):\n",
    "        for j in range(N):\n",
    "            v = val[j, i]\n",
    "            ax.text(i + 0.3 * dir[1], j + 0.3 * dir[0], f'{v:.3f}', color='k' if 0.02 < v < 0.2 else 'w', ha='center', va='center')\n",
    "ax.set_xticks(range(M))\n",
    "ax.set_yticks(range(N))\n",
    "\n",
    "def ymajor_tick(x, pos):\n",
    "    return f\"{x*0.025:.3f}\"\n",
    "def xmajor_tick(x, pos):\n",
    "    return f\"{x+1}\"\n",
    "\n",
    "ax.yaxis.set_major_locator(MultipleLocator(1.000))\n",
    "# FuncFormatter is created and used automatically\n",
    "ax.yaxis.set_major_formatter(ymajor_tick)\n",
    "\n",
    "ax.xaxis.set_major_formatter(xmajor_tick)\n",
    "\n",
    "ax.invert_yaxis()\n",
    "ax.margins(x=0, y=0)\n",
    "ax.set_xlabel(\"Polynomial Order\")\n",
    "ax.set_ylabel(\"Noise variance\")\n",
    "\n",
    "ax.set_aspect('equal', 'box')  # square cells\n",
    "cbar = fig.colorbar(imgs[0], ax=ax, label = \"Mean Squared Error\")\n",
    "ax.set_title(\"Training MSE\")\n",
    "plt.tight_layout()\n",
    "plt.show()"
   ]
  },
  {
   "cell_type": "code",
   "execution_count": null,
   "id": "f75e2fb3",
   "metadata": {
    "ExecuteTime": {
     "end_time": "2021-11-14T16:07:44.102759Z",
     "start_time": "2021-11-14T16:07:43.785866Z"
    }
   },
   "outputs": [],
   "source": [
    "values = [np.transpose(test_MSE_arr[:, 0, : , 0]), np.transpose(test_MSE_arr[:, 0, : , 1]),\n",
    "          np.transpose(test_MSE_arr[:, 0, : , 2]), np.transpose(test_MSE_arr[:, 0, : , 3])]\n",
    "\n",
    "triangul = triangulation_for_triheatmap(M, N)\n",
    "cmaps = ['Blues','Blues','Blues','Blues']#['Blues', 'Greens', 'Purples', 'Reds']  # ['winter', 'spring', 'summer', 'autumn']\n",
    "norms = [plt.Normalize(-0.5, 1) for _ in range(4)]\n",
    "fig, ax = plt.subplots(figsize=(15,8))\n",
    "#imgs = [ax.tripcolor(t, np.ravel(val), cmap=cmap, norm=norm, ec='white')\n",
    "#        for t, val, cmap, norm in zip(triangul, values*100, cmaps, norms)]\n",
    "imgs = [ax.tripcolor(t, val.ravel(), cmap='plasma', vmin=0, vmax=np.max(np.max(values)), ec='k')\n",
    "        for t, val in zip(triangul, (values))]\n",
    "for val, dir in zip(values, [(-1, 0), (0, 1), (1, 0), (0, -1)]):\n",
    "    for i in range(M):\n",
    "        for j in range(N):\n",
    "            v = val[j, i]\n",
    "            ax.text(i + 0.3 * dir[1], j + 0.3 * dir[0], f'{v:.3f}', color='k' if 0.02 < v < 0.2 else 'w', ha='center', va='center')\n",
    "ax.set_xticks(range(M))\n",
    "ax.set_yticks(range(N))\n",
    "\n",
    "def ymajor_tick(x, pos):\n",
    "    return f\"{x*0.025:.3f}\"\n",
    "def xmajor_tick(x, pos):\n",
    "    return f\"{x+1}\"\n",
    "\n",
    "ax.yaxis.set_major_locator(MultipleLocator(1.000))\n",
    "# FuncFormatter is created and used automatically\n",
    "ax.yaxis.set_major_formatter(ymajor_tick)\n",
    "\n",
    "ax.xaxis.set_major_formatter(xmajor_tick)\n",
    "\n",
    "ax.invert_yaxis()\n",
    "ax.margins(x=0, y=0)\n",
    "ax.set_xlabel(\"Polynomial Order\")\n",
    "ax.set_ylabel(\"Noise variance\")\n",
    "\n",
    "ax.set_aspect('equal', 'box')  # square cells\n",
    "cbar = fig.colorbar(imgs[0], ax=ax, label = \"Mean Squared Error\")\n",
    "ax.set_title(\"Testing MSE\")\n",
    "plt.tight_layout()\n",
    "plt.show()\n",
    "\n",
    "\n"
   ]
  }
 ],
 "metadata": {
  "kernelspec": {
   "display_name": "Python 3 (ipykernel)",
   "language": "python",
   "name": "python3"
  },
  "language_info": {
   "codemirror_mode": {
    "name": "ipython",
    "version": 3
   },
   "file_extension": ".py",
   "mimetype": "text/x-python",
   "name": "python",
   "nbconvert_exporter": "python",
   "pygments_lexer": "ipython3",
   "version": "3.8.10"
  },
  "latex_envs": {
   "LaTeX_envs_menu_present": true,
   "autoclose": false,
   "autocomplete": true,
   "bibliofile": "biblio.bib",
   "cite_by": "apalike",
   "current_citInitial": 1,
   "eqLabelWithNumbers": true,
   "eqNumInitial": 1,
   "hotkeys": {
    "equation": "Ctrl-E",
    "itemize": "Ctrl-I"
   },
   "labels_anchors": false,
   "latex_user_defs": false,
   "report_style_numbering": false,
   "user_envs_cfg": false
  },
  "toc": {
   "base_numbering": 1,
   "nav_menu": {
    "height": "66px",
    "width": "224px"
   },
   "number_sections": true,
   "sideBar": true,
   "skip_h1_title": false,
   "title_cell": "Table of Contents",
   "title_sidebar": "Contents",
   "toc_cell": false,
   "toc_position": {},
   "toc_section_display": true,
   "toc_window_display": true
  },
  "varInspector": {
   "cols": {
    "lenName": 16,
    "lenType": 16,
    "lenVar": 40
   },
   "kernels_config": {
    "python": {
     "delete_cmd_postfix": "",
     "delete_cmd_prefix": "del ",
     "library": "var_list.py",
     "varRefreshCmd": "print(var_dic_list())"
    },
    "r": {
     "delete_cmd_postfix": ") ",
     "delete_cmd_prefix": "rm(",
     "library": "var_list.r",
     "varRefreshCmd": "cat(var_dic_list()) "
    }
   },
   "types_to_exclude": [
    "module",
    "function",
    "builtin_function_or_method",
    "instance",
    "_Feature"
   ],
   "window_display": false
  }
 },
 "nbformat": 4,
 "nbformat_minor": 5
}
