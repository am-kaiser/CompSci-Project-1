{
 "cells": [
  {
   "cell_type": "markdown",
   "id": "2c1ea9a1",
   "metadata": {
    "ExecuteTime": {
     "end_time": "2021-11-17T20:26:49.729908Z",
     "start_time": "2021-11-17T20:26:49.723956Z"
    }
   },
   "source": [
    "# Importing Libraries"
   ]
  },
  {
   "cell_type": "code",
   "execution_count": 1,
   "id": "6c2fdd27",
   "metadata": {
    "ExecuteTime": {
     "end_time": "2021-11-29T11:19:42.507125Z",
     "start_time": "2021-11-29T11:19:42.491826Z"
    }
   },
   "outputs": [],
   "source": [
    "%load_ext autoreload\n",
    "%autoreload 2"
   ]
  },
  {
   "cell_type": "code",
   "execution_count": 2,
   "id": "6cedf291",
   "metadata": {
    "ExecuteTime": {
     "end_time": "2021-11-29T11:19:44.008779Z",
     "start_time": "2021-11-29T11:19:43.070415Z"
    }
   },
   "outputs": [],
   "source": [
    "%matplotlib inline\n",
    "\n",
    "from regression_analysis.fit_model import linear_regression\n",
    "from regression_analysis.utils import franke\n",
    "from regression_analysis.utils.plots import triangulation_for_triheatmap as triheatmap\n",
    "from regression_analysis.fit_model.apply_regression import plot_stat, apply_regression\n",
    "import numpy as np\n",
    "import matplotlib.pyplot as plt\n",
    "\n",
    "from matplotlib.tri import Triangulation\n",
    "from matplotlib.ticker import AutoMinorLocator, MultipleLocator\n",
    "import seaborn as sns\n",
    "\n",
    "from sklearn.model_selection import train_test_split\n",
    "from sklearn import linear_model\n",
    "\n",
    "import ipywidgets as widget\n",
    "from ipywidgets import interact, interactive, fixed, interact_manual\n",
    "\n",
    "import glob as glob\n",
    "from IPython.display import Image, display, HTML, Video\n",
    "\n",
    "import os\n",
    "if not os.path.exists('data'):\n",
    "    os.makedirs('data')\n",
    "#note my bootstrap can be wrong. "
   ]
  },
  {
   "cell_type": "markdown",
   "id": "a609d53b",
   "metadata": {
    "ExecuteTime": {
     "end_time": "2021-11-17T20:24:29.410589Z",
     "start_time": "2021-11-17T20:24:29.408506Z"
    }
   },
   "source": [
    "# Demo for applying regression to Franke data "
   ]
  },
  {
   "cell_type": "code",
   "execution_count": 3,
   "id": "9b584e68",
   "metadata": {
    "ExecuteTime": {
     "end_time": "2021-11-29T11:19:44.288095Z",
     "start_time": "2021-11-29T11:19:44.275709Z"
    }
   },
   "outputs": [],
   "source": [
    "n = 100 #number of data points along each axis. Total data points = n*n\n",
    "x1 = np.linspace(0,1,n)\n",
    "x2 = np.linspace(0,1,n)\n",
    "xx1, xx2 = np.meshgrid(x1, x2)\n",
    "xx1 = xx1.reshape((n*n),1)\n",
    "xx2 = xx2.reshape((n*n),1)\n",
    "\n",
    "y = franke.Franke(xx1, xx2, noise_var=0.1) #zero mean gaussian noise has variance = var"
   ]
  },
  {
   "cell_type": "code",
   "execution_count": 4,
   "id": "c238ad66",
   "metadata": {
    "ExecuteTime": {
     "end_time": "2021-11-29T11:19:44.934374Z",
     "start_time": "2021-11-29T11:19:44.787781Z"
    }
   },
   "outputs": [],
   "source": [
    "#create linear regression object by passing input and output data\n",
    "linear_reg = linear_regression.linear_regression2D(xx1, xx2, y) "
   ]
  },
  {
   "cell_type": "markdown",
   "id": "b3ed0579",
   "metadata": {},
   "source": [
    "## Apply OLS "
   ]
  },
  {
   "cell_type": "code",
   "execution_count": 5,
   "id": "9e297d82",
   "metadata": {
    "ExecuteTime": {
     "end_time": "2021-11-29T11:19:46.218012Z",
     "start_time": "2021-11-29T11:19:46.135416Z"
    }
   },
   "outputs": [
    {
     "name": "stdout",
     "output_type": "stream",
     "text": [
      "own OLS\n",
      "Train MSE 0.0014126347636528253\n",
      "Test MSE 0.0013145411727650406\n",
      "Train R2 0.9744838029669505\n",
      "Test R2 0.9768195256295\n",
      "Train bias 0.05536227682452565\n",
      "Test bias 0.0567090619625419\n",
      "Train model variance 0.05394964205831307\n",
      "Test model variance 0.05438354692325089\n",
      "\n",
      "Scikit OLS\n",
      "Train MSE 0.0013929538703990145\n",
      "Test MSE 0.0014915835926757183\n",
      "Train R2 0.9749945222516256\n",
      "Test R2 0.9721776009541776\n",
      "Train bias 0.055705949089077875\n",
      "Test bias 0.053610953292336776\n",
      "Train model variance 0.0543129952186768\n",
      "Test model variance 0.05255210272886834\n"
     ]
    }
   ],
   "source": [
    "print(\"own OLS\")\n",
    "linear_reg.apply_leastsquares(order=5, test_ratio=0.1, reg_method=\"ols\")\n",
    "print(\"Train MSE\", linear_reg.trainMSE)\n",
    "print(\"Test MSE\", linear_reg.testMSE)\n",
    "print(\"Train R2\", linear_reg.trainR2)\n",
    "print(\"Test R2\", linear_reg.testR2)\n",
    "print(\"Train bias\", linear_reg.trainbias)\n",
    "print(\"Test bias\", linear_reg.testbias)\n",
    "print(\"Train model variance\", linear_reg.trainvar)\n",
    "print(\"Test model variance\", linear_reg.testvar)\n",
    "\n",
    "print('\\n'+ \"Scikit OLS\")\n",
    "linear_reg.apply_leastsquares(order=5, test_ratio=0.1, reg_method=\"scikit_ols\")\n",
    "print(\"Train MSE\", linear_reg.trainMSE)\n",
    "print(\"Test MSE\", linear_reg.testMSE)\n",
    "print(\"Train R2\", linear_reg.trainR2)\n",
    "print(\"Test R2\", linear_reg.testR2)\n",
    "print(\"Train bias\", linear_reg.trainbias)\n",
    "print(\"Test bias\", linear_reg.testbias)\n",
    "print(\"Train model variance\", linear_reg.trainvar)\n",
    "print(\"Test model variance\", linear_reg.testvar)"
   ]
  },
  {
   "cell_type": "markdown",
   "id": "ad34b7ef",
   "metadata": {
    "ExecuteTime": {
     "end_time": "2021-11-17T20:27:16.008727Z",
     "start_time": "2021-11-17T20:27:16.000757Z"
    }
   },
   "source": [
    "## Apply OLS with bootstrap sampling"
   ]
  },
  {
   "cell_type": "code",
   "execution_count": 6,
   "id": "27eaee7a",
   "metadata": {
    "ExecuteTime": {
     "end_time": "2021-11-29T11:19:47.812692Z",
     "start_time": "2021-11-29T11:19:46.484962Z"
    }
   },
   "outputs": [
    {
     "name": "stdout",
     "output_type": "stream",
     "text": [
      "Train MSE 0.0014067675471753657\n",
      "Test MSE 0.0014103193955411258\n",
      "Train R2 0.9747663879479324\n",
      "Test R2 0.9745086104106666\n",
      "Train bias 0.0019002557467654058\n",
      "Test bias 0.0018223099016133188\n",
      "Train model variance 0.001850850625745054\n",
      "Test model variance 0.0017713316333006991\n"
     ]
    }
   ],
   "source": [
    "linear_reg.apply_leastsquares_bootstrap(order=5, test_ratio=0.1, n_boots=30, reg_method=\"ols\")\n",
    "print(\"Train MSE\", linear_reg.trainMSE)\n",
    "print(\"Test MSE\", linear_reg.testMSE)\n",
    "print(\"Train R2\", linear_reg.trainR2)\n",
    "print(\"Test R2\", linear_reg.testR2)\n",
    "print(\"Train bias\", linear_reg.trainbias)\n",
    "print(\"Test bias\", linear_reg.testbias)\n",
    "print(\"Train model variance\", linear_reg.trainvar)\n",
    "print(\"Test model variance\", linear_reg.testvar)"
   ]
  },
  {
   "cell_type": "markdown",
   "id": "30bfa940",
   "metadata": {
    "ExecuteTime": {
     "end_time": "2021-11-17T20:27:44.344810Z",
     "start_time": "2021-11-17T20:27:44.341402Z"
    }
   },
   "source": [
    "## Apply OLS with cross validation sampling"
   ]
  },
  {
   "cell_type": "code",
   "execution_count": 7,
   "id": "2daa8a14",
   "metadata": {
    "ExecuteTime": {
     "end_time": "2021-11-29T11:19:48.155763Z",
     "start_time": "2021-11-29T11:19:48.014595Z"
    }
   },
   "outputs": [
    {
     "name": "stdout",
     "output_type": "stream",
     "text": [
      "Train MSE 0.0014020279882006508\n",
      "Test MSE 0.001412076843308354\n",
      "Train R2 0.9747363167751422\n",
      "Test R2 0.9745099399720651\n",
      "Train bias 0.00554561899401155\n",
      "Test bias 0.005581679688817296\n",
      "Train model variance 0.005405053808021785\n",
      "Test model variance 0.005449051025888309\n"
     ]
    }
   ],
   "source": [
    "linear_reg.apply_leastsquares_crossvalidation(order=5, kfolds=10, reg_method=\"ols\")\n",
    "print(\"Train MSE\", linear_reg.trainMSE)\n",
    "print(\"Test MSE\", linear_reg.testMSE)\n",
    "print(\"Train R2\", linear_reg.trainR2)\n",
    "print(\"Test R2\", linear_reg.testR2)\n",
    "print(\"Train bias\", linear_reg.trainbias)\n",
    "print(\"Test bias\", linear_reg.testbias)\n",
    "print(\"Train model variance\", linear_reg.trainvar)\n",
    "print(\"Test model variance\", linear_reg.testvar)"
   ]
  },
  {
   "cell_type": "markdown",
   "id": "7855d868",
   "metadata": {
    "ExecuteTime": {
     "end_time": "2021-11-17T20:28:20.371789Z",
     "start_time": "2021-11-17T20:28:20.365778Z"
    }
   },
   "source": [
    "## Apply Ridge regression "
   ]
  },
  {
   "cell_type": "code",
   "execution_count": 8,
   "id": "44f21a63",
   "metadata": {
    "ExecuteTime": {
     "end_time": "2021-11-29T11:19:48.766493Z",
     "start_time": "2021-11-29T11:19:48.158131Z"
    }
   },
   "outputs": [
    {
     "name": "stdout",
     "output_type": "stream",
     "text": [
      "own ridge\n",
      "Train MSE 0.005651764246959664\n",
      "Test MSE 0.005895361478811566\n",
      "Train R2 0.8982458294872186\n",
      "Test R2 0.8929214950892645\n",
      "Train bias 0.05554332538004511\n",
      "Test bias 0.05506541835822038\n",
      "Train model variance 0.047947144149584786\n",
      "Test model variance 0.049716464816741246\n",
      "\n",
      "scikit ridge\n",
      "Train MSE 0.005683437680601617\n",
      "Test MSE 0.005562990392366794\n",
      "Train R2 0.8974202276351828\n",
      "Test R2 0.9011330529711792\n",
      "Train bias 0.055405059938820944\n",
      "Test bias 0.056280867106721456\n",
      "Train model variance 0.04776954510083508\n",
      "Test model variance 0.049417776143669594\n"
     ]
    }
   ],
   "source": [
    "print(\"own ridge\")\n",
    "linear_reg.apply_leastsquares(order=5, test_ratio=0.1, reg_method=\"ridge\", lmbda=0.9)\n",
    "print(\"Train MSE\", linear_reg.trainMSE)\n",
    "print(\"Test MSE\", linear_reg.testMSE)\n",
    "print(\"Train R2\", linear_reg.trainR2)\n",
    "print(\"Test R2\", linear_reg.testR2)\n",
    "print(\"Train bias\", linear_reg.trainbias)\n",
    "print(\"Test bias\", linear_reg.testbias)\n",
    "print(\"Train model variance\", linear_reg.trainvar)\n",
    "print(\"Test model variance\", linear_reg.testvar)\n",
    "\n",
    "print('\\n'+\"scikit ridge\")\n",
    "linear_reg.apply_leastsquares(order=5, test_ratio=0.1, reg_method=\"scikit_ridge\", lmbda=0.9)\n",
    "print(\"Train MSE\", linear_reg.trainMSE)\n",
    "print(\"Test MSE\", linear_reg.testMSE)\n",
    "print(\"Train R2\", linear_reg.trainR2)\n",
    "print(\"Test R2\", linear_reg.testR2)\n",
    "print(\"Train bias\", linear_reg.trainbias)\n",
    "print(\"Test bias\", linear_reg.testbias)\n",
    "print(\"Train model variance\", linear_reg.trainvar)\n",
    "print(\"Test model variance\", linear_reg.testvar)"
   ]
  },
  {
   "cell_type": "markdown",
   "id": "06fb6486",
   "metadata": {
    "ExecuteTime": {
     "end_time": "2021-11-17T20:28:59.997409Z",
     "start_time": "2021-11-17T20:28:59.992330Z"
    }
   },
   "source": [
    "## Apply Ridge regression with bootstrap"
   ]
  },
  {
   "cell_type": "code",
   "execution_count": 9,
   "id": "159e173d",
   "metadata": {
    "ExecuteTime": {
     "end_time": "2021-11-29T11:19:49.505851Z",
     "start_time": "2021-11-29T11:19:48.768363Z"
    }
   },
   "outputs": [
    {
     "name": "stdout",
     "output_type": "stream",
     "text": [
      "Train MSE 0.005662459116772087\n",
      "Test MSE 0.0057192886485153745\n",
      "Train R2 0.8978058249176397\n",
      "Test R2 0.8969483366424541\n",
      "Train bias 0.0018471099656098566\n",
      "Test bias 0.0018672804265049072\n",
      "Train model variance 0.001587944985038572\n",
      "Test model variance 0.0015870385329321236\n"
     ]
    }
   ],
   "source": [
    "linear_reg.apply_leastsquares_bootstrap(order=5, test_ratio=0.1, n_boots=30, reg_method=\"ridge\", lmbda=0.9)\n",
    "print(\"Train MSE\", linear_reg.trainMSE)\n",
    "print(\"Test MSE\", linear_reg.testMSE)\n",
    "print(\"Train R2\", linear_reg.trainR2)\n",
    "print(\"Test R2\", linear_reg.testR2)\n",
    "print(\"Train bias\", linear_reg.trainbias)\n",
    "print(\"Test bias\", linear_reg.testbias)\n",
    "print(\"Train model variance\", linear_reg.trainvar)\n",
    "print(\"Test model variance\", linear_reg.testvar)"
   ]
  },
  {
   "cell_type": "markdown",
   "id": "c2375111",
   "metadata": {},
   "source": [
    "## Apply Ridge regression with cross validation"
   ]
  },
  {
   "cell_type": "code",
   "execution_count": 10,
   "id": "1c3c4006",
   "metadata": {
    "ExecuteTime": {
     "end_time": "2021-11-29T11:19:49.694477Z",
     "start_time": "2021-11-29T11:19:49.509254Z"
    },
    "scrolled": true
   },
   "outputs": [
    {
     "name": "stdout",
     "output_type": "stream",
     "text": [
      "Train MSE 0.003587540900666493\n",
      "Test MSE 0.003594740706259441\n",
      "Train R2 0.9353551036473119\n",
      "Test R2 0.935157493718284\n",
      "Train bias 0.0055537911027326295\n",
      "Test bias 0.005508587132044263\n",
      "Train model variance 0.00500167993888742\n",
      "Test model variance 0.005092737240484365\n"
     ]
    }
   ],
   "source": [
    "linear_reg.apply_leastsquares_crossvalidation(order=5, kfolds=10, reg_method=\"ridge\", lmbda=0.1)\n",
    "print(\"Train MSE\", linear_reg.trainMSE)\n",
    "print(\"Test MSE\", linear_reg.testMSE)\n",
    "print(\"Train R2\", linear_reg.trainR2)\n",
    "print(\"Test R2\", linear_reg.testR2)\n",
    "print(\"Train bias\", linear_reg.trainbias)\n",
    "print(\"Test bias\", linear_reg.testbias)\n",
    "print(\"Train model variance\", linear_reg.trainvar)\n",
    "print(\"Test model variance\", linear_reg.testvar)"
   ]
  },
  {
   "cell_type": "markdown",
   "id": "69e1362a",
   "metadata": {},
   "source": [
    "## Apply Lasso regression: Not working properly. High R2 value"
   ]
  },
  {
   "cell_type": "code",
   "execution_count": 11,
   "id": "23a96853",
   "metadata": {
    "ExecuteTime": {
     "end_time": "2021-11-29T11:19:49.810684Z",
     "start_time": "2021-11-29T11:19:49.696528Z"
    }
   },
   "outputs": [
    {
     "name": "stdout",
     "output_type": "stream",
     "text": [
      "Train MSE 0.012028243607781366\n",
      "Test MSE 0.01211565055860658\n",
      "Train R2 0.783872970407314\n",
      "Test R2 0.7755881658074282\n",
      "Train bias 0.055654599183265846\n",
      "Test bias 0.05399279587142345\n",
      "Train model variance 0.03917655205123832\n",
      "Test model variance 0.03857084893236964\n"
     ]
    }
   ],
   "source": [
    "linear_reg.apply_leastsquares(order=3, test_ratio=0.1, reg_method=\"scikit_lasso\", lmbda=0.001)\n",
    "print(\"Train MSE\", linear_reg.trainMSE)\n",
    "print(\"Test MSE\", linear_reg.testMSE)\n",
    "print(\"Train R2\", linear_reg.trainR2)\n",
    "print(\"Test R2\", linear_reg.testR2)\n",
    "print(\"Train bias\", linear_reg.trainbias)\n",
    "print(\"Test bias\", linear_reg.testbias)\n",
    "print(\"Train model variance\", linear_reg.trainvar)\n",
    "print(\"Test model variance\", linear_reg.testvar)\n"
   ]
  },
  {
   "cell_type": "code",
   "execution_count": null,
   "id": "31dd814f",
   "metadata": {
    "ExecuteTime": {
     "end_time": "2021-11-28T16:37:57.957401Z",
     "start_time": "2021-11-28T16:37:57.719836Z"
    }
   },
   "outputs": [],
   "source": []
  },
  {
   "cell_type": "code",
   "execution_count": null,
   "id": "237dc8dd",
   "metadata": {
    "ExecuteTime": {
     "end_time": "2021-11-28T16:22:48.026552Z",
     "start_time": "2021-11-28T16:22:47.970142Z"
    }
   },
   "outputs": [],
   "source": []
  },
  {
   "cell_type": "markdown",
   "id": "a1cc1b6e",
   "metadata": {
    "ExecuteTime": {
     "end_time": "2021-11-19T14:49:53.922397Z",
     "start_time": "2021-11-19T14:49:53.915295Z"
    }
   },
   "source": [
    "# Regression Comparisons"
   ]
  },
  {
   "cell_type": "code",
   "execution_count": 12,
   "id": "b0d6afaa",
   "metadata": {
    "ExecuteTime": {
     "end_time": "2021-11-29T11:19:53.069153Z",
     "start_time": "2021-11-29T11:19:53.042242Z"
    }
   },
   "outputs": [
    {
     "name": "stdout",
     "output_type": "stream",
     "text": [
      "[0.01 0.1  1.  ]\n"
     ]
    }
   ],
   "source": [
    "# For all methods except OLS we apply the following parameters\n",
    "order = np.arange(1,11)\n",
    "num_points = np.array([50])#[20, 50, 100, 200])\n",
    "noise_var = np.array([0.0, 0.25])#, 0.5, 0.75, 1.0])\n",
    "test_ratio_array = np.round(np.arange(1,3)*0.1, 2)\n",
    "\n",
    "n_boots = np.array([2, 5, 10], dtype=int)\n",
    "k_folds = np.array([2, 5, 10], dtype=int)\n",
    "ridge_lambda = np.array([0.01, 0.1, 1.0])\n",
    "lasso_lambda = np.array([0.01, 0.1, 1.0])\n",
    "print(lasso_lambda)"
   ]
  },
  {
   "cell_type": "code",
   "execution_count": 13,
   "id": "24d9a21a",
   "metadata": {
    "ExecuteTime": {
     "end_time": "2021-11-29T11:19:54.922200Z",
     "start_time": "2021-11-29T11:19:54.907540Z"
    }
   },
   "outputs": [],
   "source": [
    "# Save values in numpy file format\n",
    "np.save(\"data/order.npy\", order)\n",
    "np.save(\"data/num_points.npy\", num_points)\n",
    "np.save(\"data/noise_var.npy\", noise_var)\n",
    "np.save(\"data/test_ratio_array.npy\", test_ratio_array)\n",
    "np.save(\"data/k_folds.npy\", k_folds)\n",
    "np.save(\"data/n_boots.npy\", n_boots)\n",
    "np.save(\"data/ridge_lambda.npy\", ridge_lambda)\n",
    "np.save(\"data/lasso_lambda.npy\", lasso_lambda)"
   ]
  },
  {
   "cell_type": "markdown",
   "id": "749a0864",
   "metadata": {
    "ExecuteTime": {
     "end_time": "2021-11-24T09:44:32.230857Z",
     "start_time": "2021-11-24T09:44:31.913116Z"
    }
   },
   "source": [
    "Perform\n",
    "* Ordinary Least Squares(OLS) with scikit-learn test train split, own bootstrap, own cross-validation\n",
    "* Ridge Regression(RR) with scikit-learn test train split, own bootstrap, own cross-validation\n",
    "* Scikit Lasso Regression(LR) with scikit-learn test train split, own bootstrap, own cross-validation\n",
    "* Scikit OLS with scikit-learn test train split. Note: this is just for comparing OLS to Scikit-OLS\n",
    "* Scikit RR with scikit-learn test train split. Note: this is just for comparing OLS to Scikit-OLS\n",
    "\n",
    "and save output."
   ]
  },
  {
   "cell_type": "code",
   "execution_count": 16,
   "id": "463736db",
   "metadata": {
    "ExecuteTime": {
     "end_time": "2021-11-29T11:25:01.629943Z",
     "start_time": "2021-11-29T11:23:30.651842Z"
    }
   },
   "outputs": [
    {
     "name": "stdout",
     "output_type": "stream",
     "text": [
      "ols (10, 1, 2, 2, 1, 1, 1, 1)\n",
      "ols_bootstrap (10, 1, 2, 2, 1, 1, 3, 1)\n",
      "ols_crossvalidation (10, 1, 2, 1, 1, 1, 1, 3)\n",
      "ridge (10, 1, 2, 2, 3, 1, 1, 1)\n",
      "ridge_bootstrap (10, 1, 2, 2, 3, 1, 3, 1)\n",
      "ridge_crossvalidation (10, 1, 2, 1, 3, 1, 1, 3)\n",
      "lasso (10, 1, 2, 2, 1, 3, 1, 1)\n",
      "lasso_bootstrap (10, 1, 2, 2, 1, 3, 3, 1)\n",
      "lasso_crossvalidation (10, 1, 2, 1, 1, 3, 1, 3)\n"
     ]
    }
   ],
   "source": [
    "# Define for which regression methods and resampling techniques the statistical indicators should be calculated\n",
    "methods = [\"ols\", \"ols_bootstrap\", \"ols_crossvalidation\", \"ridge\", \n",
    "           \"ridge_bootstrap\", \"ridge_crossvalidation\", \"lasso\", \"lasso_bootstrap\",\n",
    "           \"lasso_crossvalidation\"]\n",
    "\n",
    "\n",
    "# Loop over specified methods\n",
    "for method in methods:\n",
    "    if(method == \"ols_crossvalidation\" or method == \"ridge_crossvalidation\" or method == \"lasso_crossvalidation\"):\n",
    "        test_ratio_array = np.ones(1)*0.1\n",
    "    if method != \"ols_bootstrap\" and method != \"ridge_bootstrap\" and method != \"lasso_bootstrap\":\n",
    "        n_boots = np.ones(1, dtype=int)\n",
    "    if method != \"ols_crossvalidation\" and method != \"ridge_crossvalidation\" and method != \"lasso_crossvalidation\":\n",
    "        k_folds = np.ones(1, dtype=int)\n",
    "    if(method != \"ridge\" and method != \"ridge_bootstrap\" and method != \"ridge_crossvalidation\"):\n",
    "        ridge_lambda = np.ones(1)\n",
    "    if(method != \"lasso\" and method != \"lasso_bootstrap\" and method != \"lasso_crossvalidation\"):\n",
    "        lasso_lambda = np.ones(1)\n",
    "    # Calculate statistical indicators\n",
    "    train_MSE, test_MSE, train_R2, test_R2, test_bias, test_var = apply_regression(order, num_points, noise_var, \n",
    "                                                                                   test_ratio_array, \n",
    "                                                                                   n_boots=n_boots, \n",
    "                                                                                   k_folds=k_folds, \n",
    "                                                                                   ridge_lambda=ridge_lambda, \n",
    "                                                                                   lasso_lambda=lasso_lambda, \n",
    "                                                                                   reg_type=method)\n",
    "    # Save output\n",
    "    test_ratio_array=np.load(\"data/test_ratio_array.npy\")\n",
    "    ridge_lambda=np.load(\"data/ridge_lambda.npy\")\n",
    "    lasso_lambda=np.load(\"data/lasso_lambda.npy\")\n",
    "    k_folds=np.load(\"data/k_folds.npy\")\n",
    "    n_boots=np.load(\"data/n_boots.npy\")\n",
    "    np.save(\"data/train_MSE\"+method+\".npy\", train_MSE)\n",
    "    np.save(\"data/test_MSE\"+method+\".npy\", test_MSE)\n",
    "    np.save(\"data/train_R2\"+method+\".npy\", train_R2)\n",
    "    np.save(\"data/test_R2\"+method+\".npy\", test_R2)\n",
    "    np.save(\"data/test_bias\"+method+\".npy\", test_bias)\n",
    "    np.save(\"data/test_variance\"+method+\".npy\", test_var)\n",
    "    # To track loop progress print size of MSE output\n",
    "    print(method, train_MSE.shape)\n"
   ]
  },
  {
   "cell_type": "code",
   "execution_count": 17,
   "id": "6fb99ba3",
   "metadata": {
    "ExecuteTime": {
     "end_time": "2021-11-29T11:25:07.595148Z",
     "start_time": "2021-11-29T11:25:07.393010Z"
    }
   },
   "outputs": [
    {
     "name": "stdout",
     "output_type": "stream",
     "text": [
      "[0.01 0.1  1.  ]\n"
     ]
    },
    {
     "data": {
      "application/vnd.jupyter.widget-view+json": {
       "model_id": "d56eeb628c13432aa9810936631a98e8",
       "version_major": 2,
       "version_minor": 0
      },
      "text/plain": [
       "interactive(children=(Dropdown(description='ratio', options=(0.1, 0.2), value=0.1), Dropdown(description='num'…"
      ]
     },
     "metadata": {},
     "output_type": "display_data"
    },
    {
     "data": {
      "text/plain": [
       "<function regression_analysis.fit_model.apply_regression.plot_stat(ratio=0.1, num=100, stat='test MSE', method='ols', n_boot=1000, k_fold=1000, ridge_lmb=122.0, lasso_lmb=112.2)>"
      ]
     },
     "execution_count": 17,
     "metadata": {},
     "output_type": "execute_result"
    }
   ],
   "source": [
    "methods = [\"ols\", \"ols_bootstrap\", \"ols_crossvalidation\", \"ridge\", \"ridge_bootstrap\", \"ridge_crossvalidation\",\n",
    "           \"lasso\", \"lasso_bootstrap\", \"lasso_crossvalidation\"]\n",
    "stats = [\"train MSE\", \"test MSE\", \"test R2\", \"train R2\"]\n",
    "print(lasso_lambda)\n",
    "widget.interact(plot_stat, ratio=test_ratio_array.tolist(), num=num_points.tolist(), stat=stats, \n",
    "                method=methods, k_fold=k_folds.tolist(), n_boot=n_boots.tolist(),\n",
    "                ridge_lmb=ridge_lambda.tolist(), lasso_lmb=lasso_lambda.tolist())"
   ]
  },
  {
   "cell_type": "markdown",
   "id": "a8b5a7a2",
   "metadata": {
    "ExecuteTime": {
     "end_time": "2021-11-24T09:59:44.885373Z",
     "start_time": "2021-11-24T09:59:44.885362Z"
    }
   },
   "source": [
    "# Bias Variance Tradeoff"
   ]
  },
  {
   "cell_type": "code",
   "execution_count": 43,
   "id": "7d153594",
   "metadata": {
    "ExecuteTime": {
     "end_time": "2021-11-24T10:47:05.644001Z",
     "start_time": "2021-11-24T10:47:05.155233Z"
    }
   },
   "outputs": [],
   "source": [
    "#loading data\n",
    "method = \"ols\"\n",
    "order=np.load(\"data/order.npy\")\n",
    "num_points=np.load(\"data/num_points.npy\")\n",
    "noise_var=np.load(\"data/noise_var.npy\")\n",
    "test_ratio_array=np.load(\"data/test_ratio_array.npy\")\n",
    "ridge_lambda=np.load(\"data/ridge_lambda.npy\")\n",
    "k_folds=np.load(\"data/k_folds.npy\")\n",
    "n_boots=np.load(\"data/n_boots.npy\")\n",
    "train_MSE=np.load(\"data/train_MSE\"+method+\".npy\")\n",
    "test_MSE=np.load(\"data/test_MSE\"+method+\".npy\")\n",
    "train_R2=np.load(\"data/train_R2\"+method+\".npy\")\n",
    "test_R2=np.load(\"data/test_R2\"+method+\".npy\")\n",
    "test_bias=np.load(\"data/test_bias\"+method+\".npy\")\n",
    "test_var=np.load(\"data/test_variance\"+method+\".npy\")"
   ]
  },
  {
   "cell_type": "markdown",
   "id": "22ce159b",
   "metadata": {},
   "source": [
    "For Ordinary least squares, we find the bias variance tradeoff as a function of model complexity: order of polynomial. We determine it for fixed test ratio and noise level"
   ]
  },
  {
   "cell_type": "code",
   "execution_count": 44,
   "id": "cffb0ff4",
   "metadata": {
    "ExecuteTime": {
     "end_time": "2021-11-24T10:52:04.532750Z",
     "start_time": "2021-11-24T10:52:04.429861Z"
    }
   },
   "outputs": [
    {
     "data": {
      "text/plain": [
       "[<matplotlib.lines.Line2D at 0x7f091e47baf0>]"
      ]
     },
     "execution_count": 44,
     "metadata": {},
     "output_type": "execute_result"
    },
    {
     "data": {
      "image/png": "[encoded data removed]",
      "text/plain": [
       "<Figure size 432x288 with 1 Axes>"
      ]
     },
     "metadata": {
      "needs_background": "light"
     },
     "output_type": "display_data"
    }
   ],
   "source": [
    "r_ind = 1 # r=0.1\n",
    "n_ind = 3 # n=100\n",
    "noise_ind = 2 #noise variance = 0.5\n",
    "ols_bias = test_bias[:, n_ind, noise_ind, r_ind, 0, 0, 0]\n",
    "ols_var = test_var[:, n_ind, noise_ind, r_ind, 0, 0, 0]\n",
    "\n",
    "fig, ax = plt.subplots()\n",
    "ax.plot(p, ols_bias, 'k')\n",
    "ax.plot(p, ols_var, 'b')"
   ]
  },
  {
   "cell_type": "code",
   "execution_count": 45,
   "id": "dc103f1c",
   "metadata": {
    "ExecuteTime": {
     "end_time": "2021-11-24T13:21:26.900211Z",
     "start_time": "2021-11-24T13:21:26.794298Z"
    }
   },
   "outputs": [
    {
     "data": {
      "text/plain": [
       "[<matplotlib.lines.Line2D at 0x7f091e449d60>]"
      ]
     },
     "execution_count": 45,
     "metadata": {},
     "output_type": "execute_result"
    },
    {
     "data": {
      "image/png": "[encoded data removed]",
      "text/plain": [
       "<Figure size 432x288 with 1 Axes>"
      ]
     },
     "metadata": {
      "needs_background": "light"
     },
     "output_type": "display_data"
    }
   ],
   "source": [
    "r_ind = 1 # r=0.1\n",
    "n_ind = 3 # n=100\n",
    "noise_ind = 2 #noise variance = 0.5\n",
    "ols_testMSE = test_MSE[:, n_ind, noise_ind, r_ind, 0, 0, 0]\n",
    "ols_trainMSE = train_MSE[:, n_ind, noise_ind, r_ind, 0, 0, 0]\n",
    "\n",
    "fig, ax = plt.subplots()\n",
    "ax.plot(p, ols_testMSE, 'k')\n",
    "ax.plot(p, ols_trainMSE, 'b')"
   ]
  },
  {
   "cell_type": "code",
   "execution_count": 46,
   "id": "b5e1b7f8",
   "metadata": {
    "ExecuteTime": {
     "end_time": "2021-11-24T13:24:57.010742Z",
     "start_time": "2021-11-24T13:24:56.923726Z"
    }
   },
   "outputs": [
    {
     "data": {
      "text/plain": [
       "[<matplotlib.lines.Line2D at 0x7f091e404970>]"
      ]
     },
     "execution_count": 46,
     "metadata": {},
     "output_type": "execute_result"
    },
    {
     "data": {
      "image/png": "[encoded data removed]",
      "text/plain": [
       "<Figure size 432x288 with 1 Axes>"
      ]
     },
     "metadata": {
      "needs_background": "light"
     },
     "output_type": "display_data"
    }
   ],
   "source": [
    "r_ind = 1 # r=0.1\n",
    "n_ind = 3 # n=100\n",
    "noise_ind = 2 #noise variance = 0.5\n",
    "ols_bias = test_bias[:, n_ind, noise_ind, r_ind, 0, 0, 0]\n",
    "ols_var = test_var[:, n_ind, noise_ind, r_ind, 0, 0, 0]\n",
    "\n",
    "fig, ax = plt.subplots()\n",
    "ax.plot(p, ols_bias, 'k')\n",
    "ax.plot(p, ols_var, 'b')"
   ]
  },
  {
   "cell_type": "code",
   "execution_count": 47,
   "id": "5a7d30ca",
   "metadata": {
    "ExecuteTime": {
     "end_time": "2021-11-24T13:25:49.049515Z",
     "start_time": "2021-11-24T13:25:48.927804Z"
    }
   },
   "outputs": [
    {
     "data": {
      "text/plain": [
       "<matplotlib.legend.Legend at 0x7f092008ec70>"
      ]
     },
     "execution_count": 47,
     "metadata": {},
     "output_type": "execute_result"
    },
    {
     "data": {
      "image/png": "[encoded data removed]",
      "text/plain": [
       "<Figure size 432x288 with 1 Axes>"
      ]
     },
     "metadata": {
      "needs_background": "light"
     },
     "output_type": "display_data"
    }
   ],
   "source": [
    "r_ind = 1 # r=0.1\n",
    "n_ind = 3 # n=100\n",
    "noise_ind = 2 #noise variance = 0.5\n",
    "ols_testMSE = test_MSE[:, n_ind, noise_ind, r_ind, 0, 0, 0]\n",
    "ols_trainMSE = train_MSE[:, n_ind, noise_ind, r_ind, 0, 0, 0]\n",
    "\n",
    "fig, ax = plt.subplots()\n",
    "ax.plot(p, ols_testMSE, 'k', label=\"testMSE\")\n",
    "ax.plot(p, ols_trainMSE, 'b', label=\"trainMSE\")\n",
    "ax.legend()"
   ]
  }
 ],
 "metadata": {
  "kernelspec": {
   "display_name": "Python 3 (ipykernel)",
   "language": "python",
   "name": "python3"
  },
  "language_info": {
   "codemirror_mode": {
    "name": "ipython",
    "version": 3
   },
   "file_extension": ".py",
   "mimetype": "text/x-python",
   "name": "python",
   "nbconvert_exporter": "python",
   "pygments_lexer": "ipython3",
   "version": "3.8.10"
  },
  "toc": {
   "base_numbering": 1,
   "nav_menu": {},
   "number_sections": true,
   "sideBar": true,
   "skip_h1_title": false,
   "title_cell": "Table of Contents",
   "title_sidebar": "Contents",
   "toc_cell": false,
   "toc_position": {
    "height": "calc(100% - 180px)",
    "left": "10px",
    "top": "150px",
    "width": "384px"
   },
   "toc_section_display": true,
   "toc_window_display": true
  },
  "varInspector": {
   "cols": {
    "lenName": 16,
    "lenType": 16,
    "lenVar": 40
   },
   "kernels_config": {
    "python": {
     "delete_cmd_postfix": "",
     "delete_cmd_prefix": "del ",
     "library": "var_list.py",
     "varRefreshCmd": "print(var_dic_list())"
    },
    "r": {
     "delete_cmd_postfix": ") ",
     "delete_cmd_prefix": "rm(",
     "library": "var_list.r",
     "varRefreshCmd": "cat(var_dic_list()) "
    }
   },
   "types_to_exclude": [
    "module",
    "function",
    "builtin_function_or_method",
    "instance",
    "_Feature"
   ],
   "window_display": false
  }
 },
 "nbformat": 4,
 "nbformat_minor": 5
}
