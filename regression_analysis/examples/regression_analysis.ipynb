{
 "cells": [
  {
   "cell_type": "markdown",
   "id": "2c1ea9a1",
   "metadata": {
    "ExecuteTime": {
     "end_time": "2021-11-17T20:26:49.729908Z",
     "start_time": "2021-11-17T20:26:49.723956Z"
    }
   },
   "source": [
    "# Importing Libraries"
   ]
  },
  {
   "cell_type": "code",
   "execution_count": 1,
   "id": "6c2fdd27",
   "metadata": {
    "ExecuteTime": {
     "end_time": "2021-11-30T15:34:10.005709Z",
     "start_time": "2021-11-30T15:34:09.985443Z"
    }
   },
   "outputs": [],
   "source": [
    "%load_ext autoreload\n",
    "%autoreload 2"
   ]
  },
  {
   "cell_type": "code",
   "execution_count": 2,
   "id": "6cedf291",
   "metadata": {
    "ExecuteTime": {
     "end_time": "2021-11-30T15:34:11.624291Z",
     "start_time": "2021-11-30T15:34:10.655366Z"
    }
   },
   "outputs": [
    {
     "name": "stdout",
     "output_type": "stream",
     "text": [
      "Number of processors:  8\n"
     ]
    }
   ],
   "source": [
    "%matplotlib inline\n",
    "\n",
    "from regression_analysis.fit_model import linear_regression\n",
    "from regression_analysis.utils import franke\n",
    "from regression_analysis.utils.plots import triangulation_for_triheatmap as triheatmap\n",
    "from regression_analysis.fit_model.apply_regression import plot_stat, apply_regression\n",
    "import numpy as np\n",
    "import matplotlib.pyplot as plt\n",
    "\n",
    "from matplotlib.tri import Triangulation\n",
    "from matplotlib.ticker import AutoMinorLocator, MultipleLocator\n",
    "import seaborn as sns\n",
    "\n",
    "from sklearn.model_selection import train_test_split\n",
    "from sklearn import linear_model\n",
    "\n",
    "import ipywidgets as widget\n",
    "from ipywidgets import interact, interactive, fixed, interact_manual\n",
    "\n",
    "import glob as glob\n",
    "from IPython.display import Image, display, HTML, Video\n",
    "\n",
    "import multiprocessing as mp\n",
    "\n",
    "import os\n",
    "if not os.path.exists('data'):\n",
    "    os.makedirs('data')\n",
    "#note my bootstrap can be wrong. \n",
    "\n",
    "print(\"Number of processors: \", mp.cpu_count())"
   ]
  },
  {
   "cell_type": "markdown",
   "id": "a609d53b",
   "metadata": {
    "ExecuteTime": {
     "end_time": "2021-11-17T20:24:29.410589Z",
     "start_time": "2021-11-17T20:24:29.408506Z"
    }
   },
   "source": [
    "# Demo for applying regression to Franke data "
   ]
  },
  {
   "cell_type": "code",
   "execution_count": 3,
   "id": "9b584e68",
   "metadata": {
    "ExecuteTime": {
     "end_time": "2021-11-30T14:15:00.857613Z",
     "start_time": "2021-11-30T14:15:00.844063Z"
    }
   },
   "outputs": [
    {
     "name": "stdout",
     "output_type": "stream",
     "text": [
      "1.2195347797082343\n"
     ]
    }
   ],
   "source": [
    "n = 100 #number of data points along each axis. Total data points = n*n\n",
    "x1 = np.linspace(0,1,n)\n",
    "x2 = np.linspace(0,1,n)\n",
    "xx1, xx2 = np.meshgrid(x1, x2)\n",
    "xx1 = xx1.reshape((n*n),1)\n",
    "xx2 = xx2.reshape((n*n),1)\n",
    "\n",
    "y = franke.Franke(xx1, xx2, noise_var=0.0) #zero mean gaussian noise has variance = var\n",
    "print(np.max(y))"
   ]
  },
  {
   "cell_type": "code",
   "execution_count": 4,
   "id": "c238ad66",
   "metadata": {
    "ExecuteTime": {
     "end_time": "2021-11-30T14:15:00.956879Z",
     "start_time": "2021-11-30T14:15:00.945749Z"
    }
   },
   "outputs": [],
   "source": [
    "#create linear regression object by passing input and output data\n",
    "linear_reg = linear_regression.linear_regression2D(xx1, xx2, y) "
   ]
  },
  {
   "cell_type": "markdown",
   "id": "b3ed0579",
   "metadata": {},
   "source": [
    "## Apply OLS "
   ]
  },
  {
   "cell_type": "code",
   "execution_count": 5,
   "id": "9e297d82",
   "metadata": {
    "ExecuteTime": {
     "end_time": "2021-11-30T14:19:11.593200Z",
     "start_time": "2021-11-30T14:19:11.526735Z"
    }
   },
   "outputs": [
    {
     "name": "stdout",
     "output_type": "stream",
     "text": [
      "own OLS\n",
      "Train MSE 0.055496170985611624\n",
      "Test MSE 0.05551819347640172\n",
      "Train R2 0.0\n",
      "Test R2 -0.0024199459819027602\n",
      "Train bias 0.055496170985611624\n",
      "Test bias -0.011576989758622983\n",
      "Train model variance 0.0\n",
      "Test model variance 0.0\n",
      "\n",
      "Scikit OLS\n",
      "Train MSE 0.05535375349534867\n",
      "Test MSE 0.05678737388225275\n",
      "Train R2 0.0\n",
      "Test R2 -0.00014541660937106293\n",
      "Train bias 0.05535375349534867\n",
      "Test bias 0.0028734346546222095\n",
      "Train model variance 0.0\n",
      "Test model variance 0.0\n"
     ]
    }
   ],
   "source": [
    "print(\"own OLS\")\n",
    "linear_reg.apply_leastsquares(order=0, test_ratio=0.1, reg_method=\"ols\")\n",
    "print(\"Train MSE\", linear_reg.trainMSE)\n",
    "print(\"Test MSE\", linear_reg.testMSE)\n",
    "print(\"Train R2\", linear_reg.trainR2)\n",
    "print(\"Test R2\", linear_reg.testR2)\n",
    "print(\"Train bias\", linear_reg.trainbias)\n",
    "print(\"Test bias\", linear_reg.testbias)\n",
    "print(\"Train model variance\", linear_reg.trainvar)\n",
    "print(\"Test model variance\", linear_reg.testvar)\n",
    "\n",
    "print('\\n'+ \"Scikit OLS\")\n",
    "linear_reg.apply_leastsquares(order=0, test_ratio=0.1, reg_method=\"scikit_ols\")\n",
    "print(\"Train MSE\", linear_reg.trainMSE)\n",
    "print(\"Test MSE\", linear_reg.testMSE)\n",
    "print(\"Train R2\", linear_reg.trainR2)\n",
    "print(\"Test R2\", linear_reg.testR2)\n",
    "print(\"Train bias\", linear_reg.trainbias)\n",
    "print(\"Test bias\", linear_reg.testbias)\n",
    "print(\"Train model variance\", linear_reg.trainvar)\n",
    "print(\"Test model variance\", linear_reg.testvar)"
   ]
  },
  {
   "cell_type": "code",
   "execution_count": 6,
   "id": "27eaee7a",
   "metadata": {
    "ExecuteTime": {
     "end_time": "2021-11-30T14:19:13.403952Z",
     "start_time": "2021-11-30T14:19:12.916809Z"
    }
   },
   "outputs": [
    {
     "name": "stdout",
     "output_type": "stream",
     "text": [
      "Train MSE 0.001400180992790695\n",
      "Test MSE 0.0014127829014259103\n",
      "Train R2 0.9748243813542443\n",
      "Test R2 0.9744835728083628\n",
      "Train bias 0.001874674970895646\n",
      "Test bias 0.0018321982925271472\n",
      "Train model variance 0.0018258562733839802\n",
      "Test model variance 0.001805688863680224\n"
     ]
    }
   ],
   "source": [
    "linear_reg.apply_leastsquares_bootstrap(order=5, test_ratio=0.1, n_boots=30, reg_method=\"ols\")\n",
    "print(\"Train MSE\", linear_reg.trainMSE)\n",
    "print(\"Test MSE\", linear_reg.testMSE)\n",
    "print(\"Train R2\", linear_reg.trainR2)\n",
    "print(\"Test R2\", linear_reg.testR2)\n",
    "print(\"Train bias\", linear_reg.trainbias)\n",
    "print(\"Test bias\", linear_reg.testbias)\n",
    "print(\"Train model variance\", linear_reg.trainvar)\n",
    "print(\"Test model variance\", linear_reg.testvar)"
   ]
  },
  {
   "cell_type": "markdown",
   "id": "30bfa940",
   "metadata": {
    "ExecuteTime": {
     "end_time": "2021-11-17T20:27:44.344810Z",
     "start_time": "2021-11-17T20:27:44.341402Z"
    }
   },
   "source": [
    "## Apply OLS with cross validation sampling"
   ]
  },
  {
   "cell_type": "code",
   "execution_count": 7,
   "id": "2daa8a14",
   "metadata": {
    "ExecuteTime": {
     "end_time": "2021-11-30T14:19:15.150408Z",
     "start_time": "2021-11-30T14:19:14.985706Z"
    }
   },
   "outputs": [
    {
     "name": "stdout",
     "output_type": "stream",
     "text": [
      "Train MSE 0.0014020977246192185\n",
      "Test MSE 0.0014107795260302086\n",
      "Train R2 0.9747353963655518\n",
      "Test R2 0.9745603695958709\n",
      "Train bias 0.005528570930664076\n",
      "Test bias 0.005739547684503722\n",
      "Train model variance 0.005387129185185406\n",
      "Test model variance 0.005712706619761198\n"
     ]
    }
   ],
   "source": [
    "linear_reg.apply_leastsquares_crossvalidation(order=5, kfolds=10, reg_method=\"ols\")\n",
    "print(\"Train MSE\", linear_reg.trainMSE)\n",
    "print(\"Test MSE\", linear_reg.testMSE)\n",
    "print(\"Train R2\", linear_reg.trainR2)\n",
    "print(\"Test R2\", linear_reg.testR2)\n",
    "print(\"Train bias\", linear_reg.trainbias)\n",
    "print(\"Test bias\", linear_reg.testbias)\n",
    "print(\"Train model variance\", linear_reg.trainvar)\n",
    "print(\"Test model variance\", linear_reg.testvar)"
   ]
  },
  {
   "cell_type": "markdown",
   "id": "7855d868",
   "metadata": {
    "ExecuteTime": {
     "end_time": "2021-11-17T20:28:20.371789Z",
     "start_time": "2021-11-17T20:28:20.365778Z"
    }
   },
   "source": [
    "## Apply Ridge regression "
   ]
  },
  {
   "cell_type": "code",
   "execution_count": 8,
   "id": "44f21a63",
   "metadata": {
    "ExecuteTime": {
     "end_time": "2021-11-30T14:19:18.709664Z",
     "start_time": "2021-11-30T14:19:18.648595Z"
    }
   },
   "outputs": [
    {
     "name": "stdout",
     "output_type": "stream",
     "text": [
      "own ridge\n",
      "Train MSE 0.005633886530099752\n",
      "Test MSE 0.006048324538040115\n",
      "Train R2 0.8981626343939483\n",
      "Test R2 0.8940059650723419\n",
      "Train bias 0.05532239801534347\n",
      "Test bias 0.0002604785047596545\n",
      "Train model variance 0.04774464417146186\n",
      "Test model variance 0.047767959938456866\n",
      "\n",
      "scikit ridge\n",
      "Train MSE 0.00560871685006611\n",
      "Test MSE 0.006368858395241299\n",
      "Train R2 0.89819400376836\n",
      "Test R2 0.8921742328017271\n",
      "Train bias 0.05509221259342975\n",
      "Test bias 0.004921191286149671\n",
      "Train model variance 0.047555141139495924\n",
      "Test model variance 0.04725253378851254\n"
     ]
    }
   ],
   "source": [
    "print(\"own ridge\")\n",
    "linear_reg.apply_leastsquares(order=5, test_ratio=0.1, reg_method=\"ridge\", lmbda=0.9)\n",
    "print(\"Train MSE\", linear_reg.trainMSE)\n",
    "print(\"Test MSE\", linear_reg.testMSE)\n",
    "print(\"Train R2\", linear_reg.trainR2)\n",
    "print(\"Test R2\", linear_reg.testR2)\n",
    "print(\"Train bias\", linear_reg.trainbias)\n",
    "print(\"Test bias\", linear_reg.testbias)\n",
    "print(\"Train model variance\", linear_reg.trainvar)\n",
    "print(\"Test model variance\", linear_reg.testvar)\n",
    "\n",
    "print('\\n'+\"scikit ridge\")\n",
    "linear_reg.apply_leastsquares(order=5, test_ratio=0.1, reg_method=\"scikit_ridge\", lmbda=0.9)\n",
    "print(\"Train MSE\", linear_reg.trainMSE)\n",
    "print(\"Test MSE\", linear_reg.testMSE)\n",
    "print(\"Train R2\", linear_reg.trainR2)\n",
    "print(\"Test R2\", linear_reg.testR2)\n",
    "print(\"Train bias\", linear_reg.trainbias)\n",
    "print(\"Test bias\", linear_reg.testbias)\n",
    "print(\"Train model variance\", linear_reg.trainvar)\n",
    "print(\"Test model variance\", linear_reg.testvar)"
   ]
  },
  {
   "cell_type": "markdown",
   "id": "06fb6486",
   "metadata": {
    "ExecuteTime": {
     "end_time": "2021-11-17T20:28:59.997409Z",
     "start_time": "2021-11-17T20:28:59.992330Z"
    }
   },
   "source": [
    "## Apply Ridge regression with bootstrap"
   ]
  },
  {
   "cell_type": "code",
   "execution_count": 9,
   "id": "159e173d",
   "metadata": {
    "ExecuteTime": {
     "end_time": "2021-11-30T14:19:22.832986Z",
     "start_time": "2021-11-30T14:19:22.198325Z"
    }
   },
   "outputs": [
    {
     "name": "stdout",
     "output_type": "stream",
     "text": [
      "Train MSE 0.0056725265308969885\n",
      "Test MSE 0.005677972642227368\n",
      "Train R2 0.8978828814959814\n",
      "Test R2 0.8976190548690515\n",
      "Train bias 0.0017996053750776848\n",
      "Test bias 0.0018836775230063304\n",
      "Train model variance 0.001548449413105633\n",
      "Test model variance 0.0016115060831425226\n"
     ]
    }
   ],
   "source": [
    "linear_reg.apply_leastsquares_bootstrap(order=5, test_ratio=0.1, n_boots=30, reg_method=\"ridge\", lmbda=0.9)\n",
    "print(\"Train MSE\", linear_reg.trainMSE)\n",
    "print(\"Test MSE\", linear_reg.testMSE)\n",
    "print(\"Train R2\", linear_reg.trainR2)\n",
    "print(\"Test R2\", linear_reg.testR2)\n",
    "print(\"Train bias\", linear_reg.trainbias)\n",
    "print(\"Test bias\", linear_reg.testbias)\n",
    "print(\"Train model variance\", linear_reg.trainvar)\n",
    "print(\"Test model variance\", linear_reg.testvar)"
   ]
  },
  {
   "cell_type": "markdown",
   "id": "c2375111",
   "metadata": {},
   "source": [
    "## Apply Ridge regression with cross validation"
   ]
  },
  {
   "cell_type": "code",
   "execution_count": 10,
   "id": "1c3c4006",
   "metadata": {
    "ExecuteTime": {
     "end_time": "2021-11-30T14:19:26.407897Z",
     "start_time": "2021-11-30T14:19:26.249757Z"
    },
    "scrolled": true
   },
   "outputs": [
    {
     "name": "stdout",
     "output_type": "stream",
     "text": [
      "Train MSE 0.003587272896305767\n",
      "Test MSE 0.00360190313122477\n",
      "Train R2 0.935359076727772\n",
      "Test R2 0.93498320594482\n",
      "Train bias 0.005536755832970619\n",
      "Test bias 0.005661482355598097\n",
      "Train model variance 0.004987172084294982\n",
      "Test model variance 0.005055215205231793\n"
     ]
    }
   ],
   "source": [
    "linear_reg.apply_leastsquares_crossvalidation(order=5, kfolds=10, reg_method=\"ridge\", lmbda=0.1)\n",
    "print(\"Train MSE\", linear_reg.trainMSE)\n",
    "print(\"Test MSE\", linear_reg.testMSE)\n",
    "print(\"Train R2\", linear_reg.trainR2)\n",
    "print(\"Test R2\", linear_reg.testR2)\n",
    "print(\"Train bias\", linear_reg.trainbias)\n",
    "print(\"Test bias\", linear_reg.testbias)\n",
    "print(\"Train model variance\", linear_reg.trainvar)\n",
    "print(\"Test model variance\", linear_reg.testvar)"
   ]
  },
  {
   "cell_type": "markdown",
   "id": "69e1362a",
   "metadata": {},
   "source": [
    "## Apply Lasso regression: Not working properly. High R2 value"
   ]
  },
  {
   "cell_type": "code",
   "execution_count": 18,
   "id": "23a96853",
   "metadata": {
    "ExecuteTime": {
     "end_time": "2021-11-30T14:19:29.206810Z",
     "start_time": "2021-11-30T14:19:29.127692Z"
    }
   },
   "outputs": [
    {
     "name": "stdout",
     "output_type": "stream",
     "text": [
      "[1.00000000e-04 1.77827941e-04 3.16227766e-04 5.62341325e-04\n",
      " 1.00000000e-03 1.77827941e-03 3.16227766e-03 5.62341325e-03\n",
      " 1.00000000e-02 1.77827941e-02 3.16227766e-02 5.62341325e-02\n",
      " 1.00000000e-01 1.77827941e-01 3.16227766e-01 5.62341325e-01\n",
      " 1.00000000e+00]\n",
      "Train MSE 0.0061468414646107545\n",
      "Test MSE 0.006178499438552084\n",
      "Train R2 0.8892297207419402\n",
      "Test R2 0.8887499287073193\n",
      "Train bias 0.055491801539200934\n",
      "Test bias 0.0010178374059453398\n",
      "Train model variance 0.047730589436050117\n",
      "Test model variance 0.047623863880904435\n",
      "---\n",
      "Train MSE 0.006487620870620521\n",
      "Test MSE 0.006278561611208312\n",
      "Train R2 0.8829868760687102\n",
      "Test R2 0.8878282134628167\n",
      "Train bias 0.0554435642113911\n",
      "Test bias 0.0020659221000301534\n",
      "Train model variance 0.046642081971755275\n",
      "Test model variance 0.04614691105091921\n",
      "---\n"
     ]
    },
    {
     "name": "stderr",
     "output_type": "stream",
     "text": [
      "/home/amandink/anaconda3/lib/python3.8/site-packages/sklearn/linear_model/_coordinate_descent.py:530: ConvergenceWarning: Objective did not converge. You might want to increase the number of iterations. Duality gap: 3.9224523083676033, tolerance: 0.14910383316289794\n",
      "  model = cd_fast.enet_coordinate_descent(\n",
      "/home/amandink/anaconda3/lib/python3.8/site-packages/sklearn/linear_model/_coordinate_descent.py:530: ConvergenceWarning: Objective did not converge. You might want to increase the number of iterations. Duality gap: 1.9938967675274597, tolerance: 0.1487404702310814\n",
      "  model = cd_fast.enet_coordinate_descent(\n",
      "/home/amandink/anaconda3/lib/python3.8/site-packages/sklearn/linear_model/_coordinate_descent.py:530: ConvergenceWarning: Objective did not converge. You might want to increase the number of iterations. Duality gap: 2.0030607076781664, tolerance: 0.1491820581393223\n",
      "  model = cd_fast.enet_coordinate_descent(\n",
      "/home/amandink/anaconda3/lib/python3.8/site-packages/sklearn/linear_model/_coordinate_descent.py:530: ConvergenceWarning: Objective did not converge. You might want to increase the number of iterations. Duality gap: 0.7578298043011102, tolerance: 0.14850321456546414\n",
      "  model = cd_fast.enet_coordinate_descent(\n"
     ]
    },
    {
     "name": "stdout",
     "output_type": "stream",
     "text": [
      "Train MSE 0.007018661054941837\n",
      "Test MSE 0.006689563099506591\n",
      "Train R2 0.8736020577969191\n",
      "Test R2 0.8788215607737142\n",
      "Train bias 0.05552837203485408\n",
      "Test bias -0.0019236713599750518\n",
      "Train model variance 0.04535157361820028\n",
      "Test model variance 0.046223934932573464\n",
      "---\n",
      "Train MSE 0.008251681453525589\n",
      "Test MSE 0.00819818936485729\n",
      "Train R2 0.8510942055486764\n",
      "Test R2 0.8541191493457813\n",
      "Train bias 0.05541575144526084\n",
      "Test bias -0.0018492848639332306\n",
      "Train model variance 0.04309819918495968\n",
      "Test model variance 0.04442785335117843\n",
      "---\n",
      "Train MSE 0.009316781318348271\n",
      "Test MSE 0.008316805690488187\n",
      "Train R2 0.8325183322853067\n",
      "Test R2 0.8468433528763379\n",
      "Train bias 0.055629646003615724\n",
      "Test bias -0.004323976709830985\n",
      "Train model variance 0.040270669790943736\n",
      "Test model variance 0.041997721467759104\n",
      "---\n",
      "Train MSE 0.011642732663034127\n",
      "Test MSE 0.012328376991103212\n",
      "Train R2 0.7901299660131664\n",
      "Test R2 0.778604830544998\n",
      "Train bias 0.05547904997209287\n",
      "Test bias 0.0024415561312560174\n",
      "Train model variance 0.03627869570022323\n",
      "Test model variance 0.03699823459635266\n",
      "---\n",
      "Train MSE 0.015916696569012453\n",
      "Test MSE 0.014761132494356783\n",
      "Train R2 0.7137138722572032\n",
      "Test R2 0.7296223791277023\n",
      "Train bias 0.055607111727430956\n",
      "Test bias 0.007798426741957996\n",
      "Train model variance 0.032104675189587144\n",
      "Test model variance 0.033053843136555766\n",
      "---\n",
      "Train MSE 0.017133757976544314\n",
      "Test MSE 0.017408385016248955\n",
      "Train R2 0.6897472016253774\n",
      "Test R2 0.6994982328359067\n",
      "Train bias 0.05525663528969551\n",
      "Test bias 0.011754336490637646\n",
      "Train model variance 0.026345620469498794\n",
      "Test model variance 0.02742666411101202\n",
      "---\n",
      "Train MSE 0.020677019347070752\n",
      "Test MSE 0.01894668633046802\n",
      "Train R2 0.6302898112978497\n",
      "Test R2 0.6322992591280896\n",
      "Train bias 0.056027425442956476\n",
      "Test bias 0.003339054104638319\n",
      "Train model variance 0.018635207946834632\n",
      "Test model variance 0.018195824464377643\n",
      "---\n",
      "Train MSE 0.029502555732217703\n",
      "Test MSE 0.02808602145604303\n",
      "Train R2 0.46997667091650386\n",
      "Test R2 0.47975470326266756\n",
      "Train bias 0.05597840688298432\n",
      "Test bias 0.015100093147941713\n",
      "Train model variance 0.007934558470831021\n",
      "Test model variance 0.007998368068505948\n",
      "---\n",
      "Train MSE 0.05057594029978865\n",
      "Test MSE 0.04863390404345838\n",
      "Train R2 0.09266386393357073\n",
      "Test R2 0.08726128075458639\n",
      "Train bias 0.05674166419090266\n",
      "Test bias 0.03526764734496219\n",
      "Train model variance 0.0004206599684707594\n",
      "Test model variance 0.0004105829702573391\n",
      "---\n",
      "Train MSE 0.05869581623997955\n",
      "Test MSE 0.059232226676843074\n",
      "Train R2 -0.056943564934614166\n",
      "Test R2 -0.07477127417948548\n",
      "Train bias 0.058695816239979534\n",
      "Test bias 0.06419310681080717\n",
      "Train model variance 1.232595164407831e-32\n",
      "Test model variance 1.232595164407831e-32\n",
      "---\n",
      "Train MSE 0.0660986557255556\n",
      "Test MSE 0.05806823952984613\n",
      "Train R2 -0.17825739085303138\n",
      "Test R2 -0.16159209992260393\n",
      "Train bias 0.06609865572555557\n",
      "Test bias 0.0898778277248519\n",
      "Train model variance 3.0814879110195774e-33\n",
      "Test model variance 3.0814879110195774e-33\n",
      "---\n",
      "Train MSE 0.08718149340720752\n",
      "Test MSE 0.08704227470862574\n",
      "Train R2 -0.5691775912027508\n",
      "Test R2 -0.5843077586498433\n",
      "Train bias 0.08718149340720754\n",
      "Test bias 0.17917036072480413\n",
      "Train model variance 7.703719777548943e-34\n",
      "Test model variance 7.703719777548943e-34\n",
      "---\n",
      "Train MSE 0.15526564018347688\n",
      "Test MSE 0.16297357984757668\n",
      "Train R2 -1.8094425336974136\n",
      "Test R2 -1.8336194329514783\n",
      "Train bias 0.15526564018347688\n",
      "Test bias 0.3247449775188877\n",
      "Train model variance 1.2037062152420224e-35\n",
      "Test model variance 3.009265538105056e-36\n",
      "---\n",
      "Train MSE 0.16519259987437265\n",
      "Test MSE 0.1681578861045851\n",
      "Train R2 -1.9875521867892565\n",
      "Test R2 -1.9333666447165787\n",
      "Train bias 0.16519259987437265\n",
      "Test bias 0.33291438092278586\n",
      "Train model variance 0.0\n",
      "Test model variance 0.0\n",
      "---\n",
      "Train MSE 0.1657166941552638\n",
      "Test MSE 0.16344103757656478\n",
      "Train R2 -1.983530189361442\n",
      "Test R2 -1.9679221683924277\n",
      "Train bias 0.1657166941552638\n",
      "Test bias 0.329198812927073\n",
      "Train model variance 0.0\n",
      "Test model variance 0.0\n",
      "---\n"
     ]
    },
    {
     "name": "stderr",
     "output_type": "stream",
     "text": [
      "/home/amandink/anaconda3/lib/python3.8/site-packages/sklearn/linear_model/_coordinate_descent.py:530: ConvergenceWarning: Objective did not converge. You might want to increase the number of iterations. Duality gap: 0.15472202625548448, tolerance: 0.14882934778694518\n",
      "  model = cd_fast.enet_coordinate_descent(\n"
     ]
    }
   ],
   "source": [
    "lam = np.logspace(-4,0,17)\n",
    "print(lam)\n",
    "for lmbda in lam:\n",
    "    linear_reg.apply_leastsquares(order=5, test_ratio=0.1, reg_method=\"scikit_lasso\", lmbda=lmbda)\n",
    "    print(\"Train MSE\", linear_reg.trainMSE)\n",
    "    print(\"Test MSE\", linear_reg.testMSE)\n",
    "    print(\"Train R2\", linear_reg.trainR2)\n",
    "    print(\"Test R2\", linear_reg.testR2)\n",
    "    print(\"Train bias\", linear_reg.trainbias)\n",
    "    print(\"Test bias\", linear_reg.testbias)\n",
    "    print(\"Train model variance\", linear_reg.trainvar)\n",
    "    print(\"Test model variance\", linear_reg.testvar)\n",
    "    print(\"---\")\n"
   ]
  },
  {
   "cell_type": "markdown",
   "id": "a1cc1b6e",
   "metadata": {
    "ExecuteTime": {
     "end_time": "2021-11-19T14:49:53.922397Z",
     "start_time": "2021-11-19T14:49:53.915295Z"
    }
   },
   "source": [
    "# Regression Comparisons"
   ]
  },
  {
   "cell_type": "code",
   "execution_count": 19,
   "id": "daf14922",
   "metadata": {
    "ExecuteTime": {
     "end_time": "2021-11-30T14:19:34.185079Z",
     "start_time": "2021-11-30T14:19:34.170912Z"
    }
   },
   "outputs": [],
   "source": [
    "# For all methods we apply the following parameters\n",
    "order = np.arange(1,13)\n",
    "num_points = np.array([25, 50, 75, 100])\n",
    "noise_var = np.array([0.0, 0.25, 0.5, 0.75, 1.0])\n",
    "test_ratio = np.round(np.arange(1,5)*0.1, 2)\n",
    "\n",
    "n_boots = np.array([5, 10], dtype=int)\n",
    "k_folds = np.array([5, 10], dtype=int)\n",
    "\n",
    "ridge_lambda = np.array([0.001, 0.01, 0.1, 1.0])\n",
    "lasso_lambda = np.array([0.00001, 0.0001, 0.001, 0.01])\n",
    "\n",
    "# Parameters for stochastic gradient descent\n",
    "learn_rate = np.array([0.001, 0.01, 0.1, 1.0])\n",
    "num_min_batch = np.array([2, 5, 10, 50])\n",
    "epochs = np.array([10, 50, 100])"
   ]
  },
  {
   "cell_type": "code",
   "execution_count": 21,
   "id": "a8b203ce",
   "metadata": {
    "ExecuteTime": {
     "end_time": "2021-11-30T14:19:35.584824Z",
     "start_time": "2021-11-30T14:19:35.553033Z"
    }
   },
   "outputs": [],
   "source": [
    "# Save values in numpy file format\n",
    "np.save(\"data/order.npy\", order)\n",
    "np.save(\"data/num_points.npy\", num_points)\n",
    "np.save(\"data/noise_var.npy\", noise_var)\n",
    "np.save(\"data/test_ratio.npy\", test_ratio)\n",
    "np.save(\"data/k_folds.npy\", k_folds)\n",
    "np.save(\"data/n_boots.npy\", n_boots)\n",
    "np.save(\"data/ridge_lambda.npy\", ridge_lambda)\n",
    "np.save(\"data/lasso_lambda.npy\", lasso_lambda)\n",
    "np.save(\"data/learn_rates.npy\", learn_rate)\n",
    "np.save(\"data/num_min_batches.npy\", num_min_batch)\n",
    "np.save(\"data/epochs.npy\", epochs)"
   ]
  },
  {
   "cell_type": "markdown",
   "id": "749a0864",
   "metadata": {
    "ExecuteTime": {
     "end_time": "2021-11-24T09:44:32.230857Z",
     "start_time": "2021-11-24T09:44:31.913116Z"
    }
   },
   "source": [
    "Perform\n",
    "* Ordinary Least Squares(OLS) with scikit-learn test train split, own bootstrap, own cross-validation\n",
    "* Ridge Regression(RR) with scikit-learn test train split, own bootstrap, own cross-validation\n",
    "* Scikit Lasso Regression(LR) with scikit-learn test train split, own bootstrap, own cross-validation\n",
    "* Scikit OLS with scikit-learn test train split. Note: this is just for comparing OLS to Scikit-OLS\n",
    "* Scikit RR with scikit-learn test train split. Note: this is just for comparing OLS to Scikit-OLS\n",
    "\n",
    "and save output."
   ]
  },
  {
   "cell_type": "code",
   "execution_count": 26,
   "id": "605e1a2e",
   "metadata": {
    "ExecuteTime": {
     "end_time": "2021-11-29T13:42:18.520097Z",
     "start_time": "2021-11-29T13:42:05.184340Z"
    }
   },
   "outputs": [
    {
     "name": "stdout",
     "output_type": "stream",
     "text": [
      "[1.]\n",
      "(12, 4, 5, 4, 1, 1, 1, 1, 4, 4, 3)\n",
      "[1.]\n",
      "(12, 4, 5, 4, 1, 1, 1, 1, 4, 4, 3)\n"
     ]
    }
   ],
   "source": [
    "# Define for which regression methods and resampling techniques the statistical indicators should be calculated\n",
    "\"\"\"\n",
    "methods = [\"ols\", \"ols_bootstrap\", \"ols_crossvalidation\", \"ridge\", \n",
    "           \"ridge_bootstrap\", \"ridge_crossvalidation\", \"lasso\", \"lasso_bootstrap\",\n",
    "           \"lasso_crossvalidation\", \"ols_sgd\", \"ols_bootstrap_sgd\", \"ols_crossvalidation_sgd\", \"ridge_sgd\", \n",
    "           \"ridge_bootstrap_sgd\", \"ridge_crossvalidation_sgd\"]\"\"\"\n",
    "methods = [\"ols\", \"ols_sgd\"]\n",
    "\n",
    "# Loop over specified methods\n",
    "for method in methods:\n",
    "    if \"crossvalidation\" in method:\n",
    "        test_ratio_array = np.ones(1)*0.1\n",
    "    else:\n",
    "        k_folds = np.ones(1, dtype=int)\n",
    "    if \"bootstrap\" not in method:\n",
    "        n_boots = np.ones(1, dtype=int)\n",
    "    if \"ridge\" not in method:\n",
    "        ridge_lambda = np.ones(1)\n",
    "    if \"lasso\" not in method:\n",
    "        lasso_lambda = np.ones(1)\n",
    "    # Calculate statistical indicators\n",
    "    train_MSE, test_MSE, train_R2, test_R2, test_bias, test_var = apply_regression(order, num_points, noise_var,\n",
    "                                                                                   test_ratios=test_ratio, \n",
    "                                                                                   n_boots=n_boots, \n",
    "                                                                                   k_folds=k_folds, \n",
    "                                                                                   ridge_lambda=ridge_lambda, \n",
    "                                                                                   lasso_lambda=lasso_lambda, \n",
    "                                                                                   reg_type=method, \n",
    "                                                                                   learn_rate=learn_rate,\n",
    "                                                                                   num_min_batch=num_min_batch,\n",
    "                                                                                   epochs=epochs)\n",
    "    # Save output\n",
    "    np.save(\"data/train_MSE\"+str(method)+\".npy\", train_MSE)\n",
    "    np.save(\"data/test_MSE\"+str(method)+\".npy\", test_MSE)\n",
    "    np.save(\"data/train_R2\"+str(method)+\".npy\", train_R2)\n",
    "    np.save(\"data/test_R2\"+str(method)+\".npy\", test_R2)\n",
    "    np.save(\"data/test_bias\"+str(method)+\".npy\", test_bias)\n",
    "    np.save(\"data/test_variance\"+str(method)+\".npy\", test_var)\n",
    "    # To track loop progress print size of MSE output\n",
    "    print(train_MSE.shape)\n"
   ]
  },
  {
   "cell_type": "code",
   "execution_count": null,
   "id": "7c6c3a0e",
   "metadata": {
    "ExecuteTime": {
     "start_time": "2021-11-30T12:24:30.367Z"
    }
   },
   "outputs": [],
   "source": [
    "pool = mp.Pool(processes=5)\n",
    "#methods = methods = [\"e\",\"e\",\"d\", \"d\", \"s\",\"d\", \"d\", \"s\", \"ols\", \"ridge_crossvalidation\", \"lasso\", \"lasso_bootstrap\",\n",
    "#           \"lasso_crossvalidation\", \"ols_bootstrap\", \"ols_crossvalidation\", \"ridge\", \n",
    "#           \"ridge_bootstrap\"]\n",
    "methods = [\"e\",\"e\", \"ols\", \"ols_sgd\"]\n",
    "def run_regression(method):\n",
    "    print(method)\n",
    "    order = np.load(\"data/order.npy\")\n",
    "    num_points = np.load(\"data/num_points.npy\")\n",
    "    noise_var = np.load(\"data/noise_var.npy\")\n",
    "    test_ratio_array = np.load(\"data/test_ratio_array.npy\")\n",
    "    k_folds = np.load(\"data/k_folds.npy\")\n",
    "    n_boots = np.load(\"data/n_boots.npy\")\n",
    "    ridge_lambda = np.load(\"data/ridge_lambda.npy\")\n",
    "    lasso_lambda = np.load(\"data/lasso_lambda.npy\")\n",
    "    \n",
    "    if \"crossvalidation\" in method:\n",
    "        test_ratio_array = np.ones(1)*0.1\n",
    "    else:\n",
    "        k_folds = np.ones(1, dtype=int)\n",
    "    if \"bootstrap\" not in method:\n",
    "        n_boots = np.ones(1, dtype=int)\n",
    "    if \"ridge\" not in method:\n",
    "        ridge_lambda = np.ones(1)\n",
    "    if \"lasso\" not in method:\n",
    "        lasso_lambda = np.ones(1)\n",
    "    # Calculate statistical indicators\n",
    "    train_MSE, test_MSE, train_R2, test_R2, test_bias, test_var = apply_regression(order, num_points, noise_var,\n",
    "                                                                                   test_ratios=test_ratio, \n",
    "                                                                                   n_boots=n_boots, \n",
    "                                                                                   k_folds=k_folds, \n",
    "                                                                                   ridge_lambda=ridge_lambda, \n",
    "                                                                                   lasso_lambda=lasso_lambda, \n",
    "                                                                                   reg_type=method, \n",
    "                                                                                   learn_rate=learn_rate,\n",
    "                                                                                   num_min_batch=num_min_batch,\n",
    "                                                                                   epochs=epochs)\n",
    "    # Save output\n",
    "    np.save(\"data/train_MSE\"+str(method)+\".npy\", train_MSE)\n",
    "    np.save(\"data/test_MSE\"+str(method)+\".npy\", test_MSE)\n",
    "    np.save(\"data/train_R2\"+str(method)+\".npy\", train_R2)\n",
    "    np.save(\"data/test_R2\"+str(method)+\".npy\", test_R2)\n",
    "    np.save(\"data/test_bias\"+str(method)+\".npy\", test_bias)\n",
    "    np.save(\"data/test_variance\"+str(method)+\".npy\", test_var)\n",
    "    # To track loop progress print size of MSE output\n",
    "    print(train_MSE.shape)\n",
    "    print(\"finished \", method)\n",
    "    return 0\n",
    "    \n",
    "[pool.map(run_regression, methods)]"
   ]
  },
  {
   "cell_type": "markdown",
   "id": "72452284",
   "metadata": {
    "ExecuteTime": {
     "end_time": "2021-11-30T14:20:45.845471Z",
     "start_time": "2021-11-30T14:20:45.830412Z"
    }
   },
   "source": [
    "## Widget to compare all experiments"
   ]
  },
  {
   "cell_type": "code",
   "execution_count": 29,
   "id": "6fb99ba3",
   "metadata": {
    "ExecuteTime": {
     "end_time": "2021-11-30T14:20:51.615224Z",
     "start_time": "2021-11-30T14:20:51.261876Z"
    }
   },
   "outputs": [
    {
     "data": {
      "application/vnd.jupyter.widget-view+json": {
       "model_id": "392c2ee8b8314237b960c7a311821ae2",
       "version_major": 2,
       "version_minor": 0
      },
      "text/plain": [
       "interactive(children=(Dropdown(description='ratio', options=(0.1, 0.2, 0.3, 0.4), value=0.1), Dropdown(descrip…"
      ]
     },
     "metadata": {},
     "output_type": "display_data"
    },
    {
     "data": {
      "text/plain": [
       "<function regression_analysis.fit_model.apply_regression.plot_stat(ratio=0.1, num=100, stat='test MSE', method='ols', n_boot=1000, k_fold=1000, ridge_lmb=122.0, lasso_lmb=112.2, learn_rate=0.1, batch=5, epoch=50)>"
      ]
     },
     "execution_count": 29,
     "metadata": {},
     "output_type": "execute_result"
    }
   ],
   "source": [
    "\"\"\"methods = [\"ols\", \"ols_bootstrap\", \"ols_crossvalidation\", \"ridge\", \"ridge_bootstrap\", \"ridge_crossvalidation\",\n",
    "           \"lasso\", \"lasso_bootstrap\", \"lasso_crossvalidation\", \"ols_sgd\", \"ols_bootstrap_sgd\", \"ols_crossvalidation_sgd\", \"ridge_sgd\", \n",
    "           \"ridge_bootstrap_sgd\", \"ridge_crossvalidation_sgd\"]\"\"\"\n",
    "\n",
    "methods = [\"ols\", \"ols_sgd\"]\n",
    "stats = [\"train MSE\", \"test MSE\", \"test R2\", \"train R2\", \"test bias\", \"test variance\"]\n",
    "\n",
    "widget.interact(plot_stat, ratio=test_ratio_array.tolist(), num=num_points.tolist(), stat=stats, \n",
    "                method=methods, k_fold=k_folds.tolist(), n_boot=n_boots.tolist(),\n",
    "                ridge_lmb=ridge_lambda.tolist(), lasso_lmb=lasso_lambda.tolist(), learn_rate=learn_rates.tolist(),\n",
    "                batch=num_min_batch.tolist(), epoch=epochs.tolist())"
   ]
  },
  {
   "cell_type": "markdown",
   "id": "a8b5a7a2",
   "metadata": {
    "ExecuteTime": {
     "end_time": "2021-11-24T09:59:44.885373Z",
     "start_time": "2021-11-24T09:59:44.885362Z"
    }
   },
   "source": [
    "# Bias Variance Tradeoff"
   ]
  },
  {
   "cell_type": "code",
   "execution_count": 36,
   "id": "7d153594",
   "metadata": {
    "ExecuteTime": {
     "end_time": "2021-11-30T14:30:23.502459Z",
     "start_time": "2021-11-30T14:30:23.486572Z"
    }
   },
   "outputs": [],
   "source": [
    "#loading data\n",
    "method = \"ols\"\n",
    "order=np.load(\"data/order.npy\")\n",
    "num_points=np.load(\"data/num_points.npy\")\n",
    "noise_var=np.load(\"data/noise_var.npy\")\n",
    "test_ratio_array=np.load(\"data/test_ratio.npy\")\n",
    "ridge_lambda=np.load(\"data/ridge_lambda.npy\")\n",
    "k_folds=np.load(\"data/k_folds.npy\")\n",
    "n_boots=np.load(\"data/n_boots.npy\")\n",
    "train_MSE=np.load(\"data/train_MSE\"+method+\".npy\")\n",
    "test_MSE=np.load(\"data/test_MSE\"+method+\".npy\")\n",
    "train_R2=np.load(\"data/train_R2\"+method+\".npy\")\n",
    "test_R2=np.load(\"data/test_R2\"+method+\".npy\")\n",
    "test_bias=np.load(\"data/test_bias\"+method+\".npy\")\n",
    "test_var=np.load(\"data/test_variance\"+method+\".npy\")"
   ]
  },
  {
   "cell_type": "markdown",
   "id": "22ce159b",
   "metadata": {},
   "source": [
    "For Ordinary least squares, we find the bias variance tradeoff as a function of model complexity: order of polynomial. We determine it for fixed test ratio and noise level"
   ]
  },
  {
   "cell_type": "code",
   "execution_count": 37,
   "id": "cffb0ff4",
   "metadata": {
    "ExecuteTime": {
     "end_time": "2021-11-30T14:30:24.969721Z",
     "start_time": "2021-11-30T14:30:24.625082Z"
    }
   },
   "outputs": [
    {
     "data": {
      "image/png": "[encoded data removed]",
      "text/plain": [
       "<Figure size 432x288 with 1 Axes>"
      ]
     },
     "metadata": {
      "needs_background": "light"
     },
     "output_type": "display_data"
    },
    {
     "data": {
      "application/vnd.jupyter.widget-view+json": {
       "model_id": "8f948a747e5840bbb49f8017f55e7076",
       "version_major": 2,
       "version_minor": 0
      },
      "text/plain": [
       "interactive(children=(Dropdown(description='num_point', options=(25, 50, 75, 100), value=25), Dropdown(descrip…"
      ]
     },
     "metadata": {},
     "output_type": "display_data"
    },
    {
     "data": {
      "text/plain": [
       "<function __main__.plotOLSstats(num_point, test_ratio, var)>"
      ]
     },
     "execution_count": 37,
     "metadata": {},
     "output_type": "execute_result"
    }
   ],
   "source": [
    "r_ind = 1 # r=0.1\n",
    "n_ind = 3 # n=100\n",
    "noise_ind = 2 #noise variance = 0.5\n",
    "ols_bias = test_bias[:, n_ind, noise_ind, r_ind, 0, 0, 0]\n",
    "ols_var = test_var[:, n_ind, noise_ind, r_ind, 0, 0, 0]\n",
    "\n",
    "fig, ax = plt.subplots()\n",
    "ax.plot(order, ols_bias, 'k', label = \"bias\")\n",
    "ax.plot(order, ols_var, 'b', label = \"variance\")\n",
    "ax.legend()\n",
    "ax.set_xlabel(\"order of ploynomial\")\n",
    "\n",
    "def plotOLSstats(num_point, test_ratio, var):\n",
    "    n_ind = 0\n",
    "    for i in range(len(num_points)):\n",
    "        if num_point == num_points[i]:\n",
    "            n_ind = i\n",
    "    r_ind = 0\n",
    "    for i in range(len(test_ratio_array)):\n",
    "        if test_ratio == test_ratio_array[i]:\n",
    "            r_ind = i\n",
    "    noise_ind = 0\n",
    "    for i in range(len(noise_var)):\n",
    "        if var == noise_var[i]:\n",
    "            r_ind = i\n",
    "            \n",
    "    ols_bias = test_bias[:, n_ind, noise_ind, r_ind, 0, 0, 0]\n",
    "    ols_var = test_var[:, n_ind, noise_ind, r_ind, 0, 0, 0]\n",
    "\n",
    "    fig, ax = plt.subplots()\n",
    "    ax.plot(order, ols_bias, 'k', label = \"bias\")\n",
    "    ax.plot(order, ols_var, 'b', label = \"variance\")\n",
    "    ax.legend()\n",
    "    ax.set_xlabel(\"order of ploynomial\")\n",
    "    \n",
    "widget.interact(plotOLSstats, num_point=num_points.tolist(), \n",
    "                test_ratio=test_ratio_array.tolist(), var=noise_var.tolist())"
   ]
  },
  {
   "cell_type": "code",
   "execution_count": 26,
   "id": "dc103f1c",
   "metadata": {
    "ExecuteTime": {
     "end_time": "2021-11-30T14:21:22.776097Z",
     "start_time": "2021-11-30T14:21:22.658631Z"
    }
   },
   "outputs": [
    {
     "data": {
      "text/plain": [
       "[<matplotlib.lines.Line2D at 0x7f1e92c7e6d0>]"
      ]
     },
     "execution_count": 26,
     "metadata": {},
     "output_type": "execute_result"
    },
    {
     "data": {
      "image/png": "[encoded data removed]",
      "text/plain": [
       "<Figure size 432x288 with 1 Axes>"
      ]
     },
     "metadata": {
      "needs_background": "light"
     },
     "output_type": "display_data"
    }
   ],
   "source": [
    "r_ind = 0 # r=0.1\n",
    "n_ind = 0 # n=100\n",
    "noise_ind = 4 #noise variance = 0.5\n",
    "ols_testMSE = test_MSE[:, n_ind, noise_ind, r_ind, 0, 0, 0]\n",
    "ols_trainMSE = train_MSE[:, n_ind, noise_ind, r_ind, 0, 0, 0]\n",
    "\n",
    "fig, ax = plt.subplots()\n",
    "ax.plot(order, ols_testMSE, 'k')\n",
    "ax.plot(order, ols_trainMSE, 'b')"
   ]
  },
  {
   "cell_type": "code",
   "execution_count": 27,
   "id": "b5e1b7f8",
   "metadata": {
    "ExecuteTime": {
     "end_time": "2021-11-30T14:21:23.853004Z",
     "start_time": "2021-11-30T14:21:23.734143Z"
    }
   },
   "outputs": [
    {
     "data": {
      "text/plain": [
       "[<matplotlib.lines.Line2D at 0x7f1e92dea730>]"
      ]
     },
     "execution_count": 27,
     "metadata": {},
     "output_type": "execute_result"
    },
    {
     "data": {
      "image/png": "[encoded data removed]",
      "text/plain": [
       "<Figure size 432x288 with 1 Axes>"
      ]
     },
     "metadata": {
      "needs_background": "light"
     },
     "output_type": "display_data"
    }
   ],
   "source": [
    "r_ind = 1 # r=0.1\n",
    "n_ind = 3 # n=100\n",
    "noise_ind = 2 #noise variance = 0.5\n",
    "ols_bias = test_bias[:, n_ind, noise_ind, r_ind, 0, 0, 0]\n",
    "ols_var = test_var[:, n_ind, noise_ind, r_ind, 0, 0, 0]\n",
    "\n",
    "fig, ax = plt.subplots()\n",
    "ax.plot(order, ols_bias, 'k')\n",
    "ax.plot(order, ols_var, 'b')"
   ]
  },
  {
   "cell_type": "code",
   "execution_count": 32,
   "id": "5a7d30ca",
   "metadata": {
    "ExecuteTime": {
     "end_time": "2021-11-29T16:23:59.115233Z",
     "start_time": "2021-11-29T16:23:58.979026Z"
    }
   },
   "outputs": [
    {
     "data": {
      "text/plain": [
       "<matplotlib.legend.Legend at 0x7f58c83ee610>"
      ]
     },
     "execution_count": 32,
     "metadata": {},
     "output_type": "execute_result"
    },
    {
     "data": {
      "image/png": "[encoded data removed]",
      "text/plain": [
       "<Figure size 432x288 with 1 Axes>"
      ]
     },
     "metadata": {
      "needs_background": "light"
     },
     "output_type": "display_data"
    }
   ],
   "source": [
    "r_ind = 1 # r=0.1\n",
    "n_ind = 3 # n=100\n",
    "noise_ind = 2 #noise variance = 0.5\n",
    "ols_testMSE = test_MSE[:, n_ind, noise_ind, r_ind, 0, 0, 0]\n",
    "ols_trainMSE = train_MSE[:, n_ind, noise_ind, r_ind, 0, 0, 0]\n",
    "\n",
    "fig, ax = plt.subplots()\n",
    "ax.plot(order, ols_testMSE, 'k', label=\"testMSE\")\n",
    "ax.plot(order, ols_trainMSE, 'b', label=\"trainMSE\")\n",
    "ax.legend()"
   ]
  },
  {
   "cell_type": "markdown",
   "id": "c9d7aaff",
   "metadata": {},
   "source": [
    "## Functions of model complexity for OLS"
   ]
  },
  {
   "cell_type": "code",
   "execution_count": 6,
   "id": "78424b91",
   "metadata": {
    "ExecuteTime": {
     "end_time": "2021-11-30T15:38:08.351019Z",
     "start_time": "2021-11-30T15:38:06.721288Z"
    }
   },
   "outputs": [
    {
     "data": {
      "application/vnd.jupyter.widget-view+json": {
       "model_id": "04838da5d8c4440087abb0abd8b3f2a9",
       "version_major": 2,
       "version_minor": 0
      },
      "text/plain": [
       "interactive(children=(IntSlider(value=100, description='n', max=200, min=10, step=10), FloatSlider(value=0.0, …"
      ]
     },
     "metadata": {},
     "output_type": "display_data"
    },
    {
     "data": {
      "text/plain": [
       "<function __main__.OLS_study(n, var, r)>"
      ]
     },
     "execution_count": 6,
     "metadata": {},
     "output_type": "execute_result"
    }
   ],
   "source": [
    "def OLS_study(n, var, r):\n",
    "    n=np.array([n])\n",
    "    var=np.array([var])\n",
    "    r=np.array([r])\n",
    "    order = np.arange(1,21)\n",
    "    method=\"ols\"\n",
    "    train_MSE, test_MSE, train_R2, test_R2, test_bias, test_var = apply_regression(order, n, var, r)\n",
    "    print(order.shape)\n",
    "    fig, ax = plt.subplots(3,1, figsize=(8,8))\n",
    "    ax[0].plot(order, train_MSE[:,0,0,0,0,0,0,0], 'k', label=\"train MSE\")\n",
    "    ax[0].plot(order, test_MSE[:,0,0,0,0,0,0,0], 'b', label=\"test MSE\")\n",
    "    ax[1].plot(order, test_bias[:,0,0,0,0,0,0,0], 'k', label=\"bias\")\n",
    "    ax[1].plot(order, test_var[:,0,0,0,0,0,0,0], 'b', label=\"variance\")\n",
    "    ax[2].plot(order, train_R2[:,0,0,0,0,0,0,0], 'k', label=\"train R2\")\n",
    "    ax[2].plot(order, test_R2[:,0,0,0,0,0,0,0], 'b', label=\"test R2\")\n",
    "    ax[0].legend()\n",
    "    ax[1].legend()\n",
    "    ax[2].legend()\n",
    "widget.interact(OLS_study, n=(10,200,10), var=(0,1,0.25), r=(0.1,0.5,0.1))"
   ]
  },
  {
   "cell_type": "code",
   "execution_count": 19,
   "id": "c9dc0f57",
   "metadata": {},
   "outputs": [
    {
     "data": {
      "application/vnd.jupyter.widget-view+json": {
       "model_id": "d7ab464ed11b4b87870df3903e9c9292",
       "version_major": 2,
       "version_minor": 0
      },
      "text/plain": [
       "interactive(children=(IntSlider(value=30, description='n', max=50, min=10, step=10), FloatSlider(value=0.0, de…"
      ]
     },
     "metadata": {},
     "output_type": "display_data"
    },
    {
     "data": {
      "text/plain": [
       "<function __main__.lasso_study(n, var, r, lam)>"
      ]
     },
     "execution_count": 19,
     "metadata": {},
     "output_type": "execute_result"
    }
   ],
   "source": [
    "def lasso_study(n, var, r, lam):\n",
    "    n = np.array([n])\n",
    "    var = np.array([var])\n",
    "    r = np.array([r])\n",
    "    lam = np.array([lam])\n",
    "    order = np.arange(1,11)\n",
    "    method = \"lasso\"\n",
    "    train_MSE, test_MSE, train_R2, test_R2, test_bias, test_var = apply_regression(order, n, var,\n",
    "                                                                                   r, lasso_lambda=lam, reg_type=\"lasso\")\n",
    "    print(order.shape)\n",
    "    fig, ax = plt.subplots(3,1, figsize=(8,8))\n",
    "    ax[0].plot(order, train_MSE[:,0,0,0,0,0,0,0], 'k', label=\"train MSE\")\n",
    "    ax[0].plot(order, test_MSE[:,0,0,0,0,0,0,0], 'b', label=\"test MSE\")\n",
    "    ax[1].plot(order, test_bias[:,0,0,0,0,0,0,0], 'k', label=\"bias\")\n",
    "    ax[1].plot(order, test_var[:,0,0,0,0,0,0,0], 'b', label=\"variance\")\n",
    "    ax[2].plot(order, train_R2[:,0,0,0,0,0,0,0], 'k', label=\"train R2\")\n",
    "    ax[2].plot(order, test_R2[:,0,0,0,0,0,0,0], 'b', label=\"test R2\")\n",
    "    ax[0].legend()\n",
    "    ax[1].legend()\n",
    "    ax[2].legend()\n",
    "import warnings\n",
    "warnings.filterwarnings(\"ignore\")\n",
    "widget.interact(lasso_study, n=(10,50,10), var=(0,1,0.25), r=(0.1,0.5,0.1), lam=np.logspace(-5,0,11).tolist())"
   ]
  },
  {
   "cell_type": "code",
   "execution_count": null,
   "id": "c67169f5",
   "metadata": {},
   "outputs": [],
   "source": []
  }
 ],
 "metadata": {
  "kernelspec": {
   "display_name": "Python 3",
   "language": "python",
   "name": "python3"
  },
  "language_info": {
   "codemirror_mode": {
    "name": "ipython",
    "version": 3
   },
   "file_extension": ".py",
   "mimetype": "text/x-python",
   "name": "python",
   "nbconvert_exporter": "python",
   "pygments_lexer": "ipython3",
   "version": "3.8.8"
  },
  "toc": {
   "base_numbering": 1,
   "nav_menu": {},
   "number_sections": true,
   "sideBar": true,
   "skip_h1_title": false,
   "title_cell": "Table of Contents",
   "title_sidebar": "Contents",
   "toc_cell": false,
   "toc_position": {
    "height": "calc(100% - 180px)",
    "left": "10px",
    "top": "150px",
    "width": "384px"
   },
   "toc_section_display": true,
   "toc_window_display": true
  },
  "varInspector": {
   "cols": {
    "lenName": 16,
    "lenType": 16,
    "lenVar": 40
   },
   "kernels_config": {
    "python": {
     "delete_cmd_postfix": "",
     "delete_cmd_prefix": "del ",
     "library": "var_list.py",
     "varRefreshCmd": "print(var_dic_list())"
    },
    "r": {
     "delete_cmd_postfix": ") ",
     "delete_cmd_prefix": "rm(",
     "library": "var_list.r",
     "varRefreshCmd": "cat(var_dic_list()) "
    }
   },
   "types_to_exclude": [
    "module",
    "function",
    "builtin_function_or_method",
    "instance",
    "_Feature"
   ],
   "window_display": false
  }
 },
 "nbformat": 4,
 "nbformat_minor": 5
}
