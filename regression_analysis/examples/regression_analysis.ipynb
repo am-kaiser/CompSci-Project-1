{
 "cells": [
  {
   "cell_type": "markdown",
   "id": "2c1ea9a1",
   "metadata": {
    "ExecuteTime": {
     "end_time": "2021-11-17T20:26:49.729908Z",
     "start_time": "2021-11-17T20:26:49.723956Z"
    }
   },
   "source": [
    "# Importing Libraries"
   ]
  },
  {
   "cell_type": "code",
   "execution_count": 1,
   "id": "6c2fdd27",
   "metadata": {
    "ExecuteTime": {
     "end_time": "2021-11-30T15:34:10.005709Z",
     "start_time": "2021-11-30T15:34:09.985443Z"
    }
   },
   "outputs": [],
   "source": [
    "%load_ext autoreload\n",
    "%autoreload 2"
   ]
  },
  {
   "cell_type": "code",
   "execution_count": 2,
   "id": "6cedf291",
   "metadata": {
    "ExecuteTime": {
     "end_time": "2021-11-30T15:34:11.624291Z",
     "start_time": "2021-11-30T15:34:10.655366Z"
    }
   },
   "outputs": [
    {
     "name": "stdout",
     "output_type": "stream",
     "text": [
      "Number of processors:  8\n"
     ]
    }
   ],
   "source": [
    "%matplotlib inline\n",
    "\n",
    "from regression_analysis.fit_model import linear_regression\n",
    "from regression_analysis.utils import franke\n",
    "from regression_analysis.utils.plots import triangulation_for_triheatmap as triheatmap\n",
    "from regression_analysis.fit_model.apply_linear_regression import plot_stat, apply_regression\n",
    "import numpy as np\n",
    "import matplotlib.pyplot as plt\n",
    "\n",
    "from matplotlib.tri import Triangulation\n",
    "from matplotlib.ticker import AutoMinorLocator, MultipleLocator\n",
    "import seaborn as sns\n",
    "\n",
    "from sklearn.model_selection import train_test_split\n",
    "from sklearn import linear_model\n",
    "\n",
    "import ipywidgets as widget\n",
    "from ipywidgets import interact, interactive, fixed, interact_manual\n",
    "\n",
    "import glob as glob\n",
    "from IPython.display import Image, display, HTML, Video\n",
    "\n",
    "import multiprocessing as mp\n",
    "\n",
    "import os\n",
    "if not os.path.exists('data'):\n",
    "    os.makedirs('data')\n",
    "#note my bootstrap can be wrong. \n",
    "\n",
    "print(\"Number of processors: \", mp.cpu_count())"
   ]
  },
  {
   "cell_type": "markdown",
   "id": "a609d53b",
   "metadata": {
    "ExecuteTime": {
     "end_time": "2021-11-17T20:24:29.410589Z",
     "start_time": "2021-11-17T20:24:29.408506Z"
    }
   },
   "source": [
    "# Demo for applying regression to Franke data "
   ]
  },
  {
   "cell_type": "code",
   "execution_count": 4,
   "id": "9b584e68",
   "metadata": {
    "ExecuteTime": {
     "end_time": "2021-11-30T14:15:00.857613Z",
     "start_time": "2021-11-30T14:15:00.844063Z"
    }
   },
   "outputs": [
    {
     "name": "stdout",
     "output_type": "stream",
     "text": [
      "1.2195347797082343\n"
     ]
    }
   ],
   "source": [
    "n = 100 #number of data points along each axis. Total data points = n*n\n",
    "x1 = np.linspace(0,1,n)\n",
    "x2 = np.linspace(0,1,n)\n",
    "xx1, xx2 = np.meshgrid(x1, x2)\n",
    "xx1 = xx1.reshape((n*n),1)\n",
    "xx2 = xx2.reshape((n*n),1)\n",
    "\n",
    "y = franke.Franke(xx1, xx2, noise_var=0.0) #zero mean gaussian noise has variance = var\n",
    "print(np.max(y))"
   ]
  },
  {
   "cell_type": "code",
   "execution_count": 5,
   "id": "c238ad66",
   "metadata": {
    "ExecuteTime": {
     "end_time": "2021-11-30T14:15:00.956879Z",
     "start_time": "2021-11-30T14:15:00.945749Z"
    }
   },
   "outputs": [],
   "source": [
    "#create linear regression object by passing input and output data\n",
    "linear_reg = linear_regression.linear_regression2D(xx1, xx2, y) "
   ]
  },
  {
   "cell_type": "markdown",
   "id": "b3ed0579",
   "metadata": {},
   "source": [
    "## Apply OLS "
   ]
  },
  {
   "cell_type": "code",
   "execution_count": 13,
   "id": "9e297d82",
   "metadata": {
    "ExecuteTime": {
     "end_time": "2021-11-30T14:19:11.593200Z",
     "start_time": "2021-11-30T14:19:11.526735Z"
    }
   },
   "outputs": [
    {
     "name": "stdout",
     "output_type": "stream",
     "text": [
      "own OLS\n",
      "Train MSE 0.055824506169660844\n",
      "Test MSE 0.0525832202720848\n",
      "Train R2 0.0\n",
      "Test R2 -0.006401323575053297\n",
      "Train bias 0.055824506169660844\n",
      "Test bias -0.01828828075931056\n",
      "Train model variance 3.0814879110195774e-33\n",
      "Test model variance 0.0\n",
      "\n",
      "Scikit OLS\n",
      "Train MSE 0.055089407339345295\n",
      "Test MSE 0.05916701395001206\n",
      "Train R2 0.0\n",
      "Test R2 -0.0002282749383435423\n",
      "Train bias 0.055089407339345295\n",
      "Test bias 0.0036746787621029075\n",
      "Train model variance 0.0\n",
      "Test model variance 0.0\n"
     ]
    }
   ],
   "source": [
    "print(\"own OLS\")\n",
    "linear_reg.apply_leastsquares(order=0, test_ratio=0.1, reg_method=\"ols\")\n",
    "print(\"Train MSE\", linear_reg.trainMSE)\n",
    "print(\"Test MSE\", linear_reg.testMSE)\n",
    "print(\"Train R2\", linear_reg.trainR2)\n",
    "print(\"Test R2\", linear_reg.testR2)\n",
    "print(\"Train bias\", linear_reg.trainbias)\n",
    "print(\"Test bias\", linear_reg.testbias)\n",
    "print(\"Train model variance\", linear_reg.trainvar)\n",
    "print(\"Test model variance\", linear_reg.testvar)\n",
    "\n",
    "print('\\n'+ \"Scikit OLS\")\n",
    "linear_reg.apply_leastsquares(order=0, test_ratio=0.1, reg_method=\"scikit_ols\")\n",
    "print(\"Train MSE\", linear_reg.trainMSE)\n",
    "print(\"Test MSE\", linear_reg.testMSE)\n",
    "print(\"Train R2\", linear_reg.trainR2)\n",
    "print(\"Test R2\", linear_reg.testR2)\n",
    "print(\"Train bias\", linear_reg.trainbias)\n",
    "print(\"Test bias\", linear_reg.testbias)\n",
    "print(\"Train model variance\", linear_reg.trainvar)\n",
    "print(\"Test model variance\", linear_reg.testvar)"
   ]
  },
  {
   "cell_type": "code",
   "execution_count": 14,
   "id": "27eaee7a",
   "metadata": {
    "ExecuteTime": {
     "end_time": "2021-11-30T14:19:13.403952Z",
     "start_time": "2021-11-30T14:19:12.916809Z"
    }
   },
   "outputs": [
    {
     "name": "stdout",
     "output_type": "stream",
     "text": [
      "Train MSE 0.0014047160476399656\n",
      "Test MSE 0.0014080346013896452\n",
      "Train R2 0.9746929484194756\n",
      "Test R2 0.9745701028703728\n",
      "Train bias 0.0018363135784746863\n",
      "Test bias -5.950963216350075e-05\n",
      "Train model variance 0.0541069172242488\n",
      "Test model variance 0.05400293016769054\n"
     ]
    }
   ],
   "source": [
    "linear_reg.apply_leastsquares_bootstrap(order=5, test_ratio=0.1, n_boots=30, reg_method=\"ols\")\n",
    "print(\"Train MSE\", linear_reg.trainMSE)\n",
    "print(\"Test MSE\", linear_reg.testMSE)\n",
    "print(\"Train R2\", linear_reg.trainR2)\n",
    "print(\"Test R2\", linear_reg.testR2)\n",
    "print(\"Train bias\", linear_reg.trainbias)\n",
    "print(\"Test bias\", linear_reg.testbias)\n",
    "print(\"Train model variance\", linear_reg.trainvar)\n",
    "print(\"Test model variance\", linear_reg.testvar)"
   ]
  },
  {
   "cell_type": "markdown",
   "id": "30bfa940",
   "metadata": {
    "ExecuteTime": {
     "end_time": "2021-11-17T20:27:44.344810Z",
     "start_time": "2021-11-17T20:27:44.341402Z"
    }
   },
   "source": [
    "## Apply OLS with cross validation sampling"
   ]
  },
  {
   "cell_type": "code",
   "execution_count": 15,
   "id": "2daa8a14",
   "metadata": {
    "ExecuteTime": {
     "end_time": "2021-11-30T14:19:15.150408Z",
     "start_time": "2021-11-30T14:19:14.985706Z"
    }
   },
   "outputs": [
    {
     "name": "stdout",
     "output_type": "stream",
     "text": [
      "Train MSE 0.0014020447123953808\n",
      "Test MSE 0.0014117874438943597\n",
      "Train R2 0.9747361151331593\n",
      "Test R2 0.9745234743148352\n",
      "Train bias 3.449832469076202e-13\n",
      "Test bias 0.00010229839100387719\n",
      "Train model variance 0.005390449350672111\n",
      "Test model variance 0.005493972544845458\n"
     ]
    }
   ],
   "source": [
    "linear_reg.apply_leastsquares_crossvalidation(order=5, kfolds=10, reg_method=\"ols\")\n",
    "print(\"Train MSE\", linear_reg.trainMSE)\n",
    "print(\"Test MSE\", linear_reg.testMSE)\n",
    "print(\"Train R2\", linear_reg.trainR2)\n",
    "print(\"Test R2\", linear_reg.testR2)\n",
    "print(\"Train bias\", linear_reg.trainbias)\n",
    "print(\"Test bias\", linear_reg.testbias)\n",
    "print(\"Train model variance\", linear_reg.trainvar)\n",
    "print(\"Test model variance\", linear_reg.testvar)"
   ]
  },
  {
   "cell_type": "markdown",
   "id": "7855d868",
   "metadata": {
    "ExecuteTime": {
     "end_time": "2021-11-17T20:28:20.371789Z",
     "start_time": "2021-11-17T20:28:20.365778Z"
    }
   },
   "source": [
    "## Apply Ridge regression "
   ]
  },
  {
   "cell_type": "code",
   "execution_count": 16,
   "id": "44f21a63",
   "metadata": {
    "ExecuteTime": {
     "end_time": "2021-11-30T14:19:18.709664Z",
     "start_time": "2021-11-30T14:19:18.648595Z"
    }
   },
   "outputs": [
    {
     "name": "stdout",
     "output_type": "stream",
     "text": [
      "own ridge\n",
      "Train MSE 0.00574201760471573\n",
      "Test MSE 0.004956039883557833\n",
      "Train R2 0.8975406724096834\n",
      "Test R2 0.9017574859890609\n",
      "Train bias 0.0560419288953742\n",
      "Test bias -0.004669345757943276\n",
      "Train model variance 0.04833068862970228\n",
      "Test model variance 0.046097043699185845\n",
      "\n",
      "scikit ridge\n",
      "Train MSE 0.005668099406993209\n",
      "Test MSE 0.0056668294070116604\n",
      "Train R2 0.8977797169993829\n",
      "Test R2 0.8986624537665967\n",
      "Train bias 0.05544985778624488\n",
      "Test bias 0.002872326523405266\n",
      "Train model variance 0.04782239360527159\n",
      "Test model variance 0.049146172186699796\n"
     ]
    }
   ],
   "source": [
    "print(\"own ridge\")\n",
    "linear_reg.apply_leastsquares(order=5, test_ratio=0.1, reg_method=\"ridge\", lmbda=0.9)\n",
    "print(\"Train MSE\", linear_reg.trainMSE)\n",
    "print(\"Test MSE\", linear_reg.testMSE)\n",
    "print(\"Train R2\", linear_reg.trainR2)\n",
    "print(\"Test R2\", linear_reg.testR2)\n",
    "print(\"Train bias\", linear_reg.trainbias)\n",
    "print(\"Test bias\", linear_reg.testbias)\n",
    "print(\"Train model variance\", linear_reg.trainvar)\n",
    "print(\"Test model variance\", linear_reg.testvar)\n",
    "\n",
    "print('\\n'+\"scikit ridge\")\n",
    "linear_reg.apply_leastsquares(order=5, test_ratio=0.1, reg_method=\"scikit_ridge\", lmbda=0.9)\n",
    "print(\"Train MSE\", linear_reg.trainMSE)\n",
    "print(\"Test MSE\", linear_reg.testMSE)\n",
    "print(\"Train R2\", linear_reg.trainR2)\n",
    "print(\"Test R2\", linear_reg.testR2)\n",
    "print(\"Train bias\", linear_reg.trainbias)\n",
    "print(\"Test bias\", linear_reg.testbias)\n",
    "print(\"Train model variance\", linear_reg.trainvar)\n",
    "print(\"Test model variance\", linear_reg.testvar)"
   ]
  },
  {
   "cell_type": "markdown",
   "id": "06fb6486",
   "metadata": {
    "ExecuteTime": {
     "end_time": "2021-11-17T20:28:59.997409Z",
     "start_time": "2021-11-17T20:28:59.992330Z"
    }
   },
   "source": [
    "## Apply Ridge regression with bootstrap"
   ]
  },
  {
   "cell_type": "code",
   "execution_count": 17,
   "id": "159e173d",
   "metadata": {
    "ExecuteTime": {
     "end_time": "2021-11-30T14:19:22.832986Z",
     "start_time": "2021-11-30T14:19:22.198325Z"
    }
   },
   "outputs": [
    {
     "name": "stdout",
     "output_type": "stream",
     "text": [
      "Train MSE 0.005700443505722647\n",
      "Test MSE 0.005627062213344369\n",
      "Train R2 0.8974620948775891\n",
      "Test R2 0.8981810340340886\n",
      "Train bias 0.001933860714668054\n",
      "Test bias -0.00017468151507571262\n",
      "Train model variance 0.04952297955758024\n",
      "Test model variance 0.04964544989197287\n"
     ]
    }
   ],
   "source": [
    "linear_reg.apply_leastsquares_bootstrap(order=5, test_ratio=0.1, n_boots=30, reg_method=\"ridge\", lmbda=0.9)\n",
    "print(\"Train MSE\", linear_reg.trainMSE)\n",
    "print(\"Test MSE\", linear_reg.testMSE)\n",
    "print(\"Train R2\", linear_reg.trainR2)\n",
    "print(\"Test R2\", linear_reg.testR2)\n",
    "print(\"Train bias\", linear_reg.trainbias)\n",
    "print(\"Test bias\", linear_reg.testbias)\n",
    "print(\"Train model variance\", linear_reg.trainvar)\n",
    "print(\"Test model variance\", linear_reg.testvar)"
   ]
  },
  {
   "cell_type": "markdown",
   "id": "c2375111",
   "metadata": {},
   "source": [
    "## Apply Ridge regression with cross validation"
   ]
  },
  {
   "cell_type": "code",
   "execution_count": 18,
   "id": "1c3c4006",
   "metadata": {
    "ExecuteTime": {
     "end_time": "2021-11-30T14:19:26.407897Z",
     "start_time": "2021-11-30T14:19:26.249757Z"
    },
    "scrolled": true
   },
   "outputs": [
    {
     "name": "stdout",
     "output_type": "stream",
     "text": [
      "Train MSE 0.0035874300244579994\n",
      "Test MSE 0.003597091644923817\n",
      "Train R2 0.9353573436314546\n",
      "Test R2 0.9351428617197428\n",
      "Train bias 8.252913611545972e-07\n",
      "Test bias 0.0002394003045456784\n",
      "Train model variance 0.004994130078202258\n",
      "Test model variance 0.004902362216045881\n"
     ]
    }
   ],
   "source": [
    "linear_reg.apply_leastsquares_crossvalidation(order=5, kfolds=10, reg_method=\"ridge\", lmbda=0.1)\n",
    "print(\"Train MSE\", linear_reg.trainMSE)\n",
    "print(\"Test MSE\", linear_reg.testMSE)\n",
    "print(\"Train R2\", linear_reg.trainR2)\n",
    "print(\"Test R2\", linear_reg.testR2)\n",
    "print(\"Train bias\", linear_reg.trainbias)\n",
    "print(\"Test bias\", linear_reg.testbias)\n",
    "print(\"Train model variance\", linear_reg.trainvar)\n",
    "print(\"Test model variance\", linear_reg.testvar)"
   ]
  },
  {
   "cell_type": "markdown",
   "id": "69e1362a",
   "metadata": {},
   "source": [
    "## Apply Lasso regression: Not working properly. High R2 value"
   ]
  },
  {
   "cell_type": "code",
   "execution_count": 19,
   "id": "23a96853",
   "metadata": {
    "ExecuteTime": {
     "end_time": "2021-11-30T14:19:29.206810Z",
     "start_time": "2021-11-30T14:19:29.127692Z"
    }
   },
   "outputs": [
    {
     "name": "stdout",
     "output_type": "stream",
     "text": [
      "[1.00000000e-04 1.77827941e-04 3.16227766e-04 5.62341325e-04\n",
      " 1.00000000e-03 1.77827941e-03 3.16227766e-03 5.62341325e-03\n",
      " 1.00000000e-02 1.77827941e-02 3.16227766e-02 5.62341325e-02\n",
      " 1.00000000e-01 1.77827941e-01 3.16227766e-01 5.62341325e-01\n",
      " 1.00000000e+00]\n",
      "Train MSE 0.0061044986635045454\n",
      "Test MSE 0.006678707471408096\n",
      "Train R2 0.8889802391229238\n",
      "Test R2 0.8886438634045317\n",
      "Train bias 0.05498570384125667\n",
      "Test bias 0.0036444429159729406\n",
      "Train model variance 0.04727035543015589\n",
      "Test model variance 0.04749989782791526\n",
      "---\n",
      "Train MSE 0.006502643238215241\n",
      "Test MSE 0.00611213604764747\n",
      "Train R2 0.8834821414546755\n",
      "Test R2 0.8840036373505913\n",
      "Train bias 0.05580815594911307\n",
      "Test bias 0.0009134055343404017\n",
      "Train model variance 0.04701104535518563\n",
      "Test model variance 0.04393555685194594\n",
      "---\n"
     ]
    },
    {
     "name": "stderr",
     "output_type": "stream",
     "text": [
      "/home/amandink/anaconda3/envs/CompSci-Project-1/lib/python3.9/site-packages/sklearn/linear_model/_coordinate_descent.py:647: ConvergenceWarning: Objective did not converge. You might want to increase the number of iterations, check the scale of the features or consider increasing regularisation. Duality gap: 4.133e+00, tolerance: 1.478e-01\n",
      "  model = cd_fast.enet_coordinate_descent(\n",
      "/home/amandink/anaconda3/envs/CompSci-Project-1/lib/python3.9/site-packages/sklearn/linear_model/_coordinate_descent.py:647: ConvergenceWarning: Objective did not converge. You might want to increase the number of iterations, check the scale of the features or consider increasing regularisation. Duality gap: 2.260e+00, tolerance: 1.494e-01\n",
      "  model = cd_fast.enet_coordinate_descent(\n",
      "/home/amandink/anaconda3/envs/CompSci-Project-1/lib/python3.9/site-packages/sklearn/linear_model/_coordinate_descent.py:647: ConvergenceWarning: Objective did not converge. You might want to increase the number of iterations, check the scale of the features or consider increasing regularisation. Duality gap: 1.907e+00, tolerance: 1.498e-01\n",
      "  model = cd_fast.enet_coordinate_descent(\n"
     ]
    },
    {
     "name": "stdout",
     "output_type": "stream",
     "text": [
      "Train MSE 0.007030348855715553\n",
      "Test MSE 0.0065300062417893755\n",
      "Train R2 0.8737752083365624\n",
      "Test R2 0.8781416009231428\n",
      "Train bias 0.05569713823849941\n",
      "Test bias -0.0025048463075195925\n",
      "Train model variance 0.045509908765689146\n",
      "Test model variance 0.044521698407038346\n",
      "---\n",
      "Train MSE 0.008321946446197687\n",
      "Test MSE 0.007484693455555418\n",
      "Train R2 0.8516068250832449\n",
      "Test R2 0.8504209073341245\n",
      "Train bias 0.05608068702040076\n",
      "Test bias -0.005593405729796388\n",
      "Train model variance 0.04369160387666252\n",
      "Test model variance 0.04208581437739932\n",
      "---\n",
      "Train MSE 0.009281352251163812\n",
      "Test MSE 0.009136389001178436\n",
      "Train R2 0.8329279597666076\n",
      "Test R2 0.8333868420516994\n",
      "Train bias 0.05555397784380062\n",
      "Test bias -0.00027723606812528524\n",
      "Train model variance 0.04028303495568484\n",
      "Test model variance 0.03916598416245447\n",
      "---\n",
      "Train MSE 0.011662336667754602\n",
      "Test MSE 0.011474288859107255\n",
      "Train R2 0.7901755965131876\n",
      "Test R2 0.7903496963682328\n",
      "Train bias 0.05558455081120835\n",
      "Test bias 0.001505642241110746\n",
      "Train model variance 0.036292966545381826\n",
      "Test model variance 0.03475802813780977\n",
      "---\n"
     ]
    },
    {
     "name": "stderr",
     "output_type": "stream",
     "text": [
      "/home/amandink/anaconda3/envs/CompSci-Project-1/lib/python3.9/site-packages/sklearn/linear_model/_coordinate_descent.py:647: ConvergenceWarning: Objective did not converge. You might want to increase the number of iterations, check the scale of the features or consider increasing regularisation. Duality gap: 8.124e-01, tolerance: 1.504e-01\n",
      "  model = cd_fast.enet_coordinate_descent(\n"
     ]
    },
    {
     "name": "stdout",
     "output_type": "stream",
     "text": [
      "Train MSE 0.015801437679908666\n",
      "Test MSE 0.0153171686913794\n",
      "Train R2 0.7177261531727328\n",
      "Test R2 0.6994953499790613\n",
      "Train bias 0.05598905887281502\n",
      "Test bias -0.0017520541548388469\n",
      "Train model variance 0.03256205186660252\n",
      "Test model variance 0.031243670296251302\n",
      "---\n",
      "Train MSE 0.01717383647894399\n",
      "Test MSE 0.01614641745555265\n",
      "Train R2 0.6926746948369265\n",
      "Test R2 0.6896325935692925\n",
      "Train bias 0.05591310345877793\n",
      "Test bias 0.003398976310739769\n",
      "Train model variance 0.026880794800413714\n",
      "Test model variance 0.02588536131022545\n",
      "---\n",
      "Train MSE 0.020503951051227244\n",
      "Test MSE 0.02176180072219846\n",
      "Train R2 0.6300908959791325\n",
      "Test R2 0.6119420221919558\n",
      "Train bias 0.05552948474266084\n",
      "Test bias 0.009164259051522097\n",
      "Train model variance 0.01840620908723991\n",
      "Test model variance 0.017137272188567167\n",
      "---\n",
      "Train MSE 0.029408081438777944\n",
      "Test MSE 0.03008078598829563\n",
      "Train R2 0.47015911294133983\n",
      "Test R2 0.4560284333731265\n",
      "Train bias 0.05581932722102495\n",
      "Test bias 0.024150062059183568\n",
      "Train model variance 0.007922776849741887\n",
      "Test model variance 0.007226990262800676\n",
      "---\n",
      "Train MSE 0.05055441217496459\n",
      "Test MSE 0.05098988819564154\n",
      "Train R2 0.08733955555672657\n",
      "Test R2 0.0959020876164659\n",
      "Train bias 0.05639284851988508\n",
      "Test bias 0.02541961334810969\n",
      "Train model variance 0.00037914158901423603\n",
      "Test model variance 0.0003872878819076504\n",
      "---\n",
      "Train MSE 0.058880897858890016\n",
      "Test MSE 0.05597330342713934\n",
      "Train R2 -0.05675441439307072\n",
      "Test R2 -0.04684974556885724\n",
      "Train bias 0.058880897858890016\n",
      "Test bias 0.05004974992160457\n",
      "Train model variance 3.0814879110195774e-33\n",
      "Test model variance 3.0814879110195774e-33\n",
      "---\n",
      "Train MSE 0.0653895204740575\n",
      "Test MSE 0.06700656783214885\n",
      "Train R2 -0.1805395662286633\n",
      "Test R2 -0.1868380391304465\n",
      "Train bias 0.0653895204740575\n",
      "Test bias 0.10270595101927611\n",
      "Train model variance 3.0814879110195774e-33\n",
      "Test model variance 3.0814879110195774e-33\n",
      "---\n",
      "Train MSE 0.08787244585193364\n",
      "Test MSE 0.07623890583977166\n",
      "Train R2 -0.5621860007922337\n",
      "Test R2 -0.5686211971958055\n",
      "Train bias 0.08787244585193364\n",
      "Test bias 0.16624202115916512\n",
      "Train model variance 0.0\n",
      "Test model variance 7.703719777548943e-34\n",
      "---\n",
      "Train MSE 0.15558956995552325\n",
      "Test MSE 0.15280493568068773\n",
      "Train R2 -1.7988986077785651\n",
      "Test R2 -1.7957365292793144\n",
      "Train bias 0.15558956995552325\n",
      "Test bias 0.31328664316555477\n",
      "Train model variance 0.0\n",
      "Test model variance 0.0\n",
      "---\n",
      "Train MSE 0.1659164930935359\n",
      "Test MSE 0.161642847132116\n",
      "Train R2 -1.976176987315819\n",
      "Test R2 -2.036673583531117\n",
      "Train bias 0.1659164930935359\n",
      "Test bias 0.32926070608649527\n",
      "Train model variance 0.0\n",
      "Test model variance 0.0\n",
      "---\n",
      "Train MSE 0.16421142469923938\n",
      "Test MSE 0.1769884626807843\n",
      "Train R2 -1.9749221323418609\n",
      "Test R2 -2.052249412652546\n",
      "Train bias 0.16421142469923938\n",
      "Test bias 0.34496698985548835\n",
      "Train model variance 0.0\n",
      "Test model variance 0.0\n",
      "---\n"
     ]
    }
   ],
   "source": [
    "lam = np.logspace(-4,0,17)\n",
    "print(lam)\n",
    "for lmbda in lam:\n",
    "    linear_reg.apply_leastsquares(order=5, test_ratio=0.1, reg_method=\"scikit_lasso\", lmbda=lmbda)\n",
    "    print(\"Train MSE\", linear_reg.trainMSE)\n",
    "    print(\"Test MSE\", linear_reg.testMSE)\n",
    "    print(\"Train R2\", linear_reg.trainR2)\n",
    "    print(\"Test R2\", linear_reg.testR2)\n",
    "    print(\"Train bias\", linear_reg.trainbias)\n",
    "    print(\"Test bias\", linear_reg.testbias)\n",
    "    print(\"Train model variance\", linear_reg.trainvar)\n",
    "    print(\"Test model variance\", linear_reg.testvar)\n",
    "    print(\"---\")\n"
   ]
  },
  {
   "cell_type": "markdown",
   "id": "a1cc1b6e",
   "metadata": {
    "ExecuteTime": {
     "end_time": "2021-11-19T14:49:53.922397Z",
     "start_time": "2021-11-19T14:49:53.915295Z"
    }
   },
   "source": [
    "# Regression Comparisons"
   ]
  },
  {
   "cell_type": "code",
   "execution_count": 4,
   "id": "daf14922",
   "metadata": {
    "ExecuteTime": {
     "end_time": "2021-11-30T14:19:34.185079Z",
     "start_time": "2021-11-30T14:19:34.170912Z"
    }
   },
   "outputs": [],
   "source": [
    "# For all methods we apply the following parameters\n",
    "order = np.arange(1,13)\n",
    "num_points = np.array([25, 50, 75, 100])\n",
    "noise_var = np.array([0.0, 0.25, 0.5, 0.75, 1.0])\n",
    "test_ratio = np.round(np.arange(1,5)*0.1, 2)\n",
    "\n",
    "n_boots = np.array([5, 10], dtype=int)\n",
    "k_folds = np.array([5, 10], dtype=int)\n",
    "\n",
    "ridge_lambda = np.array([0.001, 0.01, 0.1, 1.0])\n",
    "lasso_lambda = np.array([0.00001, 0.0001, 0.001, 0.01])\n",
    "\n",
    "# Parameters for stochastic gradient descent\n",
    "learn_rate = np.array([0.001, 0.01, 0.1, 1.0])\n",
    "num_min_batch = np.array([2, 5, 10, 50])\n",
    "epochs = np.array([10, 50, 100])"
   ]
  },
  {
   "cell_type": "code",
   "execution_count": 24,
   "id": "a8b203ce",
   "metadata": {
    "ExecuteTime": {
     "end_time": "2021-11-30T14:19:35.584824Z",
     "start_time": "2021-11-30T14:19:35.553033Z"
    }
   },
   "outputs": [],
   "source": [
    "# Save values in numpy file format\n",
    "np.save(\"data_linear_regression/order.npy\", order)\n",
    "np.save(\"data_linear_regression/num_points.npy\", num_points)\n",
    "np.save(\"data_linear_regression/noise_var.npy\", noise_var)\n",
    "np.save(\"data_linear_regression/test_ratio.npy\", test_ratio)\n",
    "np.save(\"data_linear_regression/k_folds.npy\", k_folds)\n",
    "np.save(\"data_linear_regression/n_boots.npy\", n_boots)\n",
    "np.save(\"data_linear_regression/ridge_lambda.npy\", ridge_lambda)\n",
    "np.save(\"data_linear_regression/lasso_lambda.npy\", lasso_lambda)\n",
    "np.save(\"data_linear_regression/learn_rates.npy\", learn_rate)\n",
    "np.save(\"data_linear_regression/num_min_batches.npy\", num_min_batch)\n",
    "np.save(\"data_linear_regression/epochs.npy\", epochs)"
   ]
  },
  {
   "cell_type": "markdown",
   "id": "749a0864",
   "metadata": {
    "ExecuteTime": {
     "end_time": "2021-11-24T09:44:32.230857Z",
     "start_time": "2021-11-24T09:44:31.913116Z"
    }
   },
   "source": [
    "Perform\n",
    "* Ordinary Least Squares(OLS) with scikit-learn test train split, own bootstrap, own cross-validation\n",
    "* Ridge Regression(RR) with scikit-learn test train split, own bootstrap, own cross-validation\n",
    "* Scikit Lasso Regression(LR) with scikit-learn test train split, own bootstrap, own cross-validation\n",
    "* Scikit OLS with scikit-learn test train split. Note: this is just for comparing OLS to Scikit-OLS\n",
    "* Scikit RR with scikit-learn test train split. Note: this is just for comparing OLS to Scikit-OLS\n",
    "\n",
    "and save output."
   ]
  },
  {
   "cell_type": "code",
   "execution_count": 25,
   "id": "605e1a2e",
   "metadata": {
    "ExecuteTime": {
     "end_time": "2021-11-29T13:42:18.520097Z",
     "start_time": "2021-11-29T13:42:05.184340Z"
    }
   },
   "outputs": [
    {
     "name": "stdout",
     "output_type": "stream",
     "text": [
      "(12, 4, 5, 4, 1, 1, 1, 1, 4, 4, 3)\n",
      "(12, 4, 5, 4, 1, 1, 1, 1, 4, 4, 3)\n"
     ]
    }
   ],
   "source": [
    "# Define for which regression methods and resampling techniques the statistical indicators should be calculated\n",
    "\"\"\"\n",
    "methods = [\"ols\", \"ols_bootstrap\", \"ols_crossvalidation\", \"ridge\", \n",
    "           \"ridge_bootstrap\", \"ridge_crossvalidation\", \"lasso\", \"lasso_bootstrap\",\n",
    "           \"lasso_crossvalidation\", \"ols_sgd\", \"ols_bootstrap_sgd\", \"ols_crossvalidation_sgd\", \"ridge_sgd\", \n",
    "           \"ridge_bootstrap_sgd\", \"ridge_crossvalidation_sgd\"]\"\"\"\n",
    "methods = [\"ols\", \"ols_sgd\"]\n",
    "\n",
    "# Loop over specified methods\n",
    "for method in methods:\n",
    "    if \"crossvalidation\" in method:\n",
    "        test_ratio_array = np.ones(1)*0.1\n",
    "    else:\n",
    "        k_folds = np.ones(1, dtype=int)\n",
    "    if \"bootstrap\" not in method:\n",
    "        n_boots = np.ones(1, dtype=int)\n",
    "    if \"ridge\" not in method:\n",
    "        ridge_lambda = np.ones(1)\n",
    "    if \"lasso\" not in method:\n",
    "        lasso_lambda = np.ones(1)\n",
    "    # Calculate statistical indicators\n",
    "    train_MSE, test_MSE, train_R2, test_R2, test_bias, test_var = apply_regression(order, num_points, noise_var,\n",
    "                                                                                   test_ratios=test_ratio, \n",
    "                                                                                   n_boots=n_boots, \n",
    "                                                                                   k_folds=k_folds, \n",
    "                                                                                   ridge_lambda=ridge_lambda, \n",
    "                                                                                   lasso_lambda=lasso_lambda, \n",
    "                                                                                   reg_type=method, \n",
    "                                                                                   learn_rate=learn_rate,\n",
    "                                                                                   num_min_batch=num_min_batch,\n",
    "                                                                                   epochs=epochs)\n",
    "    # Save output\n",
    "    np.save(\"data_linear_regression/train_MSE\"+str(method)+\".npy\", train_MSE)\n",
    "    np.save(\"data_linear_regression/test_MSE\"+str(method)+\".npy\", test_MSE)\n",
    "    np.save(\"data_linear_regression/train_R2\"+str(method)+\".npy\", train_R2)\n",
    "    np.save(\"data_linear_regression/test_R2\"+str(method)+\".npy\", test_R2)\n",
    "    np.save(\"data_linear_regression/test_bias\"+str(method)+\".npy\", test_bias)\n",
    "    np.save(\"data_linear_regression/test_variance\"+str(method)+\".npy\", test_var)\n",
    "    # To track loop progress print size of MSE output\n",
    "    print(train_MSE.shape)\n"
   ]
  },
  {
   "cell_type": "code",
   "execution_count": 26,
   "id": "7c6c3a0e",
   "metadata": {
    "ExecuteTime": {
     "start_time": "2021-11-30T12:24:30.367Z"
    }
   },
   "outputs": [
    {
     "name": "stderr",
     "output_type": "stream",
     "text": [
      "Process ForkPoolWorker-1:\n",
      "Process ForkPoolWorker-3:\n",
      "Process ForkPoolWorker-2:\n",
      "Process ForkPoolWorker-4:\n",
      "Traceback (most recent call last):\n",
      "  File \"/home/amandink/anaconda3/envs/CompSci-Project-1/lib/python3.9/multiprocessing/process.py\", line 315, in _bootstrap\n",
      "    self.run()\n",
      "Traceback (most recent call last):\n",
      "Traceback (most recent call last):\n",
      "Traceback (most recent call last):\n",
      "  File \"/home/amandink/anaconda3/envs/CompSci-Project-1/lib/python3.9/multiprocessing/process.py\", line 108, in run\n",
      "    self._target(*self._args, **self._kwargs)\n",
      "  File \"/home/amandink/anaconda3/envs/CompSci-Project-1/lib/python3.9/multiprocessing/process.py\", line 315, in _bootstrap\n",
      "    self.run()\n",
      "  File \"/home/amandink/anaconda3/envs/CompSci-Project-1/lib/python3.9/multiprocessing/process.py\", line 315, in _bootstrap\n",
      "    self.run()\n",
      "  File \"/home/amandink/anaconda3/envs/CompSci-Project-1/lib/python3.9/multiprocessing/pool.py\", line 114, in worker\n",
      "    task = get()\n",
      "  File \"/home/amandink/anaconda3/envs/CompSci-Project-1/lib/python3.9/multiprocessing/process.py\", line 108, in run\n",
      "    self._target(*self._args, **self._kwargs)\n",
      "  File \"/home/amandink/anaconda3/envs/CompSci-Project-1/lib/python3.9/multiprocessing/process.py\", line 108, in run\n",
      "    self._target(*self._args, **self._kwargs)\n",
      "  File \"/home/amandink/anaconda3/envs/CompSci-Project-1/lib/python3.9/multiprocessing/queues.py\", line 368, in get\n",
      "    return _ForkingPickler.loads(res)\n",
      "  File \"/home/amandink/anaconda3/envs/CompSci-Project-1/lib/python3.9/multiprocessing/pool.py\", line 114, in worker\n",
      "    task = get()\n",
      "  File \"/home/amandink/anaconda3/envs/CompSci-Project-1/lib/python3.9/multiprocessing/pool.py\", line 114, in worker\n",
      "    task = get()\n",
      "  File \"/home/amandink/anaconda3/envs/CompSci-Project-1/lib/python3.9/multiprocessing/queues.py\", line 368, in get\n",
      "    return _ForkingPickler.loads(res)\n",
      "  File \"/home/amandink/anaconda3/envs/CompSci-Project-1/lib/python3.9/multiprocessing/queues.py\", line 368, in get\n",
      "    return _ForkingPickler.loads(res)\n",
      "AttributeError: Can't get attribute 'run_regression' on <module '__main__'>\n",
      "  File \"/home/amandink/anaconda3/envs/CompSci-Project-1/lib/python3.9/multiprocessing/process.py\", line 315, in _bootstrap\n",
      "    self.run()\n",
      "AttributeError: Can't get attribute 'run_regression' on <module '__main__'>\n",
      "AttributeError: Can't get attribute 'run_regression' on <module '__main__'>\n",
      "  File \"/home/amandink/anaconda3/envs/CompSci-Project-1/lib/python3.9/multiprocessing/process.py\", line 108, in run\n",
      "    self._target(*self._args, **self._kwargs)\n",
      "  File \"/home/amandink/anaconda3/envs/CompSci-Project-1/lib/python3.9/multiprocessing/pool.py\", line 114, in worker\n",
      "    task = get()\n",
      "  File \"/home/amandink/anaconda3/envs/CompSci-Project-1/lib/python3.9/multiprocessing/queues.py\", line 368, in get\n",
      "    return _ForkingPickler.loads(res)\n",
      "AttributeError: Can't get attribute 'run_regression' on <module '__main__'>\n",
      "Process ForkPoolWorker-8:\n",
      "Process ForkPoolWorker-7:\n",
      "Process ForkPoolWorker-6:\n",
      "Process ForkPoolWorker-5:\n",
      "Process ForkPoolWorker-9:\n",
      "Traceback (most recent call last):\n",
      "Traceback (most recent call last):\n",
      "Traceback (most recent call last):\n",
      "Traceback (most recent call last):\n",
      "Traceback (most recent call last):\n",
      "  File \"/home/amandink/anaconda3/envs/CompSci-Project-1/lib/python3.9/multiprocessing/process.py\", line 315, in _bootstrap\n",
      "    self.run()\n",
      "  File \"/home/amandink/anaconda3/envs/CompSci-Project-1/lib/python3.9/multiprocessing/process.py\", line 315, in _bootstrap\n",
      "    self.run()\n",
      "  File \"/home/amandink/anaconda3/envs/CompSci-Project-1/lib/python3.9/multiprocessing/process.py\", line 315, in _bootstrap\n",
      "    self.run()\n",
      "  File \"/home/amandink/anaconda3/envs/CompSci-Project-1/lib/python3.9/multiprocessing/process.py\", line 315, in _bootstrap\n",
      "    self.run()\n",
      "  File \"/home/amandink/anaconda3/envs/CompSci-Project-1/lib/python3.9/multiprocessing/process.py\", line 108, in run\n",
      "    self._target(*self._args, **self._kwargs)\n",
      "  File \"/home/amandink/anaconda3/envs/CompSci-Project-1/lib/python3.9/multiprocessing/process.py\", line 315, in _bootstrap\n",
      "    self.run()\n",
      "  File \"/home/amandink/anaconda3/envs/CompSci-Project-1/lib/python3.9/multiprocessing/process.py\", line 108, in run\n",
      "    self._target(*self._args, **self._kwargs)\n",
      "  File \"/home/amandink/anaconda3/envs/CompSci-Project-1/lib/python3.9/multiprocessing/process.py\", line 108, in run\n",
      "    self._target(*self._args, **self._kwargs)\n",
      "  File \"/home/amandink/anaconda3/envs/CompSci-Project-1/lib/python3.9/multiprocessing/pool.py\", line 114, in worker\n",
      "    task = get()\n",
      "  File \"/home/amandink/anaconda3/envs/CompSci-Project-1/lib/python3.9/multiprocessing/process.py\", line 108, in run\n",
      "    self._target(*self._args, **self._kwargs)\n",
      "  File \"/home/amandink/anaconda3/envs/CompSci-Project-1/lib/python3.9/multiprocessing/process.py\", line 108, in run\n",
      "    self._target(*self._args, **self._kwargs)\n",
      "  File \"/home/amandink/anaconda3/envs/CompSci-Project-1/lib/python3.9/multiprocessing/pool.py\", line 114, in worker\n",
      "    task = get()\n",
      "  File \"/home/amandink/anaconda3/envs/CompSci-Project-1/lib/python3.9/multiprocessing/queues.py\", line 365, in get\n",
      "    with self._rlock:\n",
      "  File \"/home/amandink/anaconda3/envs/CompSci-Project-1/lib/python3.9/multiprocessing/pool.py\", line 114, in worker\n",
      "    task = get()\n",
      "  File \"/home/amandink/anaconda3/envs/CompSci-Project-1/lib/python3.9/multiprocessing/pool.py\", line 114, in worker\n",
      "    task = get()\n",
      "  File \"/home/amandink/anaconda3/envs/CompSci-Project-1/lib/python3.9/multiprocessing/queues.py\", line 365, in get\n",
      "    with self._rlock:\n",
      "  File \"/home/amandink/anaconda3/envs/CompSci-Project-1/lib/python3.9/multiprocessing/queues.py\", line 365, in get\n",
      "    with self._rlock:\n",
      "  File \"/home/amandink/anaconda3/envs/CompSci-Project-1/lib/python3.9/multiprocessing/queues.py\", line 366, in get\n",
      "    res = self._reader.recv_bytes()\n",
      "  File \"/home/amandink/anaconda3/envs/CompSci-Project-1/lib/python3.9/multiprocessing/pool.py\", line 114, in worker\n",
      "    task = get()\n",
      "  File \"/home/amandink/anaconda3/envs/CompSci-Project-1/lib/python3.9/multiprocessing/synchronize.py\", line 95, in __enter__\n",
      "    return self._semlock.__enter__()\n",
      "  File \"/home/amandink/anaconda3/envs/CompSci-Project-1/lib/python3.9/multiprocessing/synchronize.py\", line 95, in __enter__\n",
      "    return self._semlock.__enter__()\n",
      "  File \"/home/amandink/anaconda3/envs/CompSci-Project-1/lib/python3.9/multiprocessing/queues.py\", line 365, in get\n",
      "    with self._rlock:\n",
      "KeyboardInterrupt\n",
      "  File \"/home/amandink/anaconda3/envs/CompSci-Project-1/lib/python3.9/multiprocessing/connection.py\", line 221, in recv_bytes\n",
      "    buf = self._recv_bytes(maxlength)\n",
      "  File \"/home/amandink/anaconda3/envs/CompSci-Project-1/lib/python3.9/multiprocessing/synchronize.py\", line 95, in __enter__\n",
      "    return self._semlock.__enter__()\n",
      "  File \"/home/amandink/anaconda3/envs/CompSci-Project-1/lib/python3.9/multiprocessing/synchronize.py\", line 95, in __enter__\n",
      "    return self._semlock.__enter__()\n",
      "KeyboardInterrupt\n",
      "KeyboardInterrupt\n",
      "  File \"/home/amandink/anaconda3/envs/CompSci-Project-1/lib/python3.9/multiprocessing/connection.py\", line 419, in _recv_bytes\n",
      "    buf = self._recv(4)\n",
      "KeyboardInterrupt\n",
      "  File \"/home/amandink/anaconda3/envs/CompSci-Project-1/lib/python3.9/multiprocessing/connection.py\", line 384, in _recv\n",
      "    chunk = read(handle, remaining)\n",
      "KeyboardInterrupt\n"
     ]
    },
    {
     "ename": "KeyboardInterrupt",
     "evalue": "",
     "output_type": "error",
     "traceback": [
      "\u001b[0;31m---------------------------------------------------------------------------\u001b[0m",
      "\u001b[0;31mKeyboardInterrupt\u001b[0m                         Traceback (most recent call last)",
      "\u001b[0;32m/tmp/ipykernel_12567/3644680445.py\u001b[0m in \u001b[0;36m<module>\u001b[0;34m\u001b[0m\n\u001b[1;32m     48\u001b[0m     \u001b[0;32mreturn\u001b[0m \u001b[0;36m0\u001b[0m\u001b[0;34m\u001b[0m\u001b[0;34m\u001b[0m\u001b[0m\n\u001b[1;32m     49\u001b[0m \u001b[0;34m\u001b[0m\u001b[0m\n\u001b[0;32m---> 50\u001b[0;31m \u001b[0;34m[\u001b[0m\u001b[0mpool\u001b[0m\u001b[0;34m.\u001b[0m\u001b[0mmap\u001b[0m\u001b[0;34m(\u001b[0m\u001b[0mrun_regression\u001b[0m\u001b[0;34m,\u001b[0m \u001b[0mmethods\u001b[0m\u001b[0;34m)\u001b[0m\u001b[0;34m]\u001b[0m\u001b[0;34m\u001b[0m\u001b[0;34m\u001b[0m\u001b[0m\n\u001b[0m",
      "\u001b[0;32m~/anaconda3/envs/CompSci-Project-1/lib/python3.9/multiprocessing/pool.py\u001b[0m in \u001b[0;36mmap\u001b[0;34m(self, func, iterable, chunksize)\u001b[0m\n\u001b[1;32m    362\u001b[0m         \u001b[0;32min\u001b[0m \u001b[0ma\u001b[0m \u001b[0mlist\u001b[0m \u001b[0mthat\u001b[0m \u001b[0;32mis\u001b[0m \u001b[0mreturned\u001b[0m\u001b[0;34m.\u001b[0m\u001b[0;34m\u001b[0m\u001b[0;34m\u001b[0m\u001b[0m\n\u001b[1;32m    363\u001b[0m         '''\n\u001b[0;32m--> 364\u001b[0;31m         \u001b[0;32mreturn\u001b[0m \u001b[0mself\u001b[0m\u001b[0;34m.\u001b[0m\u001b[0m_map_async\u001b[0m\u001b[0;34m(\u001b[0m\u001b[0mfunc\u001b[0m\u001b[0;34m,\u001b[0m \u001b[0miterable\u001b[0m\u001b[0;34m,\u001b[0m \u001b[0mmapstar\u001b[0m\u001b[0;34m,\u001b[0m \u001b[0mchunksize\u001b[0m\u001b[0;34m)\u001b[0m\u001b[0;34m.\u001b[0m\u001b[0mget\u001b[0m\u001b[0;34m(\u001b[0m\u001b[0;34m)\u001b[0m\u001b[0;34m\u001b[0m\u001b[0;34m\u001b[0m\u001b[0m\n\u001b[0m\u001b[1;32m    365\u001b[0m \u001b[0;34m\u001b[0m\u001b[0m\n\u001b[1;32m    366\u001b[0m     \u001b[0;32mdef\u001b[0m \u001b[0mstarmap\u001b[0m\u001b[0;34m(\u001b[0m\u001b[0mself\u001b[0m\u001b[0;34m,\u001b[0m \u001b[0mfunc\u001b[0m\u001b[0;34m,\u001b[0m \u001b[0miterable\u001b[0m\u001b[0;34m,\u001b[0m \u001b[0mchunksize\u001b[0m\u001b[0;34m=\u001b[0m\u001b[0;32mNone\u001b[0m\u001b[0;34m)\u001b[0m\u001b[0;34m:\u001b[0m\u001b[0;34m\u001b[0m\u001b[0;34m\u001b[0m\u001b[0m\n",
      "\u001b[0;32m~/anaconda3/envs/CompSci-Project-1/lib/python3.9/multiprocessing/pool.py\u001b[0m in \u001b[0;36mget\u001b[0;34m(self, timeout)\u001b[0m\n\u001b[1;32m    763\u001b[0m \u001b[0;34m\u001b[0m\u001b[0m\n\u001b[1;32m    764\u001b[0m     \u001b[0;32mdef\u001b[0m \u001b[0mget\u001b[0m\u001b[0;34m(\u001b[0m\u001b[0mself\u001b[0m\u001b[0;34m,\u001b[0m \u001b[0mtimeout\u001b[0m\u001b[0;34m=\u001b[0m\u001b[0;32mNone\u001b[0m\u001b[0;34m)\u001b[0m\u001b[0;34m:\u001b[0m\u001b[0;34m\u001b[0m\u001b[0;34m\u001b[0m\u001b[0m\n\u001b[0;32m--> 765\u001b[0;31m         \u001b[0mself\u001b[0m\u001b[0;34m.\u001b[0m\u001b[0mwait\u001b[0m\u001b[0;34m(\u001b[0m\u001b[0mtimeout\u001b[0m\u001b[0;34m)\u001b[0m\u001b[0;34m\u001b[0m\u001b[0;34m\u001b[0m\u001b[0m\n\u001b[0m\u001b[1;32m    766\u001b[0m         \u001b[0;32mif\u001b[0m \u001b[0;32mnot\u001b[0m \u001b[0mself\u001b[0m\u001b[0;34m.\u001b[0m\u001b[0mready\u001b[0m\u001b[0;34m(\u001b[0m\u001b[0;34m)\u001b[0m\u001b[0;34m:\u001b[0m\u001b[0;34m\u001b[0m\u001b[0;34m\u001b[0m\u001b[0m\n\u001b[1;32m    767\u001b[0m             \u001b[0;32mraise\u001b[0m \u001b[0mTimeoutError\u001b[0m\u001b[0;34m\u001b[0m\u001b[0;34m\u001b[0m\u001b[0m\n",
      "\u001b[0;32m~/anaconda3/envs/CompSci-Project-1/lib/python3.9/multiprocessing/pool.py\u001b[0m in \u001b[0;36mwait\u001b[0;34m(self, timeout)\u001b[0m\n\u001b[1;32m    760\u001b[0m \u001b[0;34m\u001b[0m\u001b[0m\n\u001b[1;32m    761\u001b[0m     \u001b[0;32mdef\u001b[0m \u001b[0mwait\u001b[0m\u001b[0;34m(\u001b[0m\u001b[0mself\u001b[0m\u001b[0;34m,\u001b[0m \u001b[0mtimeout\u001b[0m\u001b[0;34m=\u001b[0m\u001b[0;32mNone\u001b[0m\u001b[0;34m)\u001b[0m\u001b[0;34m:\u001b[0m\u001b[0;34m\u001b[0m\u001b[0;34m\u001b[0m\u001b[0m\n\u001b[0;32m--> 762\u001b[0;31m         \u001b[0mself\u001b[0m\u001b[0;34m.\u001b[0m\u001b[0m_event\u001b[0m\u001b[0;34m.\u001b[0m\u001b[0mwait\u001b[0m\u001b[0;34m(\u001b[0m\u001b[0mtimeout\u001b[0m\u001b[0;34m)\u001b[0m\u001b[0;34m\u001b[0m\u001b[0;34m\u001b[0m\u001b[0m\n\u001b[0m\u001b[1;32m    763\u001b[0m \u001b[0;34m\u001b[0m\u001b[0m\n\u001b[1;32m    764\u001b[0m     \u001b[0;32mdef\u001b[0m \u001b[0mget\u001b[0m\u001b[0;34m(\u001b[0m\u001b[0mself\u001b[0m\u001b[0;34m,\u001b[0m \u001b[0mtimeout\u001b[0m\u001b[0;34m=\u001b[0m\u001b[0;32mNone\u001b[0m\u001b[0;34m)\u001b[0m\u001b[0;34m:\u001b[0m\u001b[0;34m\u001b[0m\u001b[0;34m\u001b[0m\u001b[0m\n",
      "\u001b[0;32m~/anaconda3/envs/CompSci-Project-1/lib/python3.9/threading.py\u001b[0m in \u001b[0;36mwait\u001b[0;34m(self, timeout)\u001b[0m\n\u001b[1;32m    572\u001b[0m             \u001b[0msignaled\u001b[0m \u001b[0;34m=\u001b[0m \u001b[0mself\u001b[0m\u001b[0;34m.\u001b[0m\u001b[0m_flag\u001b[0m\u001b[0;34m\u001b[0m\u001b[0;34m\u001b[0m\u001b[0m\n\u001b[1;32m    573\u001b[0m             \u001b[0;32mif\u001b[0m \u001b[0;32mnot\u001b[0m \u001b[0msignaled\u001b[0m\u001b[0;34m:\u001b[0m\u001b[0;34m\u001b[0m\u001b[0;34m\u001b[0m\u001b[0m\n\u001b[0;32m--> 574\u001b[0;31m                 \u001b[0msignaled\u001b[0m \u001b[0;34m=\u001b[0m \u001b[0mself\u001b[0m\u001b[0;34m.\u001b[0m\u001b[0m_cond\u001b[0m\u001b[0;34m.\u001b[0m\u001b[0mwait\u001b[0m\u001b[0;34m(\u001b[0m\u001b[0mtimeout\u001b[0m\u001b[0;34m)\u001b[0m\u001b[0;34m\u001b[0m\u001b[0;34m\u001b[0m\u001b[0m\n\u001b[0m\u001b[1;32m    575\u001b[0m             \u001b[0;32mreturn\u001b[0m \u001b[0msignaled\u001b[0m\u001b[0;34m\u001b[0m\u001b[0;34m\u001b[0m\u001b[0m\n\u001b[1;32m    576\u001b[0m \u001b[0;34m\u001b[0m\u001b[0m\n",
      "\u001b[0;32m~/anaconda3/envs/CompSci-Project-1/lib/python3.9/threading.py\u001b[0m in \u001b[0;36mwait\u001b[0;34m(self, timeout)\u001b[0m\n\u001b[1;32m    310\u001b[0m         \u001b[0;32mtry\u001b[0m\u001b[0;34m:\u001b[0m    \u001b[0;31m# restore state no matter what (e.g., KeyboardInterrupt)\u001b[0m\u001b[0;34m\u001b[0m\u001b[0;34m\u001b[0m\u001b[0m\n\u001b[1;32m    311\u001b[0m             \u001b[0;32mif\u001b[0m \u001b[0mtimeout\u001b[0m \u001b[0;32mis\u001b[0m \u001b[0;32mNone\u001b[0m\u001b[0;34m:\u001b[0m\u001b[0;34m\u001b[0m\u001b[0;34m\u001b[0m\u001b[0m\n\u001b[0;32m--> 312\u001b[0;31m                 \u001b[0mwaiter\u001b[0m\u001b[0;34m.\u001b[0m\u001b[0macquire\u001b[0m\u001b[0;34m(\u001b[0m\u001b[0;34m)\u001b[0m\u001b[0;34m\u001b[0m\u001b[0;34m\u001b[0m\u001b[0m\n\u001b[0m\u001b[1;32m    313\u001b[0m                 \u001b[0mgotit\u001b[0m \u001b[0;34m=\u001b[0m \u001b[0;32mTrue\u001b[0m\u001b[0;34m\u001b[0m\u001b[0;34m\u001b[0m\u001b[0m\n\u001b[1;32m    314\u001b[0m             \u001b[0;32melse\u001b[0m\u001b[0;34m:\u001b[0m\u001b[0;34m\u001b[0m\u001b[0;34m\u001b[0m\u001b[0m\n",
      "\u001b[0;31mKeyboardInterrupt\u001b[0m: "
     ]
    }
   ],
   "source": [
    "\"\"\"pool = mp.Pool(processes=5)\n",
    "#methods = methods = [\"e\",\"e\",\"d\", \"d\", \"s\",\"d\", \"d\", \"s\", \"ols\", \"ridge_crossvalidation\", \"lasso\", \"lasso_bootstrap\",\n",
    "#           \"lasso_crossvalidation\", \"ols_bootstrap\", \"ols_crossvalidation\", \"ridge\", \n",
    "#           \"ridge_bootstrap\"]\n",
    "methods = [\"e\",\"e\", \"ols\", \"ols_sgd\"]\n",
    "def run_regression(method):\n",
    "    print(method)\n",
    "    order = np.load(\"data_linear_regression/order.npy\")\n",
    "    num_points = np.load(\"data_linear_regression/num_points.npy\")\n",
    "    noise_var = np.load(\"data_linear_regression/noise_var.npy\")\n",
    "    test_ratio_array = np.load(\"data_linear_regression/test_ratio_array.npy\")\n",
    "    k_folds = np.load(\"data_linear_regression/k_folds.npy\")\n",
    "    n_boots = np.load(\"data_linear_regression/n_boots.npy\")\n",
    "    ridge_lambda = np.load(\"data_linear_regression/ridge_lambda.npy\")\n",
    "    lasso_lambda = np.load(\"data_linear_regression/lasso_lambda.npy\")\n",
    "    \n",
    "    if \"crossvalidation\" in method:\n",
    "        test_ratio_array = np.ones(1)*0.1\n",
    "    else:\n",
    "        k_folds = np.ones(1, dtype=int)\n",
    "    if \"bootstrap\" not in method:\n",
    "        n_boots = np.ones(1, dtype=int)\n",
    "    if \"ridge\" not in method:\n",
    "        ridge_lambda = np.ones(1)\n",
    "    if \"lasso\" not in method:\n",
    "        lasso_lambda = np.ones(1)\n",
    "    # Calculate statistical indicators\n",
    "    train_MSE, test_MSE, train_R2, test_R2, test_bias, test_var = apply_regression(order, num_points, noise_var,\n",
    "                                                                                   test_ratios=test_ratio, \n",
    "                                                                                   n_boots=n_boots, \n",
    "                                                                                   k_folds=k_folds, \n",
    "                                                                                   ridge_lambda=ridge_lambda, \n",
    "                                                                                   lasso_lambda=lasso_lambda, \n",
    "                                                                                   reg_type=method, \n",
    "                                                                                   learn_rate=learn_rate,\n",
    "                                                                                   num_min_batch=num_min_batch,\n",
    "                                                                                   epochs=epochs)\n",
    "    # Save output\n",
    "    np.save(\"data_linear_regression/train_MSE\"+str(method)+\".npy\", train_MSE)\n",
    "    np.save(\"data_linear_regression/test_MSE\"+str(method)+\".npy\", test_MSE)\n",
    "    np.save(\"data_linear_regression/train_R2\"+str(method)+\".npy\", train_R2)\n",
    "    np.save(\"data_linear_regression/test_R2\"+str(method)+\".npy\", test_R2)\n",
    "    np.save(\"data_linear_regression/test_bias\"+str(method)+\".npy\", test_bias)\n",
    "    np.save(\"data_linear_regression/test_variance\"+str(method)+\".npy\", test_var)\n",
    "    # To track loop progress print size of MSE output\n",
    "    print(train_MSE.shape)\n",
    "    print(\"finished \", method)\n",
    "    return 0\n",
    "    \n",
    "[pool.map(run_regression, methods)]\"\"\""
   ]
  },
  {
   "cell_type": "markdown",
   "id": "72452284",
   "metadata": {
    "ExecuteTime": {
     "end_time": "2021-11-30T14:20:45.845471Z",
     "start_time": "2021-11-30T14:20:45.830412Z"
    }
   },
   "source": [
    "## Widget to compare all experiments"
   ]
  },
  {
   "cell_type": "code",
   "execution_count": 6,
   "id": "6fb99ba3",
   "metadata": {
    "ExecuteTime": {
     "end_time": "2021-11-30T14:20:51.615224Z",
     "start_time": "2021-11-30T14:20:51.261876Z"
    }
   },
   "outputs": [
    {
     "ename": "DeprecationWarning",
     "evalue": "`ipykernel.pylab.backend_inline` is deprecated, directly use `matplotlib_inline.backend_inline`",
     "output_type": "error",
     "traceback": [
      "\u001b[0;31m---------------------------------------------------------------------------\u001b[0m",
      "\u001b[0;31mDeprecationWarning\u001b[0m                        Traceback (most recent call last)",
      "\u001b[0;32m/tmp/ipykernel_24989/1083795893.py\u001b[0m in \u001b[0;36m<module>\u001b[0;34m\u001b[0m\n\u001b[1;32m      6\u001b[0m \u001b[0mstats\u001b[0m \u001b[0;34m=\u001b[0m \u001b[0;34m[\u001b[0m\u001b[0;34m\"train MSE\"\u001b[0m\u001b[0;34m,\u001b[0m \u001b[0;34m\"test MSE\"\u001b[0m\u001b[0;34m,\u001b[0m \u001b[0;34m\"test R2\"\u001b[0m\u001b[0;34m,\u001b[0m \u001b[0;34m\"train R2\"\u001b[0m\u001b[0;34m,\u001b[0m \u001b[0;34m\"test bias\"\u001b[0m\u001b[0;34m,\u001b[0m \u001b[0;34m\"test variance\"\u001b[0m\u001b[0;34m]\u001b[0m\u001b[0;34m\u001b[0m\u001b[0;34m\u001b[0m\u001b[0m\n\u001b[1;32m      7\u001b[0m \u001b[0;34m\u001b[0m\u001b[0m\n\u001b[0;32m----> 8\u001b[0;31m widget.interact(plot_stat, ratio=test_ratio.tolist(), num=num_points.tolist(), stat=stats, \n\u001b[0m\u001b[1;32m      9\u001b[0m                 \u001b[0mmethod\u001b[0m\u001b[0;34m=\u001b[0m\u001b[0mmethods\u001b[0m\u001b[0;34m,\u001b[0m \u001b[0mk_fold\u001b[0m\u001b[0;34m=\u001b[0m\u001b[0mk_folds\u001b[0m\u001b[0;34m.\u001b[0m\u001b[0mtolist\u001b[0m\u001b[0;34m(\u001b[0m\u001b[0;34m)\u001b[0m\u001b[0;34m,\u001b[0m \u001b[0mn_boot\u001b[0m\u001b[0;34m=\u001b[0m\u001b[0mn_boots\u001b[0m\u001b[0;34m.\u001b[0m\u001b[0mtolist\u001b[0m\u001b[0;34m(\u001b[0m\u001b[0;34m)\u001b[0m\u001b[0;34m,\u001b[0m\u001b[0;34m\u001b[0m\u001b[0;34m\u001b[0m\u001b[0m\n\u001b[1;32m     10\u001b[0m                 \u001b[0mridge_lmb\u001b[0m\u001b[0;34m=\u001b[0m\u001b[0mridge_lambda\u001b[0m\u001b[0;34m.\u001b[0m\u001b[0mtolist\u001b[0m\u001b[0;34m(\u001b[0m\u001b[0;34m)\u001b[0m\u001b[0;34m,\u001b[0m \u001b[0mlasso_lmb\u001b[0m\u001b[0;34m=\u001b[0m\u001b[0mlasso_lambda\u001b[0m\u001b[0;34m.\u001b[0m\u001b[0mtolist\u001b[0m\u001b[0;34m(\u001b[0m\u001b[0;34m)\u001b[0m\u001b[0;34m,\u001b[0m \u001b[0mlearn_rate\u001b[0m\u001b[0;34m=\u001b[0m\u001b[0mlearn_rate\u001b[0m\u001b[0;34m.\u001b[0m\u001b[0mtolist\u001b[0m\u001b[0;34m(\u001b[0m\u001b[0;34m)\u001b[0m\u001b[0;34m,\u001b[0m\u001b[0;34m\u001b[0m\u001b[0;34m\u001b[0m\u001b[0m\n",
      "\u001b[0;32m~/anaconda3/envs/CompSci-Project-1/lib/python3.9/site-packages/ipywidgets/widgets/interaction.py\u001b[0m in \u001b[0;36m__call__\u001b[0;34m(self, _InteractFactory__interact_f, **kwargs)\u001b[0m\n\u001b[1;32m    535\u001b[0m             \u001b[0mf\u001b[0m \u001b[0;34m=\u001b[0m \u001b[0;32mlambda\u001b[0m \u001b[0;34m*\u001b[0m\u001b[0margs\u001b[0m\u001b[0;34m,\u001b[0m \u001b[0;34m**\u001b[0m\u001b[0mkwargs\u001b[0m\u001b[0;34m:\u001b[0m \u001b[0m__interact_f\u001b[0m\u001b[0;34m(\u001b[0m\u001b[0;34m*\u001b[0m\u001b[0margs\u001b[0m\u001b[0;34m,\u001b[0m \u001b[0;34m**\u001b[0m\u001b[0mkwargs\u001b[0m\u001b[0;34m)\u001b[0m\u001b[0;34m\u001b[0m\u001b[0;34m\u001b[0m\u001b[0m\n\u001b[1;32m    536\u001b[0m             \u001b[0mf\u001b[0m\u001b[0;34m.\u001b[0m\u001b[0mwidget\u001b[0m \u001b[0;34m=\u001b[0m \u001b[0mw\u001b[0m\u001b[0;34m\u001b[0m\u001b[0;34m\u001b[0m\u001b[0m\n\u001b[0;32m--> 537\u001b[0;31m         \u001b[0mshow_inline_matplotlib_plots\u001b[0m\u001b[0;34m(\u001b[0m\u001b[0;34m)\u001b[0m\u001b[0;34m\u001b[0m\u001b[0;34m\u001b[0m\u001b[0m\n\u001b[0m\u001b[1;32m    538\u001b[0m         \u001b[0mdisplay\u001b[0m\u001b[0;34m(\u001b[0m\u001b[0mw\u001b[0m\u001b[0;34m)\u001b[0m\u001b[0;34m\u001b[0m\u001b[0;34m\u001b[0m\u001b[0m\n\u001b[1;32m    539\u001b[0m         \u001b[0;32mreturn\u001b[0m \u001b[0mf\u001b[0m\u001b[0;34m\u001b[0m\u001b[0;34m\u001b[0m\u001b[0m\n",
      "\u001b[0;32m~/anaconda3/envs/CompSci-Project-1/lib/python3.9/site-packages/ipywidgets/widgets/interaction.py\u001b[0m in \u001b[0;36mshow_inline_matplotlib_plots\u001b[0;34m()\u001b[0m\n\u001b[1;32m     55\u001b[0m     \u001b[0;32mtry\u001b[0m\u001b[0;34m:\u001b[0m\u001b[0;34m\u001b[0m\u001b[0;34m\u001b[0m\u001b[0m\n\u001b[1;32m     56\u001b[0m         \u001b[0;32mimport\u001b[0m \u001b[0mmatplotlib\u001b[0m \u001b[0;32mas\u001b[0m \u001b[0mmpl\u001b[0m\u001b[0;34m\u001b[0m\u001b[0;34m\u001b[0m\u001b[0m\n\u001b[0;32m---> 57\u001b[0;31m         \u001b[0;32mfrom\u001b[0m \u001b[0mipykernel\u001b[0m\u001b[0;34m.\u001b[0m\u001b[0mpylab\u001b[0m\u001b[0;34m.\u001b[0m\u001b[0mbackend_inline\u001b[0m \u001b[0;32mimport\u001b[0m \u001b[0mflush_figures\u001b[0m\u001b[0;34m\u001b[0m\u001b[0;34m\u001b[0m\u001b[0m\n\u001b[0m\u001b[1;32m     58\u001b[0m     \u001b[0;32mexcept\u001b[0m \u001b[0mImportError\u001b[0m\u001b[0;34m:\u001b[0m\u001b[0;34m\u001b[0m\u001b[0;34m\u001b[0m\u001b[0m\n\u001b[1;32m     59\u001b[0m         \u001b[0;32mreturn\u001b[0m\u001b[0;34m\u001b[0m\u001b[0;34m\u001b[0m\u001b[0m\n",
      "\u001b[0;32m~/anaconda3/envs/CompSci-Project-1/lib/python3.9/site-packages/ipykernel/pylab/backend_inline.py\u001b[0m in \u001b[0;36m<module>\u001b[0;34m\u001b[0m\n\u001b[1;32m      9\u001b[0m \u001b[0;34m\u001b[0m\u001b[0m\n\u001b[1;32m     10\u001b[0m \u001b[0;34m\u001b[0m\u001b[0m\n\u001b[0;32m---> 11\u001b[0;31m warnings.warn(\n\u001b[0m\u001b[1;32m     12\u001b[0m     \u001b[0;34m\"`ipykernel.pylab.backend_inline` is deprecated, directly \"\u001b[0m\u001b[0;34m\u001b[0m\u001b[0;34m\u001b[0m\u001b[0m\n\u001b[1;32m     13\u001b[0m     \u001b[0;34m\"use `matplotlib_inline.backend_inline`\"\u001b[0m\u001b[0;34m,\u001b[0m\u001b[0;34m\u001b[0m\u001b[0;34m\u001b[0m\u001b[0m\n",
      "\u001b[0;31mDeprecationWarning\u001b[0m: `ipykernel.pylab.backend_inline` is deprecated, directly use `matplotlib_inline.backend_inline`"
     ]
    }
   ],
   "source": [
    "\"\"\"methods = [\"ols\", \"ols_bootstrap\", \"ols_crossvalidation\", \"ridge\", \"ridge_bootstrap\", \"ridge_crossvalidation\",\n",
    "           \"lasso\", \"lasso_bootstrap\", \"lasso_crossvalidation\", \"ols_sgd\", \"ols_bootstrap_sgd\", \"ols_crossvalidation_sgd\", \"ridge_sgd\", \n",
    "           \"ridge_bootstrap_sgd\", \"ridge_crossvalidation_sgd\"]\"\"\"\n",
    "\n",
    "methods = [\"ols\", \"ols_sgd\"]\n",
    "stats = [\"train MSE\", \"test MSE\", \"test R2\", \"train R2\", \"test bias\", \"test variance\"]\n",
    "\n",
    "widget.interact(plot_stat, ratio=test_ratio.tolist(), num=num_points.tolist(), stat=stats, \n",
    "                method=methods, k_fold=k_folds.tolist(), n_boot=n_boots.tolist(),\n",
    "                ridge_lmb=ridge_lambda.tolist(), lasso_lmb=lasso_lambda.tolist(), learn_rate=learn_rate.tolist(),\n",
    "                batch=num_min_batch.tolist(), epoch=epochs.tolist())"
   ]
  },
  {
   "cell_type": "markdown",
   "id": "a8b5a7a2",
   "metadata": {
    "ExecuteTime": {
     "end_time": "2021-11-24T09:59:44.885373Z",
     "start_time": "2021-11-24T09:59:44.885362Z"
    }
   },
   "source": [
    "# Bias Variance Tradeoff"
   ]
  },
  {
   "cell_type": "code",
   "execution_count": 30,
   "id": "7d153594",
   "metadata": {
    "ExecuteTime": {
     "end_time": "2021-11-30T14:30:23.502459Z",
     "start_time": "2021-11-30T14:30:23.486572Z"
    }
   },
   "outputs": [],
   "source": [
    "#loading data\n",
    "method = \"ols\"\n",
    "order=np.load(\"data_linear_regression/order.npy\")\n",
    "num_points=np.load(\"data_linear_regression/num_points.npy\")\n",
    "noise_var=np.load(\"data_linear_regression/noise_var.npy\")\n",
    "test_ratio=np.load(\"data_linear_regression/test_ratio.npy\")\n",
    "ridge_lambda=np.load(\"data_linear_regression/ridge_lambda.npy\")\n",
    "k_folds=np.load(\"data_linear_regression/k_folds.npy\")\n",
    "n_boots=np.load(\"data_linear_regression/n_boots.npy\")\n",
    "train_MSE=np.load(\"data_linear_regression/train_MSE\"+method+\".npy\")\n",
    "test_MSE=np.load(\"data_linear_regression/test_MSE\"+method+\".npy\")\n",
    "train_R2=np.load(\"data_linear_regression/train_R2\"+method+\".npy\")\n",
    "test_R2=np.load(\"data_linear_regression/test_R2\"+method+\".npy\")\n",
    "test_bias=np.load(\"data_linear_regression/test_bias\"+method+\".npy\")\n",
    "test_var=np.load(\"data_linear_regression/test_variance\"+method+\".npy\")"
   ]
  },
  {
   "cell_type": "markdown",
   "id": "22ce159b",
   "metadata": {},
   "source": [
    "For Ordinary least squares, we find the bias variance tradeoff as a function of model complexity: order of polynomial. We determine it for fixed test ratio and noise level"
   ]
  },
  {
   "cell_type": "code",
   "execution_count": 5,
   "id": "cffb0ff4",
   "metadata": {
    "ExecuteTime": {
     "end_time": "2021-11-30T14:30:24.969721Z",
     "start_time": "2021-11-30T14:30:24.625082Z"
    }
   },
   "outputs": [
    {
     "ename": "NameError",
     "evalue": "name 'test_bias' is not defined",
     "output_type": "error",
     "traceback": [
      "\u001b[0;31m---------------------------------------------------------------------------\u001b[0m",
      "\u001b[0;31mNameError\u001b[0m                                 Traceback (most recent call last)",
      "\u001b[0;32m/tmp/ipykernel_24989/573014735.py\u001b[0m in \u001b[0;36m<module>\u001b[0;34m\u001b[0m\n\u001b[1;32m      2\u001b[0m \u001b[0mn_ind\u001b[0m \u001b[0;34m=\u001b[0m \u001b[0;36m3\u001b[0m \u001b[0;31m# n=100\u001b[0m\u001b[0;34m\u001b[0m\u001b[0;34m\u001b[0m\u001b[0m\n\u001b[1;32m      3\u001b[0m \u001b[0mnoise_ind\u001b[0m \u001b[0;34m=\u001b[0m \u001b[0;36m2\u001b[0m \u001b[0;31m#noise variance = 0.5\u001b[0m\u001b[0;34m\u001b[0m\u001b[0;34m\u001b[0m\u001b[0m\n\u001b[0;32m----> 4\u001b[0;31m \u001b[0mols_bias\u001b[0m \u001b[0;34m=\u001b[0m \u001b[0mtest_bias\u001b[0m\u001b[0;34m[\u001b[0m\u001b[0;34m:\u001b[0m\u001b[0;34m,\u001b[0m \u001b[0mn_ind\u001b[0m\u001b[0;34m,\u001b[0m \u001b[0mnoise_ind\u001b[0m\u001b[0;34m,\u001b[0m \u001b[0mr_ind\u001b[0m\u001b[0;34m,\u001b[0m \u001b[0;36m0\u001b[0m\u001b[0;34m,\u001b[0m \u001b[0;36m0\u001b[0m\u001b[0;34m,\u001b[0m \u001b[0;36m0\u001b[0m\u001b[0;34m,\u001b[0m\u001b[0;36m0\u001b[0m\u001b[0;34m,\u001b[0m\u001b[0;36m0\u001b[0m\u001b[0;34m,\u001b[0m\u001b[0;36m0\u001b[0m\u001b[0;34m]\u001b[0m\u001b[0;34m\u001b[0m\u001b[0;34m\u001b[0m\u001b[0m\n\u001b[0m\u001b[1;32m      5\u001b[0m \u001b[0mols_var\u001b[0m \u001b[0;34m=\u001b[0m \u001b[0mtest_var\u001b[0m\u001b[0;34m[\u001b[0m\u001b[0;34m:\u001b[0m\u001b[0;34m,\u001b[0m \u001b[0mn_ind\u001b[0m\u001b[0;34m,\u001b[0m \u001b[0mnoise_ind\u001b[0m\u001b[0;34m,\u001b[0m \u001b[0mr_ind\u001b[0m\u001b[0;34m,\u001b[0m \u001b[0;36m0\u001b[0m\u001b[0;34m,\u001b[0m \u001b[0;36m0\u001b[0m\u001b[0;34m,\u001b[0m \u001b[0;36m0\u001b[0m\u001b[0;34m,\u001b[0m\u001b[0;36m0\u001b[0m\u001b[0;34m,\u001b[0m\u001b[0;36m0\u001b[0m\u001b[0;34m,\u001b[0m\u001b[0;36m0\u001b[0m\u001b[0;34m]\u001b[0m\u001b[0;34m\u001b[0m\u001b[0;34m\u001b[0m\u001b[0m\n\u001b[1;32m      6\u001b[0m \u001b[0;34m\u001b[0m\u001b[0m\n",
      "\u001b[0;31mNameError\u001b[0m: name 'test_bias' is not defined"
     ]
    }
   ],
   "source": [
    "r_ind = 1 # r=0.1\n",
    "n_ind = 3 # n=100\n",
    "noise_ind = 2 #noise variance = 0.5\n",
    "ols_bias = test_bias[:, n_ind, noise_ind, r_ind, 0, 0, 0,0,0,0]\n",
    "ols_var = test_var[:, n_ind, noise_ind, r_ind, 0, 0, 0,0,0,0]\n",
    "\n",
    "fig, ax = plt.subplots()\n",
    "ax.plot(order, ols_bias, 'k', label = \"bias\")\n",
    "ax.plot(order, ols_var, 'b', label = \"variance\")\n",
    "ax.legend()\n",
    "ax.set_xlabel(\"order of ploynomial\")\n",
    "\n",
    "def plotOLSstats(num_point, test_ratio, var):\n",
    "    n_ind = 0\n",
    "    for i in range(len(num_points)):\n",
    "        if num_point == num_points[i]:\n",
    "            n_ind = i\n",
    "    r_ind = 0\n",
    "    for i in range(len(test_ratio_array)):\n",
    "        if test_ratio == test_ratio_array[i]:\n",
    "            r_ind = i\n",
    "    noise_ind = 0\n",
    "    for i in range(len(noise_var)):\n",
    "        if var == noise_var[i]:\n",
    "            r_ind = i\n",
    "            \n",
    "    ols_bias = test_bias[:, n_ind, noise_ind, r_ind, 0, 0, 0,0,0,0,0]\n",
    "    ols_var = test_var[:, n_ind, noise_ind, r_ind, 0, 0, 0,0,0,0,0]\n",
    "\n",
    "    fig, ax = plt.subplots()\n",
    "    ax.plot(order, ols_bias, 'k', label = \"bias\")\n",
    "    ax.plot(order, ols_var, 'b', label = \"variance\")\n",
    "    ax.legend()\n",
    "    ax.set_xlabel(\"order of ploynomial\")\n",
    "    \n",
    "widget.interact(plotOLSstats, num_point=num_points.tolist(), \n",
    "                test_ratio=test_ratio.tolist(), var=noise_var.tolist())"
   ]
  },
  {
   "cell_type": "code",
   "execution_count": 41,
   "id": "dc103f1c",
   "metadata": {
    "ExecuteTime": {
     "end_time": "2021-11-30T14:21:22.776097Z",
     "start_time": "2021-11-30T14:21:22.658631Z"
    }
   },
   "outputs": [
    {
     "data": {
      "text/plain": [
       "[<matplotlib.lines.Line2D at 0x7f14c6daae20>,\n",
       " <matplotlib.lines.Line2D at 0x7f14c6daae50>,\n",
       " <matplotlib.lines.Line2D at 0x7f14c6daaf70>]"
      ]
     },
     "execution_count": 41,
     "metadata": {},
     "output_type": "execute_result"
    },
    {
     "data": {
      "image/png": "[encoded data removed]",
      "text/plain": [
       "<Figure size 432x288 with 1 Axes>"
      ]
     },
     "metadata": {
      "needs_background": "light"
     },
     "output_type": "display_data"
    }
   ],
   "source": [
    "r_ind = 0 # r=0.1\n",
    "n_ind = 0 # n=100\n",
    "noise_ind = 4 #noise variance = 0.5\n",
    "ols_testMSE = test_MSE[:, n_ind, noise_ind, r_ind, 0, 0, 0,0,0,0]\n",
    "ols_trainMSE = train_MSE[:, n_ind, noise_ind, r_ind, 0, 0, 0,0,0,0]\n",
    "\n",
    "fig, ax = plt.subplots()\n",
    "ax.plot(order, ols_testMSE, 'k')\n",
    "ax.plot(order, ols_trainMSE, 'b')"
   ]
  },
  {
   "cell_type": "code",
   "execution_count": 37,
   "id": "b5e1b7f8",
   "metadata": {
    "ExecuteTime": {
     "end_time": "2021-11-30T14:21:23.853004Z",
     "start_time": "2021-11-30T14:21:23.734143Z"
    }
   },
   "outputs": [
    {
     "data": {
      "text/plain": [
       "[<matplotlib.lines.Line2D at 0x7f14c7181f10>,\n",
       " <matplotlib.lines.Line2D at 0x7f14c7181f40>,\n",
       " <matplotlib.lines.Line2D at 0x7f14c7181f70>]"
      ]
     },
     "execution_count": 37,
     "metadata": {},
     "output_type": "execute_result"
    },
    {
     "data": {
      "image/png": "[encoded data removed]",
      "text/plain": [
       "<Figure size 432x288 with 1 Axes>"
      ]
     },
     "metadata": {
      "needs_background": "light"
     },
     "output_type": "display_data"
    }
   ],
   "source": [
    "r_ind = 1 # r=0.1\n",
    "n_ind = 3 # n=100\n",
    "noise_ind = 2 #noise variance = 0.5\n",
    "ols_bias = test_bias[:, n_ind, noise_ind, r_ind, 0, 0, 0,0,0,0]\n",
    "ols_var = test_var[:, n_ind, noise_ind, r_ind, 0, 0, 0,0,0,0]\n",
    "\n",
    "fig, ax = plt.subplots()\n",
    "ax.plot(order, ols_bias, 'k')\n",
    "ax.plot(order, ols_var, 'b')"
   ]
  },
  {
   "cell_type": "code",
   "execution_count": 42,
   "id": "5a7d30ca",
   "metadata": {
    "ExecuteTime": {
     "end_time": "2021-11-29T16:23:59.115233Z",
     "start_time": "2021-11-29T16:23:58.979026Z"
    }
   },
   "outputs": [
    {
     "data": {
      "text/plain": [
       "<matplotlib.legend.Legend at 0x7f14c6d742e0>"
      ]
     },
     "execution_count": 42,
     "metadata": {},
     "output_type": "execute_result"
    },
    {
     "data": {
      "image/png": "[encoded data removed]",
      "text/plain": [
       "<Figure size 432x288 with 1 Axes>"
      ]
     },
     "metadata": {
      "needs_background": "light"
     },
     "output_type": "display_data"
    }
   ],
   "source": [
    "r_ind = 1 # r=0.1\n",
    "n_ind = 3 # n=100\n",
    "noise_ind = 2 #noise variance = 0.5\n",
    "ols_testMSE = test_MSE[:, n_ind, noise_ind, r_ind, 0, 0, 0,0,0,0]\n",
    "ols_trainMSE = train_MSE[:, n_ind, noise_ind, r_ind, 0, 0, 0,0,0,0]\n",
    "\n",
    "fig, ax = plt.subplots()\n",
    "ax.plot(order, ols_testMSE, 'k', label=\"testMSE\")\n",
    "ax.plot(order, ols_trainMSE, 'b', label=\"trainMSE\")\n",
    "ax.legend()"
   ]
  },
  {
   "cell_type": "markdown",
   "id": "c9d7aaff",
   "metadata": {},
   "source": [
    "## Functions of model complexity for OLS"
   ]
  },
  {
   "cell_type": "code",
   "execution_count": 44,
   "id": "78424b91",
   "metadata": {
    "ExecuteTime": {
     "end_time": "2021-11-30T15:38:08.351019Z",
     "start_time": "2021-11-30T15:38:06.721288Z"
    }
   },
   "outputs": [
    {
     "data": {
      "application/vnd.jupyter.widget-view+json": {
       "model_id": "9d46d53cc8a14ed6a2199ded65bf5303",
       "version_major": 2,
       "version_minor": 0
      },
      "text/plain": [
       "interactive(children=(IntSlider(value=100, description='n', max=200, min=10, step=10), FloatSlider(value=0.0, …"
      ]
     },
     "metadata": {},
     "output_type": "display_data"
    },
    {
     "data": {
      "text/plain": [
       "<function __main__.OLS_study(n, var, r)>"
      ]
     },
     "execution_count": 44,
     "metadata": {},
     "output_type": "execute_result"
    }
   ],
   "source": [
    "def OLS_study(n, var, r):\n",
    "    n=np.array([n])\n",
    "    var=np.array([var])\n",
    "    r=np.array([r])\n",
    "    order = np.arange(1,21)\n",
    "    method=\"ols\"\n",
    "    train_MSE, test_MSE, train_R2, test_R2, test_bias, test_var = apply_regression(order, n, var, r)\n",
    "    fig, ax = plt.subplots(3,1, figsize=(8,8))\n",
    "    ax[0].plot(order, train_MSE[:,0,0,0,0,0,0,0,0,0,0], 'k', label=\"train MSE\")\n",
    "    ax[0].plot(order, test_MSE[:,0,0,0,0,0,0,0,0,0,0], 'b', label=\"test MSE\")\n",
    "    ax[1].plot(order, test_bias[:,0,0,0,0,0,0,0,0,0,0], 'k', label=\"bias\")\n",
    "    ax[1].plot(order, test_var[:,0,0,0,0,0,0,0,0,0,0], 'b', label=\"variance\")\n",
    "    ax[2].plot(order, train_R2[:,0,0,0,0,0,0,0,0,0,0], 'k', label=\"train R2\")\n",
    "    ax[2].plot(order, test_R2[:,0,0,0,0,0,0,0,0,0,0], 'b', label=\"test R2\")\n",
    "    ax[0].legend()\n",
    "    ax[1].legend()\n",
    "    ax[2].legend()\n",
    "widget.interact(OLS_study, n=(10,200,10), var=(0,1,0.25), r=(0.1,0.5,0.1))"
   ]
  },
  {
   "cell_type": "code",
   "execution_count": 45,
   "id": "c9dc0f57",
   "metadata": {},
   "outputs": [
    {
     "data": {
      "application/vnd.jupyter.widget-view+json": {
       "model_id": "bb3adc9b945c49879c5a5bb540db383b",
       "version_major": 2,
       "version_minor": 0
      },
      "text/plain": [
       "interactive(children=(IntSlider(value=30, description='n', max=50, min=10, step=10), FloatSlider(value=0.0, de…"
      ]
     },
     "metadata": {},
     "output_type": "display_data"
    },
    {
     "data": {
      "text/plain": [
       "<function __main__.lasso_study(n, var, r, lam)>"
      ]
     },
     "execution_count": 45,
     "metadata": {},
     "output_type": "execute_result"
    }
   ],
   "source": [
    "def lasso_study(n, var, r, lam):\n",
    "    n = np.array([n])\n",
    "    var = np.array([var])\n",
    "    r = np.array([r])\n",
    "    lam = np.array([lam])\n",
    "    order = np.arange(1,11)\n",
    "    method = \"lasso\"\n",
    "    train_MSE, test_MSE, train_R2, test_R2, test_bias, test_var = apply_regression(order, n, var,\n",
    "                                                                                   r, lasso_lambda=lam, reg_type=\"lasso\")\n",
    "    print(order.shape)\n",
    "    fig, ax = plt.subplots(3,1, figsize=(8,8))\n",
    "    ax[0].plot(order, train_MSE[:,0,0,0,0,0,0,0,0,0,0], 'k', label=\"train MSE\")\n",
    "    ax[0].plot(order, test_MSE[:,0,0,0,0,0,0,0,0,0,0], 'b', label=\"test MSE\")\n",
    "    ax[1].plot(order, test_bias[:,0,0,0,0,0,0,0,0,0,0], 'k', label=\"bias\")\n",
    "    ax[1].plot(order, test_var[:,0,0,0,0,0,0,0,0,0,0], 'b', label=\"variance\")\n",
    "    ax[2].plot(order, train_R2[:,0,0,0,0,0,0,0,0,0,0], 'k', label=\"train R2\")\n",
    "    ax[2].plot(order, test_R2[:,0,0,0,0,0,0,0,0,0,0], 'b', label=\"test R2\")\n",
    "    ax[0].legend()\n",
    "    ax[1].legend()\n",
    "    ax[2].legend()\n",
    "import warnings\n",
    "warnings.filterwarnings(\"ignore\")\n",
    "widget.interact(lasso_study, n=(10,50,10), var=(0,1,0.25), r=(0.1,0.5,0.1), lam=np.logspace(-5,0,11).tolist())"
   ]
  },
  {
   "cell_type": "code",
   "execution_count": null,
   "id": "c67169f5",
   "metadata": {},
   "outputs": [],
   "source": []
  }
 ],
 "metadata": {
  "kernelspec": {
   "display_name": "Python 3 (ipykernel)",
   "language": "python",
   "name": "python3"
  },
  "language_info": {
   "codemirror_mode": {
    "name": "ipython",
    "version": 3
   },
   "file_extension": ".py",
   "mimetype": "text/x-python",
   "name": "python",
   "nbconvert_exporter": "python",
   "pygments_lexer": "ipython3",
   "version": "3.9.7"
  },
  "toc": {
   "base_numbering": 1,
   "nav_menu": {},
   "number_sections": true,
   "sideBar": true,
   "skip_h1_title": false,
   "title_cell": "Table of Contents",
   "title_sidebar": "Contents",
   "toc_cell": false,
   "toc_position": {
    "height": "calc(100% - 180px)",
    "left": "10px",
    "top": "150px",
    "width": "384px"
   },
   "toc_section_display": true,
   "toc_window_display": true
  },
  "varInspector": {
   "cols": {
    "lenName": 16,
    "lenType": 16,
    "lenVar": 40
   },
   "kernels_config": {
    "python": {
     "delete_cmd_postfix": "",
     "delete_cmd_prefix": "del ",
     "library": "var_list.py",
     "varRefreshCmd": "print(var_dic_list())"
    },
    "r": {
     "delete_cmd_postfix": ") ",
     "delete_cmd_prefix": "rm(",
     "library": "var_list.r",
     "varRefreshCmd": "cat(var_dic_list()) "
    }
   },
   "types_to_exclude": [
    "module",
    "function",
    "builtin_function_or_method",
    "instance",
    "_Feature"
   ],
   "window_display": false
  }
 },
 "nbformat": 4,
 "nbformat_minor": 5
}
