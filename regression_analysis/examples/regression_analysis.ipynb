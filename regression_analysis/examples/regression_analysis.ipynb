{
 "cells": [
  {
   "cell_type": "markdown",
   "id": "2c1ea9a1",
   "metadata": {
    "ExecuteTime": {
     "end_time": "2021-11-17T20:26:49.729908Z",
     "start_time": "2021-11-17T20:26:49.723956Z"
    }
   },
   "source": [
    "# Importing Libraries"
   ]
  },
  {
   "cell_type": "code",
   "execution_count": 1,
   "id": "6c2fdd27",
   "metadata": {
    "ExecuteTime": {
     "end_time": "2021-11-30T14:12:00.859063Z",
     "start_time": "2021-11-30T14:12:00.836654Z"
    }
   },
   "outputs": [],
   "source": [
    "%load_ext autoreload\n",
    "%autoreload 2"
   ]
  },
  {
   "cell_type": "code",
   "execution_count": 2,
   "id": "6cedf291",
   "metadata": {
    "ExecuteTime": {
     "end_time": "2021-11-30T14:12:02.127645Z",
     "start_time": "2021-11-30T14:12:01.127251Z"
    }
   },
   "outputs": [
    {
     "name": "stdout",
     "output_type": "stream",
     "text": [
      "Number of processors:  8\n"
     ]
    }
   ],
   "source": [
    "%matplotlib inline\n",
    "\n",
    "from regression_analysis.fit_model import linear_regression\n",
    "from regression_analysis.utils import franke\n",
    "from regression_analysis.utils.plots import triangulation_for_triheatmap as triheatmap\n",
    "from regression_analysis.fit_model.apply_regression import plot_stat, apply_regression\n",
    "import numpy as np\n",
    "import matplotlib.pyplot as plt\n",
    "\n",
    "from matplotlib.tri import Triangulation\n",
    "from matplotlib.ticker import AutoMinorLocator, MultipleLocator\n",
    "import seaborn as sns\n",
    "\n",
    "from sklearn.model_selection import train_test_split\n",
    "from sklearn import linear_model\n",
    "\n",
    "import ipywidgets as widget\n",
    "from ipywidgets import interact, interactive, fixed, interact_manual\n",
    "\n",
    "import glob as glob\n",
    "from IPython.display import Image, display, HTML, Video\n",
    "\n",
    "import multiprocessing as mp\n",
    "\n",
    "import os\n",
    "if not os.path.exists('data'):\n",
    "    os.makedirs('data')\n",
    "#note my bootstrap can be wrong. \n",
    "\n",
    "print(\"Number of processors: \", mp.cpu_count())"
   ]
  },
  {
   "cell_type": "markdown",
   "id": "a609d53b",
   "metadata": {
    "ExecuteTime": {
     "end_time": "2021-11-17T20:24:29.410589Z",
     "start_time": "2021-11-17T20:24:29.408506Z"
    }
   },
   "source": [
    "# Demo for applying regression to Franke data "
   ]
  },
  {
   "cell_type": "code",
   "execution_count": 7,
   "id": "9b584e68",
   "metadata": {
    "ExecuteTime": {
     "end_time": "2021-11-30T14:15:00.857613Z",
     "start_time": "2021-11-30T14:15:00.844063Z"
    }
   },
   "outputs": [
    {
     "name": "stdout",
     "output_type": "stream",
     "text": [
      "1.2195347797082343\n"
     ]
    }
   ],
   "source": [
    "n = 100 #number of data points along each axis. Total data points = n*n\n",
    "x1 = np.linspace(0,1,n)\n",
    "x2 = np.linspace(0,1,n)\n",
    "xx1, xx2 = np.meshgrid(x1, x2)\n",
    "xx1 = xx1.reshape((n*n),1)\n",
    "xx2 = xx2.reshape((n*n),1)\n",
    "\n",
    "y = franke.Franke(xx1, xx2, noise_var=0.0) #zero mean gaussian noise has variance = var\n",
    "print(np.max(y))"
   ]
  },
  {
   "cell_type": "code",
   "execution_count": 8,
   "id": "c238ad66",
   "metadata": {
    "ExecuteTime": {
     "end_time": "2021-11-30T14:15:00.956879Z",
     "start_time": "2021-11-30T14:15:00.945749Z"
    }
   },
   "outputs": [],
   "source": [
    "#create linear regression object by passing input and output data\n",
    "linear_reg = linear_regression.linear_regression2D(xx1, xx2, y) "
   ]
  },
  {
   "cell_type": "markdown",
   "id": "b3ed0579",
   "metadata": {},
   "source": [
    "## Apply OLS "
   ]
  },
  {
   "cell_type": "code",
   "execution_count": 11,
   "id": "9e297d82",
   "metadata": {
    "ExecuteTime": {
     "end_time": "2021-11-30T14:15:18.399656Z",
     "start_time": "2021-11-30T14:15:18.379092Z"
    }
   },
   "outputs": [
    {
     "name": "stdout",
     "output_type": "stream",
     "text": [
      "own OLS\n",
      "Train MSE 0.0554590261805372\n",
      "Test MSE 0.05584068357048802\n",
      "Train R2 0.0\n",
      "Test R2 -0.0002847332966746663\n",
      "Train bias 0.0554590261805372\n",
      "Test bias 0.05584068357048802\n",
      "Train model variance 0.0\n",
      "Test model variance 0.0\n",
      "\n",
      "Scikit OLS\n",
      "Train MSE 0.05548739582909749\n",
      "Test MSE 0.05559637089653459\n",
      "Train R2 0.0\n",
      "Test R2 -0.0022721479687413115\n",
      "Train bias 0.05548739582909749\n",
      "Test bias 0.055596370896534596\n",
      "Train model variance 1.232595164407831e-32\n",
      "Test model variance 1.232595164407831e-32\n"
     ]
    }
   ],
   "source": [
    "print(\"own OLS\")\n",
    "linear_reg.apply_leastsquares(order=0, test_ratio=0.1, reg_method=\"ols\")\n",
    "print(\"Train MSE\", linear_reg.trainMSE)\n",
    "print(\"Test MSE\", linear_reg.testMSE)\n",
    "print(\"Train R2\", linear_reg.trainR2)\n",
    "print(\"Test R2\", linear_reg.testR2)\n",
    "print(\"Train bias\", linear_reg.trainbias)\n",
    "print(\"Test bias\", linear_reg.testbias)\n",
    "print(\"Train model variance\", linear_reg.trainvar)\n",
    "print(\"Test model variance\", linear_reg.testvar)\n",
    "\n",
    "print('\\n'+ \"Scikit OLS\")\n",
    "linear_reg.apply_leastsquares(order=0, test_ratio=0.1, reg_method=\"scikit_ols\")\n",
    "print(\"Train MSE\", linear_reg.trainMSE)\n",
    "print(\"Test MSE\", linear_reg.testMSE)\n",
    "print(\"Train R2\", linear_reg.trainR2)\n",
    "print(\"Test R2\", linear_reg.testR2)\n",
    "print(\"Train bias\", linear_reg.trainbias)\n",
    "print(\"Test bias\", linear_reg.testbias)\n",
    "print(\"Train model variance\", linear_reg.trainvar)\n",
    "print(\"Test model variance\", linear_reg.testvar)"
   ]
  },
  {
   "cell_type": "code",
   "execution_count": 15,
   "id": "27eaee7a",
   "metadata": {
    "ExecuteTime": {
     "end_time": "2021-11-30T11:35:04.989461Z",
     "start_time": "2021-11-30T11:35:04.413469Z"
    }
   },
   "outputs": [
    {
     "name": "stdout",
     "output_type": "stream",
     "text": [
      "Train MSE 0.0013984075597923648\n",
      "Test MSE 0.0014191812974061926\n",
      "Train R2 0.9748106659930454\n",
      "Test R2 0.9744979106233543\n",
      "Train bias 0.0018104209880546618\n",
      "Test bias 0.0019122420643262294\n",
      "Train model variance 0.001765408345740457\n",
      "Test model variance 0.001850878989683649\n"
     ]
    }
   ],
   "source": [
    "linear_reg.apply_leastsquares_bootstrap(order=5, test_ratio=0.1, n_boots=30, reg_method=\"ols\")\n",
    "print(\"Train MSE\", linear_reg.trainMSE)\n",
    "print(\"Test MSE\", linear_reg.testMSE)\n",
    "print(\"Train R2\", linear_reg.trainR2)\n",
    "print(\"Test R2\", linear_reg.testR2)\n",
    "print(\"Train bias\", linear_reg.trainbias)\n",
    "print(\"Test bias\", linear_reg.testbias)\n",
    "print(\"Train model variance\", linear_reg.trainvar)\n",
    "print(\"Test model variance\", linear_reg.testvar)"
   ]
  },
  {
   "cell_type": "markdown",
   "id": "30bfa940",
   "metadata": {
    "ExecuteTime": {
     "end_time": "2021-11-17T20:27:44.344810Z",
     "start_time": "2021-11-17T20:27:44.341402Z"
    }
   },
   "source": [
    "## Apply OLS with cross validation sampling"
   ]
  },
  {
   "cell_type": "code",
   "execution_count": 16,
   "id": "2daa8a14",
   "metadata": {
    "ExecuteTime": {
     "end_time": "2021-11-30T11:35:05.606214Z",
     "start_time": "2021-11-30T11:35:05.474053Z"
    }
   },
   "outputs": [
    {
     "name": "stdout",
     "output_type": "stream",
     "text": [
      "Train MSE 0.0014020558315986742\n",
      "Test MSE 0.0014115837027936719\n",
      "Train R2 0.9747354984047293\n",
      "Test R2 0.9744913454989845\n",
      "Train bias 0.005549463422831002\n",
      "Test bias 0.005542721905209514\n",
      "Train model variance 0.005409013488928224\n",
      "Test model variance 0.005418968233973594\n"
     ]
    }
   ],
   "source": [
    "linear_reg.apply_leastsquares_crossvalidation(order=5, kfolds=10, reg_method=\"ols\")\n",
    "print(\"Train MSE\", linear_reg.trainMSE)\n",
    "print(\"Test MSE\", linear_reg.testMSE)\n",
    "print(\"Train R2\", linear_reg.trainR2)\n",
    "print(\"Test R2\", linear_reg.testR2)\n",
    "print(\"Train bias\", linear_reg.trainbias)\n",
    "print(\"Test bias\", linear_reg.testbias)\n",
    "print(\"Train model variance\", linear_reg.trainvar)\n",
    "print(\"Test model variance\", linear_reg.testvar)"
   ]
  },
  {
   "cell_type": "markdown",
   "id": "7855d868",
   "metadata": {
    "ExecuteTime": {
     "end_time": "2021-11-17T20:28:20.371789Z",
     "start_time": "2021-11-17T20:28:20.365778Z"
    }
   },
   "source": [
    "## Apply Ridge regression "
   ]
  },
  {
   "cell_type": "code",
   "execution_count": 65,
   "id": "44f21a63",
   "metadata": {
    "ExecuteTime": {
     "end_time": "2021-11-30T12:07:35.361334Z",
     "start_time": "2021-11-30T12:07:35.306120Z"
    }
   },
   "outputs": [
    {
     "name": "stdout",
     "output_type": "stream",
     "text": [
      "own ridge\n",
      "1.0\n",
      "1.0\n",
      "(9000, 21)\n",
      "(21, 1)\n",
      "[[ 0.85648604]\n",
      " [ 0.22686737]\n",
      " [-0.39382138]\n",
      " [-1.94400369]\n",
      " [ 0.85666587]\n",
      " [-1.20010666]\n",
      " [-0.2266717 ]\n",
      " [-0.46105008]\n",
      " [ 0.66804904]\n",
      " [ 0.55500725]\n",
      " [ 0.7888456 ]\n",
      " [-0.22502533]\n",
      " [-0.04682789]\n",
      " [ 0.41986084]\n",
      " [ 0.66013244]\n",
      " [ 0.63283113]\n",
      " [ 0.01816318]\n",
      " [-0.08399274]\n",
      " [-0.13078503]\n",
      " [-0.38594566]\n",
      " [-0.50162792]]\n",
      "Train MSE 0.005689427245090883\n",
      "Test MSE 0.005529876348888792\n",
      "Train R2 0.898083053024311\n",
      "Test R2 0.8947159022533758\n",
      "Train bias 0.05582416037323484\n",
      "Test bias 0.05252733330158577\n",
      "Train model variance 0.04818674769916403\n",
      "Test model variance 0.046818286240102994\n",
      "\n",
      "scikit ridge\n",
      "1.0\n",
      "1.0\n",
      "(9000, 21)\n",
      "(9000, 1)\n",
      "(9000, 21)\n",
      "(21, 1)\n",
      "[[ 0.85616429]\n",
      " [ 0.22756551]\n",
      " [-0.40751542]\n",
      " [-1.93595408]\n",
      " [ 0.87338052]\n",
      " [-1.18414512]\n",
      " [-0.23712284]\n",
      " [-0.4671229 ]\n",
      " [ 0.65983078]\n",
      " [ 0.56264505]\n",
      " [ 0.78356845]\n",
      " [-0.22996667]\n",
      " [-0.05872132]\n",
      " [ 0.4136    ]\n",
      " [ 0.65621241]\n",
      " [ 0.64018857]\n",
      " [ 0.02590215]\n",
      " [-0.08258275]\n",
      " [-0.12530246]\n",
      " [-0.38101573]\n",
      " [-0.50854297]]\n",
      "Train MSE 0.005654048622196916\n",
      "Test MSE 0.00587159392371715\n",
      "Train R2 0.8977555856937305\n",
      "Test R2 0.8974863579657242\n",
      "Train bias 0.05529934725558351\n",
      "Test bias 0.05727926593307216\n",
      "Train model variance 0.04770227446330118\n",
      "Test model variance 0.04967993030498171\n"
     ]
    }
   ],
   "source": [
    "print(\"own ridge\")\n",
    "linear_reg.apply_leastsquares(order=5, test_ratio=0.1, reg_method=\"ridge\", lmbda=0.9)\n",
    "print(\"Train MSE\", linear_reg.trainMSE)\n",
    "print(\"Test MSE\", linear_reg.testMSE)\n",
    "print(\"Train R2\", linear_reg.trainR2)\n",
    "print(\"Test R2\", linear_reg.testR2)\n",
    "print(\"Train bias\", linear_reg.trainbias)\n",
    "print(\"Test bias\", linear_reg.testbias)\n",
    "print(\"Train model variance\", linear_reg.trainvar)\n",
    "print(\"Test model variance\", linear_reg.testvar)\n",
    "\n",
    "print('\\n'+\"scikit ridge\")\n",
    "linear_reg.apply_leastsquares(order=5, test_ratio=0.1, reg_method=\"scikit_ridge\", lmbda=0.9)\n",
    "print(\"Train MSE\", linear_reg.trainMSE)\n",
    "print(\"Test MSE\", linear_reg.testMSE)\n",
    "print(\"Train R2\", linear_reg.trainR2)\n",
    "print(\"Test R2\", linear_reg.testR2)\n",
    "print(\"Train bias\", linear_reg.trainbias)\n",
    "print(\"Test bias\", linear_reg.testbias)\n",
    "print(\"Train model variance\", linear_reg.trainvar)\n",
    "print(\"Test model variance\", linear_reg.testvar)"
   ]
  },
  {
   "cell_type": "markdown",
   "id": "06fb6486",
   "metadata": {
    "ExecuteTime": {
     "end_time": "2021-11-17T20:28:59.997409Z",
     "start_time": "2021-11-17T20:28:59.992330Z"
    }
   },
   "source": [
    "## Apply Ridge regression with bootstrap"
   ]
  },
  {
   "cell_type": "code",
   "execution_count": 18,
   "id": "159e173d",
   "metadata": {
    "ExecuteTime": {
     "end_time": "2021-11-30T11:35:08.833148Z",
     "start_time": "2021-11-30T11:35:08.099989Z"
    }
   },
   "outputs": [
    {
     "name": "stdout",
     "output_type": "stream",
     "text": [
      "Train MSE 0.005669000683865771\n",
      "Test MSE 0.005656011297328789\n",
      "Train R2 0.8980103276891687\n",
      "Test R2 0.8976890963036638\n",
      "Train bias 0.0018518831325762034\n",
      "Test bias 0.0017989358304626917\n",
      "Train model variance 0.0015987095727156753\n",
      "Test model variance 0.001608195369992491\n"
     ]
    }
   ],
   "source": [
    "linear_reg.apply_leastsquares_bootstrap(order=5, test_ratio=0.1, n_boots=30, reg_method=\"ridge\", lmbda=0.9)\n",
    "print(\"Train MSE\", linear_reg.trainMSE)\n",
    "print(\"Test MSE\", linear_reg.testMSE)\n",
    "print(\"Train R2\", linear_reg.trainR2)\n",
    "print(\"Test R2\", linear_reg.testR2)\n",
    "print(\"Train bias\", linear_reg.trainbias)\n",
    "print(\"Test bias\", linear_reg.testbias)\n",
    "print(\"Train model variance\", linear_reg.trainvar)\n",
    "print(\"Test model variance\", linear_reg.testvar)"
   ]
  },
  {
   "cell_type": "markdown",
   "id": "c2375111",
   "metadata": {},
   "source": [
    "## Apply Ridge regression with cross validation"
   ]
  },
  {
   "cell_type": "code",
   "execution_count": 35,
   "id": "1c3c4006",
   "metadata": {
    "ExecuteTime": {
     "end_time": "2021-11-30T11:45:33.138468Z",
     "start_time": "2021-11-30T11:45:32.930216Z"
    },
    "scrolled": true
   },
   "outputs": [
    {
     "name": "stdout",
     "output_type": "stream",
     "text": [
      "Train MSE 0.003587371509561613\n",
      "Test MSE 0.003598697903548515\n",
      "Train R2 0.9353554974487096\n",
      "Test R2 0.9349328061035251\n",
      "Train bias 0.005513842728240411\n",
      "Test bias 0.005844128766990735\n",
      "Train model variance 0.004963311799368649\n",
      "Test model variance 0.005378989319189013\n"
     ]
    }
   ],
   "source": [
    "linear_reg.apply_leastsquares_crossvalidation(order=5, kfolds=10, reg_method=\"ridge\", lmbda=0.1)\n",
    "print(\"Train MSE\", linear_reg.trainMSE)\n",
    "print(\"Test MSE\", linear_reg.testMSE)\n",
    "print(\"Train R2\", linear_reg.trainR2)\n",
    "print(\"Test R2\", linear_reg.testR2)\n",
    "print(\"Train bias\", linear_reg.trainbias)\n",
    "print(\"Test bias\", linear_reg.testbias)\n",
    "print(\"Train model variance\", linear_reg.trainvar)\n",
    "print(\"Test model variance\", linear_reg.testvar)"
   ]
  },
  {
   "cell_type": "markdown",
   "id": "69e1362a",
   "metadata": {},
   "source": [
    "## Apply Lasso regression: Not working properly. High R2 value"
   ]
  },
  {
   "cell_type": "code",
   "execution_count": null,
   "id": "31dd814f",
   "metadata": {
    "ExecuteTime": {
     "end_time": "2021-11-28T16:37:57.957401Z",
     "start_time": "2021-11-28T16:37:57.719836Z"
    }
   },
   "outputs": [],
   "source": []
  },
  {
   "cell_type": "code",
   "execution_count": 112,
   "id": "23a96853",
   "metadata": {
    "ExecuteTime": {
     "end_time": "2021-11-30T12:21:05.775908Z",
     "start_time": "2021-11-30T12:21:05.710316Z"
    }
   },
   "outputs": [
    {
     "name": "stdout",
     "output_type": "stream",
     "text": [
      "[1.00000000e-03 3.16227766e-02 1.00000000e+00 3.16227766e+01\n",
      " 1.00000000e+03]\n",
      "parameter [ 0.62347834 -0.36934721 -0.23393176]\n",
      "Test MSE 0.020093601885187568\n",
      "parameter [ 0.62380736 -0.37052435 -0.2343758 ]\n",
      "Test MSE 0.021480376072250635\n",
      "parameter [ 0.62643308 -0.3730867  -0.23503329]\n",
      "Test MSE 0.020032641002605017\n",
      "parameter [ 0.62285917 -0.37058957 -0.2332106 ]\n",
      "Test MSE 0.022701051023913343\n",
      "parameter [ 0.62229211 -0.36887451 -0.23294795]\n",
      "Test MSE 0.02144851062269013\n"
     ]
    },
    {
     "data": {
      "text/plain": [
       "'\\nprint(\"Train MSE\", linear_reg.trainMSE)\\nprint(\"Test MSE\", linear_reg.testMSE)\\nprint(\"Train R2\", linear_reg.trainR2)\\nprint(\"Test R2\", linear_reg.testR2)\\nprint(\"Train bias\", linear_reg.trainbias)\\nprint(\"Test bias\", linear_reg.testbias)\\nprint(\"Train model variance\", linear_reg.trainvar)\\nprint(\"Test model variance\", linear_reg.testvar)\\n'"
      ]
     },
     "execution_count": 112,
     "metadata": {},
     "output_type": "execute_result"
    }
   ],
   "source": [
    "lam = np.logspace(-3,3,5)\n",
    "print(lam)\n",
    "for lmbda in lam:\n",
    "    linear_reg.apply_leastsquares(order=1, test_ratio=0.1, reg_method=\"scikit_lasso\", lmbda=0.01)\n",
    "    print(\"Test MSE\", linear_reg.testMSE)\n",
    "\n",
    "\"\"\"\n",
    "print(\"Train MSE\", linear_reg.trainMSE)\n",
    "print(\"Test MSE\", linear_reg.testMSE)\n",
    "print(\"Train R2\", linear_reg.trainR2)\n",
    "print(\"Test R2\", linear_reg.testR2)\n",
    "print(\"Train bias\", linear_reg.trainbias)\n",
    "print(\"Test bias\", linear_reg.testbias)\n",
    "print(\"Train model variance\", linear_reg.trainvar)\n",
    "print(\"Test model variance\", linear_reg.testvar)\n",
    "\"\"\""
   ]
  },
  {
   "cell_type": "code",
   "execution_count": null,
   "id": "237dc8dd",
   "metadata": {
    "ExecuteTime": {
     "end_time": "2021-11-28T16:22:48.026552Z",
     "start_time": "2021-11-28T16:22:47.970142Z"
    }
   },
   "outputs": [],
   "source": []
  },
  {
   "cell_type": "markdown",
   "id": "a1cc1b6e",
   "metadata": {
    "ExecuteTime": {
     "end_time": "2021-11-19T14:49:53.922397Z",
     "start_time": "2021-11-19T14:49:53.915295Z"
    }
   },
   "source": [
    "# Regression Comparisons"
   ]
  },
  {
   "cell_type": "code",
   "execution_count": 5,
   "id": "b0d6afaa",
   "metadata": {
    "ExecuteTime": {
     "end_time": "2021-11-30T14:12:22.301167Z",
     "start_time": "2021-11-30T14:12:22.285674Z"
    }
   },
   "outputs": [
    {
     "name": "stdout",
     "output_type": "stream",
     "text": [
      "[1.e-05 1.e-04 1.e-03 1.e-02]\n",
      "[0.1 0.2 0.3 0.4]\n"
     ]
    }
   ],
   "source": [
    "# For all methods except OLS we apply the following parameters\n",
    "order = np.arange(1,13)\n",
    "num_points = np.array([25, 50, 75, 100])\n",
    "noise_var = np.array([0.0, 0.25, 0.5, 0.75, 1.0])\n",
    "test_ratio_array = np.round(np.arange(1,5)*0.1, 2)\n",
    "\n",
    "n_boots = np.array([5, 10], dtype=int)\n",
    "k_folds = np.array([5, 10], dtype=int)\n",
    "ridge_lambda = np.array([0.001, 0.01, 0.1, 1.0])\n",
    "lasso_lambda = np.array([0.00001, 0.0001, 0.001, 0.01])#, 10.0])\n",
    "print(lasso_lambda)\n",
    "print(test_ratio_array)"
   ]
  },
  {
   "cell_type": "code",
   "execution_count": 117,
   "id": "24d9a21a",
   "metadata": {
    "ExecuteTime": {
     "end_time": "2021-11-30T12:23:53.121896Z",
     "start_time": "2021-11-30T12:23:53.097534Z"
    }
   },
   "outputs": [],
   "source": [
    "# Save values in numpy file format\n",
    "np.save(\"data/order.npy\", order)\n",
    "np.save(\"data/num_points.npy\", num_points)\n",
    "np.save(\"data/noise_var.npy\", noise_var)\n",
    "np.save(\"data/test_ratio_array.npy\", test_ratio_array)\n",
    "np.save(\"data/k_folds.npy\", k_folds)\n",
    "np.save(\"data/n_boots.npy\", n_boots)\n",
    "np.save(\"data/ridge_lambda.npy\", ridge_lambda)\n",
    "np.save(\"data/lasso_lambda.npy\", lasso_lambda)"
   ]
  },
  {
   "cell_type": "markdown",
   "id": "749a0864",
   "metadata": {
    "ExecuteTime": {
     "end_time": "2021-11-24T09:44:32.230857Z",
     "start_time": "2021-11-24T09:44:31.913116Z"
    }
   },
   "source": [
    "Perform\n",
    "* Ordinary Least Squares(OLS) with scikit-learn test train split, own bootstrap, own cross-validation\n",
    "* Ridge Regression(RR) with scikit-learn test train split, own bootstrap, own cross-validation\n",
    "* Scikit Lasso Regression(LR) with scikit-learn test train split, own bootstrap, own cross-validation\n",
    "* Scikit OLS with scikit-learn test train split. Note: this is just for comparing OLS to Scikit-OLS\n",
    "* Scikit RR with scikit-learn test train split. Note: this is just for comparing OLS to Scikit-OLS\n",
    "\n",
    "and save output."
   ]
  },
  {
   "cell_type": "raw",
   "id": "bbd2c081",
   "metadata": {
    "ExecuteTime": {
     "end_time": "2021-11-29T13:42:18.520097Z",
     "start_time": "2021-11-29T13:42:05.184340Z"
    }
   },
   "source": [
    "# Define for which regression methods and resampling techniques the statistical indicators should be calculated\n",
    "#methods = [\"ols\", \"ols_bootstrap\", \"ols_crossvalidation\", \"ridge\", \n",
    "#           \"ridge_bootstrap\", \"ridge_crossvalidation\", \"lasso\", \"lasso_bootstrap\",\n",
    "#           \"lasso_crossvalidation\"]\n",
    "methods = [\"lasso\", \"lasso_bootstrap\", \"lasso_crossvalidation\"]\n",
    "print(lasso_lambda)\n",
    "# Loop over specified methods\n",
    "for method in methods:\n",
    "    if(method == \"ols_crossvalidation\" or method == \"ridge_crossvalidation\" or method == \"lasso_crossvalidation\"):\n",
    "        test_ratio_array = np.ones(1)*0.1\n",
    "    if(method != \"ols_bootstrap\" and method != \"ridge_bootstrap\" and method != \"lasso_bootstrap\"):\n",
    "        n_boots = np.ones(1, dtype=int)\n",
    "    if(method != \"ols_crossvalidation\" and method != \"ridge_crossvalidation\" and method != \"lasso_crossvalidation\"):\n",
    "        k_folds = np.ones(1, dtype=int)\n",
    "    if(method != \"ridge\" and method != \"ridge_bootstrap\" and method != \"ridge_crossvalidation\"):\n",
    "        ridge_lambda = np.ones(1)\n",
    "    if(method != \"lasso\" and method != \"lasso_bootstrap\" and method != \"lasso_crossvalidation\"):\n",
    "        lasso_lambda = np.ones(1)\n",
    "    # Calculate statistical indicators\n",
    "    train_MSE, test_MSE, train_R2, test_R2, test_bias, test_var = apply_regression(order, num_points, noise_var, \n",
    "                                                                                   test_ratio_array, \n",
    "                                                                                   n_boots=n_boots, \n",
    "                                                                                   k_folds=k_folds, \n",
    "                                                                                   ridge_lambda=ridge_lambda, \n",
    "                                                                                   lasso_lambda=lasso_lambda, \n",
    "                                                                                   reg_type=method)\n",
    "    # Save output\n",
    "    test_ratio_array=np.load(\"data/test_ratio_array.npy\")\n",
    "    print(lasso_lambda)\n",
    "    ridge_lambda=np.load(\"data/ridge_lambda.npy\")\n",
    "    lasso_lambda=np.load(\"data/lasso_lambda.npy\")\n",
    "    k_folds=np.load(\"data/k_folds.npy\")\n",
    "    n_boots=np.load(\"data/n_boots.npy\")\n",
    "    np.save(\"data/train_MSE\"+str(method)+\".npy\", train_MSE)\n",
    "    np.save(\"data/test_MSE\"+str(method)+\".npy\", test_MSE)\n",
    "    np.save(\"data/train_R2\"+str(method)+\".npy\", train_R2)\n",
    "    np.save(\"data/test_R2\"+str(method)+\".npy\", test_R2)\n",
    "    np.save(\"data/test_bias\"+str(method)+\".npy\", test_bias)\n",
    "    np.save(\"data/test_variance\"+str(method)+\".npy\", test_var)\n",
    "    # To track loop progress print size of MSE output\n",
    "    print(train_MSE.shape)\n"
   ]
  },
  {
   "cell_type": "raw",
   "id": "b32ba35d",
   "metadata": {
    "ExecuteTime": {
     "start_time": "2021-11-30T12:24:30.367Z"
    }
   },
   "source": [
    "pool = mp.Pool(processes=3)\n",
    "#methods = methods = [\"e\",\"e\",\"d\", \"d\", \"s\",\"d\", \"d\", \"s\", \"ols\", \"ridge_crossvalidation\", \"lasso\", \"lasso_bootstrap\",\n",
    "#           \"lasso_crossvalidation\", \"ols_bootstrap\", \"ols_crossvalidation\", \"ridge\", \n",
    "#           \"ridge_bootstrap\"]\n",
    "methods = methods = [\"e\",\"e\",\"d\", \"d\", \"s\",\"d\", \"d\", \"s\", \"lasso\", \"lasso_bootstrap\",\n",
    "           \"lasso_crossvalidation\"]\n",
    "def run_regression(method):\n",
    "    print(method)\n",
    "    order = np.load(\"data/order.npy\")\n",
    "    num_points = np.load(\"data/num_points.npy\")\n",
    "    noise_var = np.load(\"data/noise_var.npy\")\n",
    "    test_ratio_array = np.load(\"data/test_ratio_array.npy\")\n",
    "    k_folds = np.load(\"data/k_folds.npy\")\n",
    "    n_boots = np.load(\"data/n_boots.npy\")\n",
    "    ridge_lambda = np.load(\"data/ridge_lambda.npy\")\n",
    "    lasso_lambda = np.load(\"data/lasso_lambda.npy\")\n",
    "    \n",
    "    if(method == \"ols_crossvalidation\" or method == \"ridge_crossvalidation\" or method == \"lasso_crossvalidation\"):\n",
    "        test_ratio_array = np.ones(1)*0.1\n",
    "    if(method != \"ols_bootstrap\" and method != \"ridge_bootstrap\" and method != \"lasso_bootstrap\"):\n",
    "        n_boots = np.ones(1, dtype=int)\n",
    "    if(method != \"ols_crossvalidation\" and method != \"ridge_crossvalidation\" and method != \"lasso_crossvalidation\"):\n",
    "        k_folds = np.ones(1, dtype=int)\n",
    "    if(method != \"ridge\" and method != \"ridge_bootstrap\" and method != \"ridge_crossvalidation\"):\n",
    "        ridge_lambda = np.ones(1)\n",
    "    if(method != \"lasso\" and method != \"lasso_bootstrap\" and method != \"lasso_crossvalidation\"):\n",
    "        lasso_lambda = np.ones(1)\n",
    "    # Calculate statistical indicators\n",
    "    train_MSE, test_MSE, train_R2, test_R2, test_bias, test_var = apply_regression(order, num_points, noise_var, \n",
    "                                                                                   test_ratio_array, \n",
    "                                                                                   n_boots=n_boots, \n",
    "                                                                                   k_folds=k_folds, \n",
    "                                                                                   ridge_lambda=ridge_lambda, \n",
    "                                                                                   lasso_lambda=lasso_lambda, \n",
    "                                                                                   reg_type=method)\n",
    "    # Save output\n",
    "    test_ratio_array=np.load(\"data/test_ratio_array.npy\")\n",
    "    print(lasso_lambda)\n",
    "    ridge_lambda=np.load(\"data/ridge_lambda.npy\")\n",
    "    lasso_lambda=np.load(\"data/lasso_lambda.npy\")\n",
    "    k_folds=np.load(\"data/k_folds.npy\")\n",
    "    n_boots=np.load(\"data/n_boots.npy\")\n",
    "    np.save(\"data/train_MSE\"+str(method)+\".npy\", train_MSE)\n",
    "    np.save(\"data/test_MSE\"+str(method)+\".npy\", test_MSE)\n",
    "    np.save(\"data/train_R2\"+str(method)+\".npy\", train_R2)\n",
    "    np.save(\"data/test_R2\"+str(method)+\".npy\", test_R2)\n",
    "    np.save(\"data/test_bias\"+str(method)+\".npy\", test_bias)\n",
    "    np.save(\"data/test_variance\"+str(method)+\".npy\", test_var)\n",
    "    # To track loop progress print size of MSE output\n",
    "    print(train_MSE.shape)\n",
    "    print(\"finished \", method)\n",
    "    return 0\n",
    "    \n",
    "[pool.map(run_regression, methods)]"
   ]
  },
  {
   "cell_type": "code",
   "execution_count": 6,
   "id": "6fb99ba3",
   "metadata": {
    "ExecuteTime": {
     "end_time": "2021-11-30T14:12:27.597263Z",
     "start_time": "2021-11-30T14:12:27.252155Z"
    }
   },
   "outputs": [
    {
     "name": "stdout",
     "output_type": "stream",
     "text": [
      "[1.e-05 1.e-04 1.e-03 1.e-02]\n"
     ]
    },
    {
     "data": {
      "application/vnd.jupyter.widget-view+json": {
       "model_id": "5b7842e6b1924377bf7a217a5e78071c",
       "version_major": 2,
       "version_minor": 0
      },
      "text/plain": [
       "interactive(children=(Dropdown(description='ratio', options=(0.1, 0.2, 0.3, 0.4), value=0.1), Dropdown(descrip…"
      ]
     },
     "metadata": {},
     "output_type": "display_data"
    },
    {
     "data": {
      "text/plain": [
       "<function regression_analysis.fit_model.apply_regression.plot_stat(ratio=0.1, num=100, stat='test MSE', method='ols', n_boot=1000, k_fold=1000, ridge_lmb=122.0, lasso_lmb=112.2)>"
      ]
     },
     "execution_count": 6,
     "metadata": {},
     "output_type": "execute_result"
    }
   ],
   "source": [
    "methods = [\"ols\", \"ols_bootstrap\", \"ols_crossvalidation\", \"ridge\", \"ridge_bootstrap\", \"ridge_crossvalidation\",\n",
    "           \"lasso\", \"lasso_bootstrap\", \"lasso_crossvalidation\"]\n",
    "stats = [\"train MSE\", \"test MSE\", \"test R2\", \"train R2\", \"test bias\", \"test variance\"]\n",
    "print(lasso_lambda)\n",
    "widget.interact(plot_stat, ratio=test_ratio_array.tolist(), num=num_points.tolist(), stat=stats, \n",
    "                method=methods, k_fold=k_folds.tolist(), n_boot=n_boots.tolist(),\n",
    "                ridge_lmb=ridge_lambda.tolist(), lasso_lmb=lasso_lambda.tolist())"
   ]
  },
  {
   "cell_type": "markdown",
   "id": "a8b5a7a2",
   "metadata": {
    "ExecuteTime": {
     "end_time": "2021-11-24T09:59:44.885373Z",
     "start_time": "2021-11-24T09:59:44.885362Z"
    }
   },
   "source": [
    "# Bias Variance Tradeoff"
   ]
  },
  {
   "cell_type": "code",
   "execution_count": 34,
   "id": "7d153594",
   "metadata": {
    "ExecuteTime": {
     "end_time": "2021-11-29T16:26:59.114755Z",
     "start_time": "2021-11-29T16:26:59.075918Z"
    }
   },
   "outputs": [],
   "source": [
    "#loading data\n",
    "method = \"ols\"\n",
    "order=np.load(\"data/order.npy\")\n",
    "num_points=np.load(\"data/num_points.npy\")\n",
    "noise_var=np.load(\"data/noise_var.npy\")\n",
    "test_ratio_array=np.load(\"data/test_ratio_array.npy\")\n",
    "ridge_lambda=np.load(\"data/ridge_lambda.npy\")\n",
    "k_folds=np.load(\"data/k_folds.npy\")\n",
    "n_boots=np.load(\"data/n_boots.npy\")\n",
    "train_MSE=np.load(\"data/train_MSE\"+method+\".npy\")\n",
    "test_MSE=np.load(\"data/test_MSE\"+method+\".npy\")\n",
    "train_R2=np.load(\"data/train_R2\"+method+\".npy\")\n",
    "test_R2=np.load(\"data/test_R2\"+method+\".npy\")\n",
    "test_bias=np.load(\"data/test_bias\"+method+\".npy\")\n",
    "test_var=np.load(\"data/test_variance\"+method+\".npy\")"
   ]
  },
  {
   "cell_type": "markdown",
   "id": "22ce159b",
   "metadata": {},
   "source": [
    "For Ordinary least squares, we find the bias variance tradeoff as a function of model complexity: order of polynomial. We determine it for fixed test ratio and noise level"
   ]
  },
  {
   "cell_type": "code",
   "execution_count": 39,
   "id": "cffb0ff4",
   "metadata": {
    "ExecuteTime": {
     "end_time": "2021-11-29T16:28:00.292456Z",
     "start_time": "2021-11-29T16:28:00.125757Z"
    }
   },
   "outputs": [
    {
     "data": {
      "text/plain": [
       "Text(0.5, 0, 'order of ploynomial')"
      ]
     },
     "execution_count": 39,
     "metadata": {},
     "output_type": "execute_result"
    },
    {
     "data": {
      "image/png": "[encoded data removed]",
      "text/plain": [
       "<Figure size 432x288 with 1 Axes>"
      ]
     },
     "metadata": {
      "needs_background": "light"
     },
     "output_type": "display_data"
    }
   ],
   "source": [
    "r_ind = 1 # r=0.1\n",
    "n_ind = 3 # n=100\n",
    "noise_ind = 2 #noise variance = 0.5\n",
    "ols_bias = test_bias[:, n_ind, noise_ind, r_ind, 0, 0, 0]\n",
    "ols_var = test_var[:, n_ind, noise_ind, r_ind, 0, 0, 0]\n",
    "\n",
    "fig, ax = plt.subplots()\n",
    "ax.plot(order, ols_bias, 'k', label = \"bias\")\n",
    "ax.plot(order, ols_var, 'b', label = \"variance\")\n",
    "ax.legend()\n",
    "ax.set_xlabel(\"order of ploynomial\")\n"
   ]
  },
  {
   "cell_type": "code",
   "execution_count": 30,
   "id": "dc103f1c",
   "metadata": {
    "ExecuteTime": {
     "end_time": "2021-11-29T16:23:55.196344Z",
     "start_time": "2021-11-29T16:23:55.074495Z"
    }
   },
   "outputs": [
    {
     "data": {
      "text/plain": [
       "[<matplotlib.lines.Line2D at 0x7f58c84b01c0>]"
      ]
     },
     "execution_count": 30,
     "metadata": {},
     "output_type": "execute_result"
    },
    {
     "data": {
      "image/png": "[encoded data removed]",
      "text/plain": [
       "<Figure size 432x288 with 1 Axes>"
      ]
     },
     "metadata": {
      "needs_background": "light"
     },
     "output_type": "display_data"
    }
   ],
   "source": [
    "r_ind = 0 # r=0.1\n",
    "n_ind = 0 # n=100\n",
    "noise_ind = 4 #noise variance = 0.5\n",
    "ols_testMSE = test_MSE[:, n_ind, noise_ind, r_ind, 0, 0, 0]\n",
    "ols_trainMSE = train_MSE[:, n_ind, noise_ind, r_ind, 0, 0, 0]\n",
    "\n",
    "fig, ax = plt.subplots()\n",
    "ax.plot(order, ols_testMSE, 'k')\n",
    "ax.plot(order, ols_trainMSE, 'b')"
   ]
  },
  {
   "cell_type": "code",
   "execution_count": 31,
   "id": "b5e1b7f8",
   "metadata": {
    "ExecuteTime": {
     "end_time": "2021-11-29T16:23:56.967764Z",
     "start_time": "2021-11-29T16:23:56.879193Z"
    }
   },
   "outputs": [
    {
     "data": {
      "text/plain": [
       "[<matplotlib.lines.Line2D at 0x7f58906d4220>]"
      ]
     },
     "execution_count": 31,
     "metadata": {},
     "output_type": "execute_result"
    },
    {
     "data": {
      "image/png": "[encoded data removed]",
      "text/plain": [
       "<Figure size 432x288 with 1 Axes>"
      ]
     },
     "metadata": {
      "needs_background": "light"
     },
     "output_type": "display_data"
    }
   ],
   "source": [
    "r_ind = 1 # r=0.1\n",
    "n_ind = 3 # n=100\n",
    "noise_ind = 2 #noise variance = 0.5\n",
    "ols_bias = test_bias[:, n_ind, noise_ind, r_ind, 0, 0, 0]\n",
    "ols_var = test_var[:, n_ind, noise_ind, r_ind, 0, 0, 0]\n",
    "\n",
    "fig, ax = plt.subplots()\n",
    "ax.plot(order, ols_bias, 'k')\n",
    "ax.plot(order, ols_var, 'b')"
   ]
  },
  {
   "cell_type": "code",
   "execution_count": 32,
   "id": "5a7d30ca",
   "metadata": {
    "ExecuteTime": {
     "end_time": "2021-11-29T16:23:59.115233Z",
     "start_time": "2021-11-29T16:23:58.979026Z"
    }
   },
   "outputs": [
    {
     "data": {
      "text/plain": [
       "<matplotlib.legend.Legend at 0x7f58c83ee610>"
      ]
     },
     "execution_count": 32,
     "metadata": {},
     "output_type": "execute_result"
    },
    {
     "data": {
      "image/png": "[encoded data removed]",
      "text/plain": [
       "<Figure size 432x288 with 1 Axes>"
      ]
     },
     "metadata": {
      "needs_background": "light"
     },
     "output_type": "display_data"
    }
   ],
   "source": [
    "r_ind = 1 # r=0.1\n",
    "n_ind = 3 # n=100\n",
    "noise_ind = 2 #noise variance = 0.5\n",
    "ols_testMSE = test_MSE[:, n_ind, noise_ind, r_ind, 0, 0, 0]\n",
    "ols_trainMSE = train_MSE[:, n_ind, noise_ind, r_ind, 0, 0, 0]\n",
    "\n",
    "fig, ax = plt.subplots()\n",
    "ax.plot(order, ols_testMSE, 'k', label=\"testMSE\")\n",
    "ax.plot(order, ols_trainMSE, 'b', label=\"trainMSE\")\n",
    "ax.legend()"
   ]
  }
 ],
 "metadata": {
  "kernelspec": {
   "display_name": "Python 3 (ipykernel)",
   "language": "python",
   "name": "python3"
  },
  "language_info": {
   "codemirror_mode": {
    "name": "ipython",
    "version": 3
   },
   "file_extension": ".py",
   "mimetype": "text/x-python",
   "name": "python",
   "nbconvert_exporter": "python",
   "pygments_lexer": "ipython3",
   "version": "3.8.10"
  },
  "toc": {
   "base_numbering": 1,
   "nav_menu": {},
   "number_sections": true,
   "sideBar": true,
   "skip_h1_title": false,
   "title_cell": "Table of Contents",
   "title_sidebar": "Contents",
   "toc_cell": false,
   "toc_position": {
    "height": "calc(100% - 180px)",
    "left": "10px",
    "top": "150px",
    "width": "384px"
   },
   "toc_section_display": true,
   "toc_window_display": true
  },
  "varInspector": {
   "cols": {
    "lenName": 16,
    "lenType": 16,
    "lenVar": 40
   },
   "kernels_config": {
    "python": {
     "delete_cmd_postfix": "",
     "delete_cmd_prefix": "del ",
     "library": "var_list.py",
     "varRefreshCmd": "print(var_dic_list())"
    },
    "r": {
     "delete_cmd_postfix": ") ",
     "delete_cmd_prefix": "rm(",
     "library": "var_list.r",
     "varRefreshCmd": "cat(var_dic_list()) "
    }
   },
   "types_to_exclude": [
    "module",
    "function",
    "builtin_function_or_method",
    "instance",
    "_Feature"
   ],
   "window_display": false
  }
 },
 "nbformat": 4,
 "nbformat_minor": 5
}
