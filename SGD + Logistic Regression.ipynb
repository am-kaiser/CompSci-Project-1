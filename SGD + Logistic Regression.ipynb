{
 "cells": [
  {
   "cell_type": "code",
   "execution_count": 30,
   "id": "5fa49cbc",
   "metadata": {},
   "outputs": [],
   "source": [
    "'''\n",
    "OLS grad => (2/len(yi))*xi.T @((xi @ theta) - yi)\n",
    "Ridge grad => (2/len(yi))*X.T @ (X @ (theta)-y)+2*lmbda*theta\n",
    "'''\n",
    "\n",
    "def learning_schedule(t):\n",
    "    return t0/(t + t1)\n",
    "\n",
    "def SGD(xi,yi,theta,eta,lmbda = 0.001):\n",
    "    #grad = (2/len(yi))*xi.T @((xi @ theta) - yi)\n",
    "    grad = (2/len(yi))*X.T @ (X @ (theta)-y)+2*lmbda*theta\n",
    "    theta = theta - eta*grad \n",
    "    return theta\n",
    "\n",
    "def SGDmomentum(xi,yi,theta,eta,momentum=0.9,lmbda=0.001):\n",
    "    vt = np.zeros((xi.shape[1],yi.shape[1]))\n",
    "    #gt = 2*xi.T @((xi @ theta) - yi)\n",
    "    gt = (2/len(yi))*X.T @ (X @ (theta)-y)+2*lmbda*theta\n",
    "    vt = momentum*vt + eta*gt\n",
    "    theta = theta - vt\n",
    "    return theta\n",
    "\n",
    "def RMSprop(xi,yi,theta,st,eta=1e-3,beta=0.9,eps=1e-8,lmbda = 0.001):\n",
    "    #gt = 2*xi.T @((xi @ theta) - yi)\n",
    "    gt = (2/len(yi))*X.T @ (X @ (theta)-y)+2*lmbda*theta\n",
    "    st = beta*st + (1-beta)*gt*gt\n",
    "    theta = theta - eta*gt/(np.sqrt(st + eps))\n",
    "    return theta, st\n",
    "\n",
    "def ADAM(xi,yi,theta,t,mt,st,eta,beta1=0.90,beta2=0.99,eps=1e-7,lmbda = 0.001):\n",
    "    #gt = 2*xi.T @((xi @ theta) - yi)\n",
    "    gt = (2/len(yi))*X.T @ (X @ (theta)-y)+2*lmbda*theta\n",
    "    mt = beta1*mt + (1-beta1)*gt\n",
    "    st = beta2*st + (1-beta2)*gt*gt \n",
    "    mt = mt/(1-beta1**t)\n",
    "    st = st/(1-beta2**t)\n",
    "    theta = theta - eta*mt/(np.sqrt(st)+eps)\n",
    "    return theta, mt, st"
   ]
  },
  {
   "cell_type": "code",
   "execution_count": 49,
   "id": "62eacf23",
   "metadata": {},
   "outputs": [
    {
     "name": "stdout",
     "output_type": "stream",
     "text": [
      "[[4.3568234 ]\n",
      " [3.00349114]]\n"
     ]
    }
   ],
   "source": [
    "import numpy as np \n",
    "from sklearn.utils import resample\n",
    "\n",
    "# Stochastic Gradient Descent \n",
    "\n",
    "n = 300 # num of data points \n",
    "x = 2*np.random.randn(m,1)\n",
    "y = 4+3*x + np.random.randn(m,1)\n",
    "X = np.zeros((m,2))\n",
    "\n",
    "X[:,0] = 1 \n",
    "X[:,1] = x.flatten()\n",
    "\n",
    "theta = np.random.randn(2,1)\n",
    "\n",
    "\n",
    "\n",
    "n_epochs = 10000\n",
    "M = 5 # size of each minibatch \n",
    "m = int(n/M) # num of minibatches \n",
    "\n",
    "t0, t1 = 5, 50\n",
    "\n",
    "# initialization\n",
    "mt = np.zeros((2,1))\n",
    "st = np.zeros((2,1))\n",
    "t = 0  \n",
    "\n",
    "# shuffle the data \n",
    "X, y = resample(X,y)\n",
    "for epoch in range(n_epochs):\n",
    "    for i in range(m):\n",
    "        random_index = np.random.randint(m)\n",
    "        xi = X[random_index:random_index+M]\n",
    "        yi = y[random_index:random_index+M]\n",
    "        \n",
    "        eta = learning_schedule(epoch*m + i)\n",
    "        t = t + 1\n",
    "        #theta = SGDmomentum(xi,yi,theta,eta)\n",
    "        #theta = SGD(xi,yi,theta,eta)\n",
    "        theta, st = RMSprop(xi,yi,theta,st,eta)\n",
    "        theta, mt, st = ADAM(xi,yi,theta,t,mt,st,eta)\n",
    "\n",
    "print(theta)"
   ]
  },
  {
   "cell_type": "code",
   "execution_count": null,
   "id": "3159c7b8",
   "metadata": {},
   "outputs": [],
   "source": []
  }
 ],
 "metadata": {
  "kernelspec": {
   "display_name": "Python 3 (ipykernel)",
   "language": "python",
   "name": "python3"
  },
  "language_info": {
   "codemirror_mode": {
    "name": "ipython",
    "version": 3
   },
   "file_extension": ".py",
   "mimetype": "text/x-python",
   "name": "python",
   "nbconvert_exporter": "python",
   "pygments_lexer": "ipython3",
   "version": "3.7.12"
  },
  "toc": {
   "base_numbering": 1,
   "nav_menu": {},
   "number_sections": true,
   "sideBar": true,
   "skip_h1_title": false,
   "title_cell": "Table of Contents",
   "title_sidebar": "Contents",
   "toc_cell": false,
   "toc_position": {},
   "toc_section_display": true,
   "toc_window_display": false
  }
 },
 "nbformat": 4,
 "nbformat_minor": 5
}
